{
  "cells": [
    {
      "cell_type": "markdown",
      "metadata": {
        "id": "lJV9TBstVRkI"
      },
      "source": [
        "# Machine Learning y Data Analytics - HW 2"
      ]
    },
    {
      "cell_type": "markdown",
      "metadata": {
        "id": "YNsEqllbBqED"
      },
      "source": [
        "## Generamos los vectores base"
      ]
    },
    {
      "cell_type": "code",
      "execution_count": 3,
      "metadata": {
        "id": "Qbpm6vokERuv"
      },
      "outputs": [],
      "source": [
        "import numpy as np\n",
        "import plotly.graph_objects as go"
      ]
    },
    {
      "cell_type": "code",
      "execution_count": 4,
      "metadata": {
        "colab": {
          "base_uri": "https://localhost:8080/"
        },
        "id": "-on4DINrBqEE",
        "outputId": "7680c44f-20f0-4921-f2c2-04e65494fd3f"
      },
      "outputs": [
        {
          "name": "stdout",
          "output_type": "stream",
          "text": [
            "Vector x1: [ 0.33525491 -0.02060358 -0.62276894]\n",
            "Vector x2: [-0.94237909  0.18618662  0.24520866]\n"
          ]
        }
      ],
      "source": [
        "x1 = np.random.uniform(-1, 1, 3)\n",
        "x2 = np.random.uniform(-1, 1, 3)\n",
        "\n",
        "print(\"Vector x1:\", x1)\n",
        "print(\"Vector x2:\", x2)"
      ]
    },
    {
      "cell_type": "markdown",
      "metadata": {
        "id": "MDF-j8T8BqEF"
      },
      "source": [
        "## Aplicación del proceso de Gram-Schmidt (base ortogonal) + Normalización (base ortonormal)"
      ]
    },
    {
      "cell_type": "code",
      "execution_count": 5,
      "metadata": {
        "colab": {
          "base_uri": "https://localhost:8080/"
        },
        "id": "fs96qDeABqEF",
        "outputId": "282b69e9-a3e2-451d-e9c3-5cf08e2a584a"
      },
      "outputs": [
        {
          "name": "stdout",
          "output_type": "stream",
          "text": [
            "\n",
            "Verificación de normas y ortogonalidad:\n",
            "Norma de e1: 1.0\n",
            "Norma de e2: 1.0\n",
            "Producto escalar e1 · e2 (debe ser ≈ 0): 5.551115123125783e-17\n"
          ]
        }
      ],
      "source": [
        "# Paso 1: v1 = x1\n",
        "v1 = x1\n",
        "\n",
        "# Paso 2: v2 = x2 proyectado ortogonalmente a v1\n",
        "proj = np.dot(x2, v1) / np.dot(v1, v1) * v1\n",
        "v2 = x2 - proj\n",
        "\n",
        "# Paso 3: Normalización para obtener base ortonormal\n",
        "e1 = v1 / np.linalg.norm(v1)\n",
        "e2 = v2 / np.linalg.norm(v2)\n",
        "\n",
        "# ===== Verificaciones numéricas =====\n",
        "print(\"\\nVerificación de normas y ortogonalidad:\")\n",
        "print(f\"Norma de e1: {np.linalg.norm(e1)}\")\n",
        "print(f\"Norma de e2: {np.linalg.norm(e2)}\")\n",
        "print(f\"Producto escalar e1 · e2 (debe ser ≈ 0): {np.dot(e1, e2)}\")\n"
      ]
    },
    {
      "cell_type": "markdown",
      "metadata": {
        "id": "BBrhJxNSViUk"
      },
      "source": [
        "## Graficamos de forma Interactiva"
      ]
    },
    {
      "cell_type": "code",
      "execution_count": 6,
      "metadata": {
        "colab": {
          "base_uri": "https://localhost:8080/",
          "height": 542
        },
        "id": "STHwYaUDNEwI",
        "outputId": "864a6231-63fa-4cb9-aeb9-2d66db362c19"
      },
      "outputs": [
        {
          "data": {
            "application/vnd.plotly.v1+json": {
              "config": {
                "plotlyServerURL": "https://plot.ly"
              },
              "data": [
                {
                  "line": {
                    "color": "red",
                    "width": 6
                  },
                  "marker": {
                    "size": 4
                  },
                  "mode": "lines+markers",
                  "name": "x1",
                  "type": "scatter3d",
                  "x": [
                    0,
                    0.335254908581184
                  ],
                  "y": [
                    0,
                    -0.02060358364845616
                  ],
                  "z": [
                    0,
                    -0.6227689386974855
                  ]
                },
                {
                  "line": {
                    "color": "green",
                    "width": 6
                  },
                  "marker": {
                    "size": 4
                  },
                  "mode": "lines+markers",
                  "name": "x2",
                  "type": "scatter3d",
                  "x": [
                    0,
                    -0.9423790870426092
                  ],
                  "y": [
                    0,
                    0.18618662002576647
                  ],
                  "z": [
                    0,
                    0.24520865682076987
                  ]
                },
                {
                  "line": {
                    "color": "blue",
                    "width": 6
                  },
                  "marker": {
                    "size": 4
                  },
                  "mode": "lines+markers",
                  "name": "e1 (ortonormal)",
                  "type": "scatter3d",
                  "x": [
                    0,
                    0.47380871183322126
                  ],
                  "y": [
                    0,
                    -0.02911861147369023
                  ],
                  "z": [
                    0,
                    -0.8801462441303649
                  ]
                },
                {
                  "line": {
                    "color": "purple",
                    "width": 6
                  },
                  "marker": {
                    "size": 4
                  },
                  "mode": "lines+markers",
                  "name": "e2 (ortonormal)",
                  "type": "scatter3d",
                  "x": [
                    0,
                    -0.8542596435814924
                  ],
                  "y": [
                    0,
                    0.22754459816391662
                  ],
                  "z": [
                    0,
                    -0.46740123790426924
                  ]
                },
                {
                  "colorscale": [
                    [
                      0,
                      "rgb(255,255,204)"
                    ],
                    [
                      0.125,
                      "rgb(255,237,160)"
                    ],
                    [
                      0.25,
                      "rgb(254,217,118)"
                    ],
                    [
                      0.375,
                      "rgb(254,178,76)"
                    ],
                    [
                      0.5,
                      "rgb(253,141,60)"
                    ],
                    [
                      0.625,
                      "rgb(252,78,42)"
                    ],
                    [
                      0.75,
                      "rgb(227,26,28)"
                    ],
                    [
                      0.875,
                      "rgb(189,0,38)"
                    ],
                    [
                      1,
                      "rgb(128,0,38)"
                    ]
                  ],
                  "name": "Span de x1 y x2",
                  "opacity": 0.5,
                  "type": "surface",
                  "x": {
                    "bdata": "Okljr49t4z8ryfLL38/lPxxJgugvMug/DMkRBYCU6j/9SKEh0PbsP+/IMD4gWe8/cCRgLbjd8D9o5Kc74A7yP2Ck70kIQPM/WWQ3WDBx9D8kOe1lBnTZPwY5DJ+mON4/dJwVbKN+4T9kHKWI8+DjP1WcNKVDQ+Y/RxzEwZOl6D83nFPe4wfrPygc4/ozau0/GZxyF4TM7z8FDgEaahfxP6S/J9raGcg/tN8ypo3R0D+W31HfLZbVP3ffcBjOWto/Wd+PUW4f3z+eb1dFB/LhP47v5mFXVOQ/f292fqe25j9w7wWb9xjpP2FvlbdHe+s/4JdXvLiilb8gM8xqpVOrP4sM8cwpXsA/TgwvP2rnyT8JhrZYVbjRP+uF1ZH1fNY/zIX0ypVB2z/XwgkCGwPgP8hCmR5rZeI/ucIoO7vH5D+epT0JiYLNv9ql/5ZI+cO/LUyDSRDgtL9wynRQ9th8v+CydH/xRLE/NVn4Mbkrwj/3WDak+bTLP10sOgsdn9I/PyxZRL1j1z8hLHh9XSjcPyEseH1dKNy/PyxZRL1j179eLDoLHZ/Sv/hYNqT5tMu/NVn4Mbkrwr/gsnR/8USxv0DKdFD22Hw/KUyDSRDgtD/apf+WSPnDP56lPQmJgs0/uMIoO7vH5L/HQpkea2Xiv9bCCQIbA+C/y4X0ypVB27/phdWR9XzWvweGtlhVuNG/TAwvP2rnyb+JDPHMKV7AvxAzzGqlU6u/AJhXvLiilT9fb5W3R3vrv27vBZv3GOm/fW92fqe25r+M7+ZhV1Tkv5xvV0UH8uG/Vd+PUW4f379033AYzlrav5LfUd8tltW/sN8ypo3R0L+cvyfa2hnIvwQOARpqF/G/GJxyF4TM778nHOP6M2rtvzacU97jB+u/RhzEwZOl6L9UnDSlQ0Pmv2QcpYjz4OO/c5wVbKN+4b8EOQyfpjjevyI57WUGdNm/WWQ3WDBx9L9gpO9JCEDzv2jkpzvgDvK/cCRgLbjd8L/vyDA+IFnvv/1IoSHQ9uy/DckRBYCU6r8cSYLoLzLovyvJ8svfz+W/Okljr49t478=",
                    "dtype": "f8",
                    "shape": "10, 10"
                  },
                  "y": {
                    "bdata": "kKcBL9Mxxb8JsRwM28fFv4K6N+niXca/+8NSxurzxr90zW2j8onHv+zWiID6H8i/ZeCjXQK2yL/e6b46CkzJv1fz2RcS4sm/0Pz09Bl4yr98YwVWHMy/vze7HQgWfMC/sMQ45R0Swb8pzlPCJajBv6LXbp8tPsK/GuGJfDXUwr+T6qRZPWrDvwz0vzZFAMS/hf3aE02WxL/+BvbwVCzFv9l3B06SNLW/y4o9CKJgtr+8nXPCsYy3v66wqXzBuLi/oMPfNtHkub+S1hXx4BC7v4TpS6vwPLy/dfyBZQBpvb9nD7gfEJW+v1ki7tkfwb+/bBgTjBA6pb9QPn8AMJKnvzNk63RP6qm/FopX6W5CrL/6r8Ndjpquv+/qF+lWebC/4f1No2alsb/SEIRddtGyv8QjuheG/bO/tjbw0ZUptb8ASoIu+PgVv0Q4G4TfGHO/sDO+k+3sgr8+y25la02Mv2axj5v01pK/Lv1nhDOHl7/0SEBtcjecv11KDKvYc6C/QXB4H/jLor8lluSTFySlvyWW5JMXJKU/QnB4H/jLoj9eSgyr2HOgP/VIQG1yN5w/Lv1nhDOHlz9msY+b9NaSP0DLbmVrTYw/szO+k+3sgj9IOBuE3xhzPwBKgi74+BU/tDbw0ZUptT/DI7oXhv2zP9EQhF120bI/3/1No2alsT/t6hfpVnmwP/evw12Omq4/FIpX6W5CrD8xZOt0T+qpP00+fwAwkqc/aRgTjBA6pT9WIu7ZH8G/P2QPuB8Qlb4/cvyBZQBpvT+B6Uur8Dy8P4/WFfHgELs/ncPfNtHkuT+rsKl8wbi4P7qdc8KxjLc/yIo9CKJgtj/WdwdOkjS1P/4G9vBULMU/hf3aE02WxD8M9L82RQDEP5PqpFk9asM/GuGJfDXUwj+i126fLT7CPynOU8IlqME/sMQ45R0SwT83ux0IFnzAP3xjBVYczL8/0Pz09Bl4yj9X89kXEuLJP97pvjoKTMk/ZeCjXQK2yD/s1oiA+h/IP3TNbaPyicc/+8NSxurzxj+Cujfp4l3GPwmxHAzbx8U/kKcBL9MxxT8=",
                    "dtype": "f8",
                    "shape": "10, 10"
                  },
                  "z": {
                    "bdata": "UHW7mfIp2D/+vJzBB53OP7gehZ9UzLk/FHleiMxCo7/my/GTkIfGv8X85QI3H9S/lBPTu6X63L8yFWA6Cuviv5ug1pbBWOe/BCxN83jG679IAEaiuabbP3fpWOlKy9I/TKXXYLjfwz9Yvet310aRP+xruQUFHL+/zXFb+m+i0L+ciEiz3n3Zv7bPGramLOG/H1uREl6a5b+I5gdvFQjqv0CL0KqAI98/b3Tj8RFI1j88u+xxRtnKPzYbJQDSRLI/DECP4+gosb+qzaHjUUvKv6T9vaoXAda/dBSrY4bc3r+jFUyO+tvjvwyhwuqxSei/HIut2SNQ4T9n/2362MTZP5bogEFq6dA/iqMnEfcbwD9ooSgLZq6Jv7q3jNLDUcO/rXIzolCE0r98iSBbv1/bvyfQBgqXHeK/kFt9Zk6L5r+Y0PJdhw7jP1+K+AKgQd0/jnMLSjFm1D97uTwihRXHP2YvisGeeqU/lUPvgmuwuL9pz1EzEw/Ov4T+lVL44te/q4rBhTNf4L8UFjji6szkvxQWOOLqzOQ/rIrBhTNf4D+G/pVS+OLXP2vPUTMTD84/lUPvgmuwuD9mL4rBnnqlv3m5PCKFFce/jHMLSjFm1L9eivgCoEHdv5jQ8l2HDuO/kFt9Zk6L5j8n0AYKlx3iP36JIFu/X9s/rXIzolCE0j+6t4zSw1HDP1ihKAtmrok/iqMnEfcbwL+U6IBBaunQv2b/bfrYxNm/HIut2SNQ4b8MocLqsUnoP6MVTI762+M/dRSrY4bc3j+k/b2qFwHWP6jNoeNRS8o/CECP4+gosT82GyUA0kSyvzq77HFG2cq/b3Tj8RFI1r9Bi9CqgCPfv4jmB28VCOo/H1uREl6a5T+3zxq2pizhP52ISLPefdk/zHFb+m+i0D/qa7kFBRy/P1C963fXRpG/SaXXYLjfw7926VjpSsvSv0gARqK5ptu/BCxN83jG6z+coNaWwVjnPzMVYDoK6+I/lhPTu6X63D/F/OUCNx/UP+bL8ZOQh8Y/HHleiMxCoz+wHoWfVMy5v/y8nMEHnc6/UHW7mfIp2L8=",
                    "dtype": "f8",
                    "shape": "10, 10"
                  }
                }
              ],
              "layout": {
                "scene": {
                  "xaxis": {
                    "title": {
                      "text": "X"
                    }
                  },
                  "yaxis": {
                    "title": {
                      "text": "Y"
                    }
                  },
                  "zaxis": {
                    "title": {
                      "text": "Z"
                    }
                  }
                },
                "template": {
                  "data": {
                    "bar": [
                      {
                        "error_x": {
                          "color": "#2a3f5f"
                        },
                        "error_y": {
                          "color": "#2a3f5f"
                        },
                        "marker": {
                          "line": {
                            "color": "#E5ECF6",
                            "width": 0.5
                          },
                          "pattern": {
                            "fillmode": "overlay",
                            "size": 10,
                            "solidity": 0.2
                          }
                        },
                        "type": "bar"
                      }
                    ],
                    "barpolar": [
                      {
                        "marker": {
                          "line": {
                            "color": "#E5ECF6",
                            "width": 0.5
                          },
                          "pattern": {
                            "fillmode": "overlay",
                            "size": 10,
                            "solidity": 0.2
                          }
                        },
                        "type": "barpolar"
                      }
                    ],
                    "carpet": [
                      {
                        "aaxis": {
                          "endlinecolor": "#2a3f5f",
                          "gridcolor": "white",
                          "linecolor": "white",
                          "minorgridcolor": "white",
                          "startlinecolor": "#2a3f5f"
                        },
                        "baxis": {
                          "endlinecolor": "#2a3f5f",
                          "gridcolor": "white",
                          "linecolor": "white",
                          "minorgridcolor": "white",
                          "startlinecolor": "#2a3f5f"
                        },
                        "type": "carpet"
                      }
                    ],
                    "choropleth": [
                      {
                        "colorbar": {
                          "outlinewidth": 0,
                          "ticks": ""
                        },
                        "type": "choropleth"
                      }
                    ],
                    "contour": [
                      {
                        "colorbar": {
                          "outlinewidth": 0,
                          "ticks": ""
                        },
                        "colorscale": [
                          [
                            0,
                            "#0d0887"
                          ],
                          [
                            0.1111111111111111,
                            "#46039f"
                          ],
                          [
                            0.2222222222222222,
                            "#7201a8"
                          ],
                          [
                            0.3333333333333333,
                            "#9c179e"
                          ],
                          [
                            0.4444444444444444,
                            "#bd3786"
                          ],
                          [
                            0.5555555555555556,
                            "#d8576b"
                          ],
                          [
                            0.6666666666666666,
                            "#ed7953"
                          ],
                          [
                            0.7777777777777778,
                            "#fb9f3a"
                          ],
                          [
                            0.8888888888888888,
                            "#fdca26"
                          ],
                          [
                            1,
                            "#f0f921"
                          ]
                        ],
                        "type": "contour"
                      }
                    ],
                    "contourcarpet": [
                      {
                        "colorbar": {
                          "outlinewidth": 0,
                          "ticks": ""
                        },
                        "type": "contourcarpet"
                      }
                    ],
                    "heatmap": [
                      {
                        "colorbar": {
                          "outlinewidth": 0,
                          "ticks": ""
                        },
                        "colorscale": [
                          [
                            0,
                            "#0d0887"
                          ],
                          [
                            0.1111111111111111,
                            "#46039f"
                          ],
                          [
                            0.2222222222222222,
                            "#7201a8"
                          ],
                          [
                            0.3333333333333333,
                            "#9c179e"
                          ],
                          [
                            0.4444444444444444,
                            "#bd3786"
                          ],
                          [
                            0.5555555555555556,
                            "#d8576b"
                          ],
                          [
                            0.6666666666666666,
                            "#ed7953"
                          ],
                          [
                            0.7777777777777778,
                            "#fb9f3a"
                          ],
                          [
                            0.8888888888888888,
                            "#fdca26"
                          ],
                          [
                            1,
                            "#f0f921"
                          ]
                        ],
                        "type": "heatmap"
                      }
                    ],
                    "histogram": [
                      {
                        "marker": {
                          "pattern": {
                            "fillmode": "overlay",
                            "size": 10,
                            "solidity": 0.2
                          }
                        },
                        "type": "histogram"
                      }
                    ],
                    "histogram2d": [
                      {
                        "colorbar": {
                          "outlinewidth": 0,
                          "ticks": ""
                        },
                        "colorscale": [
                          [
                            0,
                            "#0d0887"
                          ],
                          [
                            0.1111111111111111,
                            "#46039f"
                          ],
                          [
                            0.2222222222222222,
                            "#7201a8"
                          ],
                          [
                            0.3333333333333333,
                            "#9c179e"
                          ],
                          [
                            0.4444444444444444,
                            "#bd3786"
                          ],
                          [
                            0.5555555555555556,
                            "#d8576b"
                          ],
                          [
                            0.6666666666666666,
                            "#ed7953"
                          ],
                          [
                            0.7777777777777778,
                            "#fb9f3a"
                          ],
                          [
                            0.8888888888888888,
                            "#fdca26"
                          ],
                          [
                            1,
                            "#f0f921"
                          ]
                        ],
                        "type": "histogram2d"
                      }
                    ],
                    "histogram2dcontour": [
                      {
                        "colorbar": {
                          "outlinewidth": 0,
                          "ticks": ""
                        },
                        "colorscale": [
                          [
                            0,
                            "#0d0887"
                          ],
                          [
                            0.1111111111111111,
                            "#46039f"
                          ],
                          [
                            0.2222222222222222,
                            "#7201a8"
                          ],
                          [
                            0.3333333333333333,
                            "#9c179e"
                          ],
                          [
                            0.4444444444444444,
                            "#bd3786"
                          ],
                          [
                            0.5555555555555556,
                            "#d8576b"
                          ],
                          [
                            0.6666666666666666,
                            "#ed7953"
                          ],
                          [
                            0.7777777777777778,
                            "#fb9f3a"
                          ],
                          [
                            0.8888888888888888,
                            "#fdca26"
                          ],
                          [
                            1,
                            "#f0f921"
                          ]
                        ],
                        "type": "histogram2dcontour"
                      }
                    ],
                    "mesh3d": [
                      {
                        "colorbar": {
                          "outlinewidth": 0,
                          "ticks": ""
                        },
                        "type": "mesh3d"
                      }
                    ],
                    "parcoords": [
                      {
                        "line": {
                          "colorbar": {
                            "outlinewidth": 0,
                            "ticks": ""
                          }
                        },
                        "type": "parcoords"
                      }
                    ],
                    "pie": [
                      {
                        "automargin": true,
                        "type": "pie"
                      }
                    ],
                    "scatter": [
                      {
                        "fillpattern": {
                          "fillmode": "overlay",
                          "size": 10,
                          "solidity": 0.2
                        },
                        "type": "scatter"
                      }
                    ],
                    "scatter3d": [
                      {
                        "line": {
                          "colorbar": {
                            "outlinewidth": 0,
                            "ticks": ""
                          }
                        },
                        "marker": {
                          "colorbar": {
                            "outlinewidth": 0,
                            "ticks": ""
                          }
                        },
                        "type": "scatter3d"
                      }
                    ],
                    "scattercarpet": [
                      {
                        "marker": {
                          "colorbar": {
                            "outlinewidth": 0,
                            "ticks": ""
                          }
                        },
                        "type": "scattercarpet"
                      }
                    ],
                    "scattergeo": [
                      {
                        "marker": {
                          "colorbar": {
                            "outlinewidth": 0,
                            "ticks": ""
                          }
                        },
                        "type": "scattergeo"
                      }
                    ],
                    "scattergl": [
                      {
                        "marker": {
                          "colorbar": {
                            "outlinewidth": 0,
                            "ticks": ""
                          }
                        },
                        "type": "scattergl"
                      }
                    ],
                    "scattermap": [
                      {
                        "marker": {
                          "colorbar": {
                            "outlinewidth": 0,
                            "ticks": ""
                          }
                        },
                        "type": "scattermap"
                      }
                    ],
                    "scattermapbox": [
                      {
                        "marker": {
                          "colorbar": {
                            "outlinewidth": 0,
                            "ticks": ""
                          }
                        },
                        "type": "scattermapbox"
                      }
                    ],
                    "scatterpolar": [
                      {
                        "marker": {
                          "colorbar": {
                            "outlinewidth": 0,
                            "ticks": ""
                          }
                        },
                        "type": "scatterpolar"
                      }
                    ],
                    "scatterpolargl": [
                      {
                        "marker": {
                          "colorbar": {
                            "outlinewidth": 0,
                            "ticks": ""
                          }
                        },
                        "type": "scatterpolargl"
                      }
                    ],
                    "scatterternary": [
                      {
                        "marker": {
                          "colorbar": {
                            "outlinewidth": 0,
                            "ticks": ""
                          }
                        },
                        "type": "scatterternary"
                      }
                    ],
                    "surface": [
                      {
                        "colorbar": {
                          "outlinewidth": 0,
                          "ticks": ""
                        },
                        "colorscale": [
                          [
                            0,
                            "#0d0887"
                          ],
                          [
                            0.1111111111111111,
                            "#46039f"
                          ],
                          [
                            0.2222222222222222,
                            "#7201a8"
                          ],
                          [
                            0.3333333333333333,
                            "#9c179e"
                          ],
                          [
                            0.4444444444444444,
                            "#bd3786"
                          ],
                          [
                            0.5555555555555556,
                            "#d8576b"
                          ],
                          [
                            0.6666666666666666,
                            "#ed7953"
                          ],
                          [
                            0.7777777777777778,
                            "#fb9f3a"
                          ],
                          [
                            0.8888888888888888,
                            "#fdca26"
                          ],
                          [
                            1,
                            "#f0f921"
                          ]
                        ],
                        "type": "surface"
                      }
                    ],
                    "table": [
                      {
                        "cells": {
                          "fill": {
                            "color": "#EBF0F8"
                          },
                          "line": {
                            "color": "white"
                          }
                        },
                        "header": {
                          "fill": {
                            "color": "#C8D4E3"
                          },
                          "line": {
                            "color": "white"
                          }
                        },
                        "type": "table"
                      }
                    ]
                  },
                  "layout": {
                    "annotationdefaults": {
                      "arrowcolor": "#2a3f5f",
                      "arrowhead": 0,
                      "arrowwidth": 1
                    },
                    "autotypenumbers": "strict",
                    "coloraxis": {
                      "colorbar": {
                        "outlinewidth": 0,
                        "ticks": ""
                      }
                    },
                    "colorscale": {
                      "diverging": [
                        [
                          0,
                          "#8e0152"
                        ],
                        [
                          0.1,
                          "#c51b7d"
                        ],
                        [
                          0.2,
                          "#de77ae"
                        ],
                        [
                          0.3,
                          "#f1b6da"
                        ],
                        [
                          0.4,
                          "#fde0ef"
                        ],
                        [
                          0.5,
                          "#f7f7f7"
                        ],
                        [
                          0.6,
                          "#e6f5d0"
                        ],
                        [
                          0.7,
                          "#b8e186"
                        ],
                        [
                          0.8,
                          "#7fbc41"
                        ],
                        [
                          0.9,
                          "#4d9221"
                        ],
                        [
                          1,
                          "#276419"
                        ]
                      ],
                      "sequential": [
                        [
                          0,
                          "#0d0887"
                        ],
                        [
                          0.1111111111111111,
                          "#46039f"
                        ],
                        [
                          0.2222222222222222,
                          "#7201a8"
                        ],
                        [
                          0.3333333333333333,
                          "#9c179e"
                        ],
                        [
                          0.4444444444444444,
                          "#bd3786"
                        ],
                        [
                          0.5555555555555556,
                          "#d8576b"
                        ],
                        [
                          0.6666666666666666,
                          "#ed7953"
                        ],
                        [
                          0.7777777777777778,
                          "#fb9f3a"
                        ],
                        [
                          0.8888888888888888,
                          "#fdca26"
                        ],
                        [
                          1,
                          "#f0f921"
                        ]
                      ],
                      "sequentialminus": [
                        [
                          0,
                          "#0d0887"
                        ],
                        [
                          0.1111111111111111,
                          "#46039f"
                        ],
                        [
                          0.2222222222222222,
                          "#7201a8"
                        ],
                        [
                          0.3333333333333333,
                          "#9c179e"
                        ],
                        [
                          0.4444444444444444,
                          "#bd3786"
                        ],
                        [
                          0.5555555555555556,
                          "#d8576b"
                        ],
                        [
                          0.6666666666666666,
                          "#ed7953"
                        ],
                        [
                          0.7777777777777778,
                          "#fb9f3a"
                        ],
                        [
                          0.8888888888888888,
                          "#fdca26"
                        ],
                        [
                          1,
                          "#f0f921"
                        ]
                      ]
                    },
                    "colorway": [
                      "#636efa",
                      "#EF553B",
                      "#00cc96",
                      "#ab63fa",
                      "#FFA15A",
                      "#19d3f3",
                      "#FF6692",
                      "#B6E880",
                      "#FF97FF",
                      "#FECB52"
                    ],
                    "font": {
                      "color": "#2a3f5f"
                    },
                    "geo": {
                      "bgcolor": "white",
                      "lakecolor": "white",
                      "landcolor": "#E5ECF6",
                      "showlakes": true,
                      "showland": true,
                      "subunitcolor": "white"
                    },
                    "hoverlabel": {
                      "align": "left"
                    },
                    "hovermode": "closest",
                    "mapbox": {
                      "style": "light"
                    },
                    "paper_bgcolor": "white",
                    "plot_bgcolor": "#E5ECF6",
                    "polar": {
                      "angularaxis": {
                        "gridcolor": "white",
                        "linecolor": "white",
                        "ticks": ""
                      },
                      "bgcolor": "#E5ECF6",
                      "radialaxis": {
                        "gridcolor": "white",
                        "linecolor": "white",
                        "ticks": ""
                      }
                    },
                    "scene": {
                      "xaxis": {
                        "backgroundcolor": "#E5ECF6",
                        "gridcolor": "white",
                        "gridwidth": 2,
                        "linecolor": "white",
                        "showbackground": true,
                        "ticks": "",
                        "zerolinecolor": "white"
                      },
                      "yaxis": {
                        "backgroundcolor": "#E5ECF6",
                        "gridcolor": "white",
                        "gridwidth": 2,
                        "linecolor": "white",
                        "showbackground": true,
                        "ticks": "",
                        "zerolinecolor": "white"
                      },
                      "zaxis": {
                        "backgroundcolor": "#E5ECF6",
                        "gridcolor": "white",
                        "gridwidth": 2,
                        "linecolor": "white",
                        "showbackground": true,
                        "ticks": "",
                        "zerolinecolor": "white"
                      }
                    },
                    "shapedefaults": {
                      "line": {
                        "color": "#2a3f5f"
                      }
                    },
                    "ternary": {
                      "aaxis": {
                        "gridcolor": "white",
                        "linecolor": "white",
                        "ticks": ""
                      },
                      "baxis": {
                        "gridcolor": "white",
                        "linecolor": "white",
                        "ticks": ""
                      },
                      "bgcolor": "#E5ECF6",
                      "caxis": {
                        "gridcolor": "white",
                        "linecolor": "white",
                        "ticks": ""
                      }
                    },
                    "title": {
                      "x": 0.05
                    },
                    "xaxis": {
                      "automargin": true,
                      "gridcolor": "white",
                      "linecolor": "white",
                      "ticks": "",
                      "title": {
                        "standoff": 15
                      },
                      "zerolinecolor": "white",
                      "zerolinewidth": 2
                    },
                    "yaxis": {
                      "automargin": true,
                      "gridcolor": "white",
                      "linecolor": "white",
                      "ticks": "",
                      "title": {
                        "standoff": 15
                      },
                      "zerolinecolor": "white",
                      "zerolinewidth": 2
                    }
                  }
                },
                "title": {
                  "text": "Vectores x1, x2 y el plano de su span, junto con e1 y e2 ortonormales"
                }
              }
            }
          },
          "metadata": {},
          "output_type": "display_data"
        }
      ],
      "source": [
        "# 5. Creamos la malla para el plano correspondiente al span de x1 y x2\n",
        "s = np.linspace(-1, 1, 10)\n",
        "t = np.linspace(-1, 1, 10)\n",
        "S, T = np.meshgrid(s, t)\n",
        "# El plano se define como: P = s*x1 + t*x2\n",
        "X_plane = S * x1[0] + T * x2[0]\n",
        "Y_plane = S * x1[1] + T * x2[1]\n",
        "Z_plane = S * x1[2] + T * x2[2]\n",
        "\n",
        "plano = go.Surface(\n",
        "    x=X_plane,\n",
        "    y=Y_plane,\n",
        "    z=Z_plane,\n",
        "    colorscale='YlOrRd',\n",
        "    opacity=0.5,\n",
        "    name='Span de x1 y x2'\n",
        ")\n",
        "\n",
        "# Trazos para los vectores originales x1 y x2\n",
        "trace_x1 = go.Scatter3d(\n",
        "    x=[0, x1[0]], y=[0, x1[1]], z=[0, x1[2]],\n",
        "    mode='lines+markers',\n",
        "    line=dict(color='red', width=6),\n",
        "    marker=dict(size=4),\n",
        "    name='x1'\n",
        ")\n",
        "\n",
        "trace_x2 = go.Scatter3d(\n",
        "    x=[0, x2[0]], y=[0, x2[1]], z=[0, x2[2]],\n",
        "    mode='lines+markers',\n",
        "    line=dict(color='green', width=6),\n",
        "    marker=dict(size=4),\n",
        "    name='x2'\n",
        ")\n",
        "\n",
        "# Trazos para los vectores ortonormales e1 y e2\n",
        "trace_e1 = go.Scatter3d(\n",
        "    x=[0, e1[0]], y=[0, e1[1]], z=[0, e1[2]],\n",
        "    mode='lines+markers',\n",
        "    line=dict(color='blue', width=6),\n",
        "    marker=dict(size=4),\n",
        "    name='e1 (ortonormal)'\n",
        ")\n",
        "\n",
        "trace_e2 = go.Scatter3d(\n",
        "    x=[0, e2[0]], y=[0, e2[1]], z=[0, e2[2]],\n",
        "    mode='lines+markers',\n",
        "    line=dict(color='purple', width=6),\n",
        "    marker=dict(size=4),\n",
        "    name='e2 (ortonormal)'\n",
        ")\n",
        "\n",
        "# Creamos la figura e incluimos los trazos y el plano\n",
        "fig = go.Figure(data=[trace_x1, trace_x2, trace_e1, trace_e2, plano])\n",
        "fig.update_layout(\n",
        "    title='Vectores x1, x2 y el plano de su span, junto con e1 y e2 ortonormales',\n",
        "    scene=dict(\n",
        "        xaxis_title='X',\n",
        "        yaxis_title='Y',\n",
        "        zaxis_title='Z'\n",
        "    )\n",
        ")\n",
        "\n",
        "fig.show()\n"
      ]
    }
  ],
  "metadata": {
    "colab": {
      "provenance": []
    },
    "kernelspec": {
      "display_name": "POO-env",
      "language": "python",
      "name": "python3"
    },
    "language_info": {
      "codemirror_mode": {
        "name": "ipython",
        "version": 3
      },
      "file_extension": ".py",
      "mimetype": "text/x-python",
      "name": "python",
      "nbconvert_exporter": "python",
      "pygments_lexer": "ipython3",
      "version": "3.11.5"
    }
  },
  "nbformat": 4,
  "nbformat_minor": 0
}
