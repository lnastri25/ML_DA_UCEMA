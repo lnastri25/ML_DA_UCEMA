{
  "cells": [
    {
      "cell_type": "markdown",
      "metadata": {
        "id": "Yd0FlpsMV6Or"
      },
      "source": [
        "# HW5: Matrices simetricas y formas cuadraticas"
      ]
    },
    {
      "cell_type": "markdown",
      "metadata": {
        "id": "U0TXsWNaXx3F"
      },
      "source": [
        "## **I. MATRICES SIMETRICAS, SUS AUTOVALORES Y SUS AUTOVECTORES**\n",
        "\n"
      ]
    },
    {
      "cell_type": "code",
      "execution_count": null,
      "metadata": {
        "id": "vNyB-_iRVb98"
      },
      "outputs": [],
      "source": [
        "import numpy as np\n",
        "from numpy import linalg as LA\n",
        "from numpy.linalg import eig, eigh"
      ]
    },
    {
      "cell_type": "code",
      "execution_count": null,
      "metadata": {
        "colab": {
          "base_uri": "https://localhost:8080/"
        },
        "id": "ufKjmXkZWvaR",
        "outputId": "6b220e3a-70ec-49c7-a29d-86ef05bf01ab"
      },
      "outputs": [
        {
          "name": "stdout",
          "output_type": "stream",
          "text": [
            "Matriz A:\n",
            " [[-0.39948455  0.11123058 -0.81082462  1.07925541  1.25467087  0.96015531]\n",
            " [ 0.81727362 -1.41918706 -0.12847826 -0.48477103 -0.85240903  0.3152403 ]\n",
            " [-0.87157634 -0.22608444 -0.70368746 -1.49910919  0.39388587  0.53255891]\n",
            " [ 0.96955314  0.06793981  1.0403448  -1.19911795  0.30621493  0.25549192]\n",
            " [-0.31849019  2.0080578   0.68295779  1.66372431  0.44945847 -0.33267609]\n",
            " [ 0.50088717  0.73773367 -2.17530427 -1.87830654 -0.07180481 -0.07291853]]\n"
          ]
        }
      ],
      "source": [
        " #1. Generar matriz A aleatoria de 6x6\n",
        "A = np.random.randn(6, 6)\n",
        "print(\"Matriz A:\\n\", A)"
      ]
    },
    {
      "cell_type": "code",
      "execution_count": null,
      "metadata": {
        "colab": {
          "base_uri": "https://localhost:8080/"
        },
        "id": "S_mAqZpUWxKh",
        "outputId": "2cb09321-f1a9-4af8-b041-f97488ebb007"
      },
      "outputs": [
        {
          "name": "stdout",
          "output_type": "stream",
          "text": [
            "\n",
            "Matriz A.T (traspuesta de A):\n",
            " [[-0.39948455  0.81727362 -0.87157634  0.96955314 -0.31849019  0.50088717]\n",
            " [ 0.11123058 -1.41918706 -0.22608444  0.06793981  2.0080578   0.73773367]\n",
            " [-0.81082462 -0.12847826 -0.70368746  1.0403448   0.68295779 -2.17530427]\n",
            " [ 1.07925541 -0.48477103 -1.49910919 -1.19911795  1.66372431 -1.87830654]\n",
            " [ 1.25467087 -0.85240903  0.39388587  0.30621493  0.44945847 -0.07180481]\n",
            " [ 0.96015531  0.3152403   0.53255891  0.25549192 -0.33267609 -0.07291853]]\n"
          ]
        }
      ],
      "source": [
        "# 2. Verificar la traspuesta\n",
        "print(\"\\nMatriz A.T (traspuesta de A):\\n\", A.T)"
      ]
    },
    {
      "cell_type": "code",
      "execution_count": null,
      "metadata": {
        "colab": {
          "base_uri": "https://localhost:8080/"
        },
        "id": "QXxFjB3OW_ep",
        "outputId": "f68901d9-7d3e-4414-98ac-8b3d9a7721e1"
      },
      "outputs": [
        {
          "name": "stdout",
          "output_type": "stream",
          "text": [
            "\n",
            "Autovalores de A: [ 1.34053437+0.j         -1.40063357+1.71324024j -1.40063357-1.71324024j\n",
            " -1.7706321 +0.j         -0.05678611+1.13672808j -0.05678611-1.13672808j]\n",
            "Autovectores de A:\n",
            " [[ 0.70750431+0.j         -0.07987485-0.20508307j -0.07987485+0.20508307j\n",
            "   0.4221651 +0.j         -0.18394046+0.08848413j -0.18394046-0.08848413j]\n",
            " [ 0.19700717+0.j         -0.22545359+0.25629338j -0.22545359-0.25629338j\n",
            "  -0.07605987+0.j          0.33749801-0.04211237j  0.33749801+0.04211237j]\n",
            " [-0.31408836+0.j         -0.34941075-0.21695549j -0.34941075+0.21695549j\n",
            "  -0.09268351+0.j          0.15873535-0.24113502j  0.15873535+0.24113502j]\n",
            " [ 0.22007613+0.j         -0.27050231+0.23492838j -0.27050231-0.23492838j\n",
            "  -0.44060227+0.j         -0.08708371-0.11321402j -0.08708371+0.11321402j]\n",
            " [ 0.16103469+0.j          0.55894443+0.j          0.55894443-0.j\n",
            "   0.38594822+0.j         -0.49758247-0.19719442j -0.49758247+0.19719442j]\n",
            " [ 0.53629158+0.j         -0.24606489-0.40565764j -0.24606489+0.40565764j\n",
            "  -0.68140656+0.j          0.67263672+0.j          0.67263672-0.j        ]]\n"
          ]
        }
      ],
      "source": [
        "# 3. Autovalores y autovectores de A (pueden ser complejos)\n",
        "wA, vA = eig(A)\n",
        "print(\"\\nAutovalores de A:\", wA)\n",
        "print(\"Autovectores de A:\\n\", vA)"
      ]
    },
    {
      "cell_type": "code",
      "execution_count": null,
      "metadata": {
        "colab": {
          "base_uri": "https://localhost:8080/"
        },
        "id": "E7hWdfUbXPfb",
        "outputId": "89945a80-6dc1-4fba-a2ff-b1d26b965e40"
      },
      "outputs": [
        {
          "name": "stdout",
          "output_type": "stream",
          "text": [
            "\n",
            "Parte simétrica A_sim:\n",
            " [[-0.39948455  0.4642521  -0.84120048  1.02440428  0.46809034  0.73052124]\n",
            " [ 0.4642521  -1.41918706 -0.17728135 -0.20841561  0.57782438  0.52648699]\n",
            " [-0.84120048 -0.17728135 -0.70368746 -0.22938219  0.53842183 -0.82137268]\n",
            " [ 1.02440428 -0.20841561 -0.22938219 -1.19911795  0.98496962 -0.81140731]\n",
            " [ 0.46809034  0.57782438  0.53842183  0.98496962  0.44945847 -0.20224045]\n",
            " [ 0.73052124  0.52648699 -0.82137268 -0.81140731 -0.20224045 -0.07291853]]\n",
            "\n",
            "Parte antisimétrica A_antisim:\n",
            " [[ 0.         -0.35302152  0.03037586  0.05485114  0.78658053  0.22963407]\n",
            " [ 0.35302152  0.          0.04880309 -0.27635542 -1.43023342 -0.21124668]\n",
            " [-0.03037586 -0.04880309  0.         -1.269727   -0.14453596  1.35393159]\n",
            " [-0.05485114  0.27635542  1.269727    0.         -0.67875469  1.06689923]\n",
            " [-0.78658053  1.43023342  0.14453596  0.67875469  0.         -0.13043564]\n",
            " [-0.22963407  0.21124668 -1.35393159 -1.06689923  0.13043564  0.        ]]\n",
            "\n",
            "Verificación A_sim + A_antisim = A:\n",
            " [[-0.39948455  0.11123058 -0.81082462  1.07925541  1.25467087  0.96015531]\n",
            " [ 0.81727362 -1.41918706 -0.12847826 -0.48477103 -0.85240903  0.3152403 ]\n",
            " [-0.87157634 -0.22608444 -0.70368746 -1.49910919  0.39388587  0.53255891]\n",
            " [ 0.96955314  0.06793981  1.0403448  -1.19911795  0.30621493  0.25549192]\n",
            " [-0.31849019  2.0080578   0.68295779  1.66372431  0.44945847 -0.33267609]\n",
            " [ 0.50088717  0.73773367 -2.17530427 -1.87830654 -0.07180481 -0.07291853]]\n"
          ]
        }
      ],
      "source": [
        "# 4. Descomposición en parte simétrica y antisímetrica\n",
        "A_sim = (A + A.T) / 2\n",
        "A_antisim = (A - A.T) / 2\n",
        "print(\"\\nParte simétrica A_sim:\\n\", A_sim)\n",
        "print(\"\\nParte antisimétrica A_antisim:\\n\", A_antisim)\n",
        "print(\"\\nVerificación A_sim + A_antisim = A:\\n\", A_sim + A_antisim)"
      ]
    },
    {
      "cell_type": "code",
      "execution_count": null,
      "metadata": {
        "colab": {
          "base_uri": "https://localhost:8080/"
        },
        "id": "pzHYcBOXXUZ7",
        "outputId": "0008f886-8e1c-4658-e766-d3c901c015db"
      },
      "outputs": [
        {
          "name": "stdout",
          "output_type": "stream",
          "text": [
            "\n",
            "Autovalores de A_sim (eig): [ 1.49211235  1.36525458 -0.24211643 -2.57368904 -1.65573482 -1.73076373]\n",
            "Autovectores de A_sim (eig):\n",
            " [[-0.5527006  -0.31650594 -0.3285842   0.41688666  0.5462155  -0.1193005 ]\n",
            " [-0.21902037 -0.14081     0.33542927 -0.29269933 -0.06462638 -0.85430695]\n",
            " [ 0.15164031  0.48585869  0.36257059 -0.14492911  0.7669802   0.01503465]\n",
            " [-0.41553858  0.20599601 -0.45691936 -0.74438277  0.02413272  0.14638968]\n",
            " [-0.66237226  0.40292983  0.45230435  0.23765399 -0.29754709  0.22207571]\n",
            " [-0.11021802 -0.66268474  0.48446638 -0.33006522  0.14176308  0.43006213]]\n"
          ]
        }
      ],
      "source": [
        "# 5. Autovalores y autovectores de A_sim usando eig\n",
        "# (Cuando uno trabaja con matrices simetricas conviene usar la función “LA.eigh” en vez de “LA.eig”)\n",
        "wA_sim, vA_sim = eig(A_sim)\n",
        "print(\"\\nAutovalores de A_sim (eig):\", wA_sim)\n",
        "print(\"Autovectores de A_sim (eig):\\n\", vA_sim)"
      ]
    },
    {
      "cell_type": "code",
      "execution_count": null,
      "metadata": {
        "colab": {
          "base_uri": "https://localhost:8080/"
        },
        "id": "svRMYKK3XbRo",
        "outputId": "b7f8bf74-8954-463d-c062-9d88313fc5e0"
      },
      "outputs": [
        {
          "name": "stdout",
          "output_type": "stream",
          "text": [
            "\n",
            "Autovalores de A_sim (eigh): [-2.57368904 -1.73076373 -1.65573482 -0.24211643  1.36525458  1.49211235]\n",
            "Autovectores de A_sim (eigh):\n",
            " [[ 0.41688666 -0.1193005   0.5462155  -0.3285842  -0.31650594  0.5527006 ]\n",
            " [-0.29269933 -0.85430695 -0.06462638  0.33542927 -0.14081     0.21902037]\n",
            " [-0.14492911  0.01503465  0.7669802   0.36257059  0.48585869 -0.15164031]\n",
            " [-0.74438277  0.14638968  0.02413272 -0.45691936  0.20599601  0.41553858]\n",
            " [ 0.23765399  0.22207571 -0.29754709  0.45230435  0.40292983  0.66237226]\n",
            " [-0.33006522  0.43006213  0.14176308  0.48446638 -0.66268474  0.11021802]]\n"
          ]
        }
      ],
      "source": [
        "# 6. Autovalores y autovectores de A_sim usando eigh (simétricas)\n",
        "wA_sim2, vA_sim2 = eigh(A_sim)\n",
        "print(\"\\nAutovalores de A_sim (eigh):\", wA_sim2)\n",
        "print(\"Autovectores de A_sim (eigh):\\n\", vA_sim2)"
      ]
    },
    {
      "cell_type": "code",
      "execution_count": null,
      "metadata": {
        "colab": {
          "base_uri": "https://localhost:8080/"
        },
        "id": "Xjs_Kja2Xjn7",
        "outputId": "d69ed4b5-4c4f-41ef-d64d-1c0adebaa39c"
      },
      "outputs": [
        {
          "name": "stdout",
          "output_type": "stream",
          "text": [
            "\n",
            "Producto interno de autovectores (debe ser identidad):\n",
            " [[ 1.00000000e+00  3.78659040e-17  1.77980280e-16 -2.37379754e-16\n",
            "  -1.07148014e-16 -1.20049589e-16]\n",
            " [ 3.78659040e-17  1.00000000e+00 -9.35716420e-17 -1.15585203e-16\n",
            "  -2.73174100e-16 -1.49183102e-16]\n",
            " [ 1.77980280e-16 -9.35716420e-17  1.00000000e+00 -6.27903957e-17\n",
            "   1.16968088e-16 -2.67078675e-16]\n",
            " [-2.37379754e-16 -1.15585203e-16 -6.27903957e-17  1.00000000e+00\n",
            "   1.34823719e-17  4.17790106e-17]\n",
            " [-1.07148014e-16 -2.73174100e-16  1.16968088e-16  1.34823719e-17\n",
            "   1.00000000e+00  1.83219111e-16]\n",
            " [-1.20049589e-16 -1.49183102e-16 -2.67078675e-16  4.17790106e-17\n",
            "   1.83219111e-16  1.00000000e+00]]\n"
          ]
        }
      ],
      "source": [
        "# 7. Verificar ortonormalidad de vA_sim2 (producto interno ~ identidad)\n",
        "ortho_check = np.dot(vA_sim2.T, vA_sim2)\n",
        "print(\"\\nProducto interno de autovectores (debe ser identidad):\\n\", ortho_check)"
      ]
    },
    {
      "cell_type": "code",
      "execution_count": null,
      "metadata": {
        "colab": {
          "base_uri": "https://localhost:8080/"
        },
        "id": "15a1S1f_XkgJ",
        "outputId": "baba7810-cf01-4060-c740-4136d1bd143f"
      },
      "outputs": [
        {
          "name": "stdout",
          "output_type": "stream",
          "text": [
            "\n",
            "Vector x original:\n",
            " [ 0.55490283  0.77583272 -0.52442054  0.90028744 -1.27629656 -1.87224334]\n",
            "\n",
            "Coeficientes a_n en la base de autovectores:\n",
            " [-0.27526334 -1.69370658 -0.01319318 -2.00790696  0.37223543 -0.12149263]\n",
            "\n",
            "Reconstrucción x_recon:\n",
            " [ 0.55490283  0.77583272 -0.52442054  0.90028744 -1.27629656 -1.87224334]\n",
            "\n",
            "Error de reconstrucción ||x - x_recon||: 1.687392909129966e-15\n"
          ]
        }
      ],
      "source": [
        "# 8. Coordenadas de un vector x en la base de autovectores\n",
        "x = np.random.randn(6)\n",
        "a = vA_sim2.T @ x  # a_n = v_n^T x\n",
        "x_recon = vA_sim2 @ a\n",
        "print(\"\\nVector x original:\\n\", x)\n",
        "print(\"\\nCoeficientes a_n en la base de autovectores:\\n\", a)\n",
        "print(\"\\nReconstrucción x_recon:\\n\", x_recon)\n",
        "print(\"\\nError de reconstrucción ||x - x_recon||:\", np.linalg.norm(x - x_recon))"
      ]
    },
    {
      "cell_type": "markdown",
      "metadata": {
        "id": "ROV2CtZ9Xu8y"
      },
      "source": [
        "## **II. FORMAS CUADRATICAS**"
      ]
    },
    {
      "cell_type": "markdown",
      "metadata": {
        "id": "Jw8sONDYYXrd"
      },
      "source": [
        "![image.png](data:image/png;base64,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)"
      ]
    },
    {
      "cell_type": "code",
      "execution_count": null,
      "metadata": {
        "colab": {
          "base_uri": "https://localhost:8080/"
        },
        "id": "l9igw-XdYS1y",
        "outputId": "4c04ec43-1a8c-4c30-e333-b0cf64c06ab3"
      },
      "outputs": [
        {
          "name": "stdout",
          "output_type": "stream",
          "text": [
            "\n",
            "Matriz C asociada a la forma cuadrática:\n",
            " [[ 2.   1.5  0.5]\n",
            " [ 1.5 -3.  -2.5]\n",
            " [ 0.5 -2.5  1. ]]\n"
          ]
        }
      ],
      "source": [
        "# 1. Definir la matriz simétrica C para f(x1,x2,x3)\n",
        "#    f = 2x1^2 - 3x2^2 + x3^2 + 3x1x2 -5x2x3 + x3x1\n",
        "C = np.array([\n",
        "    [2,    3/2,  1/2],\n",
        "    [3/2, -3,   -5/2],\n",
        "    [1/2, -5/2,  1]\n",
        "])\n",
        "print(\"\\nMatriz C asociada a la forma cuadrática:\\n\", C)"
      ]
    },
    {
      "cell_type": "code",
      "execution_count": null,
      "metadata": {
        "colab": {
          "base_uri": "https://localhost:8080/"
        },
        "id": "_jWOWiNQYamq",
        "outputId": "643f8212-ceba-497e-cbdb-bbc28a3ff44d"
      },
      "outputs": [
        {
          "name": "stdout",
          "output_type": "stream",
          "text": [
            "\n",
            "f(x) directo: -2.81831182491712\n",
            "f(x) mediante x^T C x: -2.8183118249171204\n"
          ]
        }
      ],
      "source": [
        "# 2. Verificar f(x) = x^T C x para un vector x aleatorio\n",
        "x3 = np.random.randn(3)\n",
        "f_direct = 2*x3[0]**2 - 3*x3[1]**2 + x3[2]**2 + 3*x3[0]*x3[1] - 5*x3[1]*x3[2] + x3[2]*x3[0]\n",
        "f_quad = x3.T @ C @ x3\n",
        "print(\"\\nf(x) directo:\", f_direct)\n",
        "print(\"f(x) mediante x^T C x:\", f_quad)"
      ]
    },
    {
      "cell_type": "code",
      "execution_count": null,
      "metadata": {
        "colab": {
          "base_uri": "https://localhost:8080/"
        },
        "id": "qBew48l_Ybav",
        "outputId": "5ebeb4f1-9288-48a4-c47f-2ef7ca67900b"
      },
      "outputs": [
        {
          "name": "stdout",
          "output_type": "stream",
          "text": [
            "\n",
            "Autovalores de C: [-4.57603367  2.5         2.07603367]\n",
            "Autovectores de C:\n",
            " [[ 0.23220629 -0.81649658  0.52859585]\n",
            " [-0.87960135 -0.40824829 -0.24420238]\n",
            " [-0.41518876  0.40824829  0.81298931]]\n"
          ]
        }
      ],
      "source": [
        "# 3. Autodescomposición de C\n",
        "wC, vC = eig(C)\n",
        "print(\"\\nAutovalores de C:\", wC)\n",
        "print(\"Autovectores de C:\\n\", vC)"
      ]
    },
    {
      "cell_type": "code",
      "execution_count": null,
      "metadata": {
        "colab": {
          "base_uri": "https://localhost:8080/"
        },
        "id": "eDs7x9OsYda2",
        "outputId": "8381f48f-a676-4800-8e78-56d88032d094"
      },
      "outputs": [
        {
          "name": "stdout",
          "output_type": "stream",
          "text": [
            "\n",
            "Autovalores de C2 (2D): [ 1.61803399 -0.61803399]\n",
            "Autovectores de C2 (2D):\n",
            " [[ 0.85065081 -0.52573111]\n",
            " [ 0.52573111  0.85065081]]\n"
          ]
        }
      ],
      "source": [
        "# 4. Ejemplo de forma cuadrática 2D: f(x,y) = x^2 + 2xy\n",
        "C2 = np.array([[1, 1],\n",
        "               [1, 0]])\n",
        "wC2, vC2 = eig(C2)\n",
        "print(\"\\nAutovalores de C2 (2D):\", wC2)\n",
        "print(\"Autovectores de C2 (2D):\\n\", vC2)"
      ]
    },
    {
      "cell_type": "code",
      "execution_count": null,
      "metadata": {
        "colab": {
          "base_uri": "https://localhost:8080/"
        },
        "id": "iTnLCJunYfn-",
        "outputId": "091e1068-209c-4a24-f19e-956b6502b91f"
      },
      "outputs": [
        {
          "name": "stdout",
          "output_type": "stream",
          "text": [
            "\n",
            "f2(x) directo: 0.3910515011743627\n",
            "f2(x) en base diagonal: 0.39105150117436266\n"
          ]
        }
      ],
      "source": [
        "# 5. Verificar la forma diagonal en la base de autovectores 2D\n",
        "x2 = np.random.randn(2)\n",
        "a2 = vC2.T @ x2\n",
        "f2_direct = x2.T @ C2 @ x2\n",
        "f2_diag = wC2[0]*a2[0]**2 + wC2[1]*a2[1]**2\n",
        "print(\"\\nf2(x) directo:\", f2_direct)\n",
        "print(\"f2(x) en base diagonal:\", f2_diag)"
      ]
    }
  ],
  "metadata": {
    "colab": {
      "collapsed_sections": [
        "U0TXsWNaXx3F",
        "ROV2CtZ9Xu8y"
      ],
      "provenance": []
    },
    "kernelspec": {
      "display_name": "POO-env",
      "language": "python",
      "name": "python3"
    },
    "language_info": {
      "name": "python",
      "version": "3.11.5"
    }
  },
  "nbformat": 4,
  "nbformat_minor": 0
}
