{
 "cells": [
  {
   "cell_type": "code",
   "execution_count": 3,
   "id": "e8562c25",
   "metadata": {},
   "outputs": [
    {
     "name": "stdout",
     "output_type": "stream",
     "text": [
      "LinAlgError: Singular matrix — no hay solución\n",
      "\n"
     ]
    }
   ],
   "source": [
    "import numpy as np\n",
    "from numpy.linalg import solve, LinAlgError\n",
    "\n",
    "# -------------------------------\n",
    "# Parte 1: Caso m > n (m=3, n=2)\n",
    "# -------------------------------\n",
    "m, n = 3, 2\n",
    "\n",
    "# Generar A (3×2) y y (3×1) con valores aleatorios en [-1,1]\n",
    "A = 2 * (np.random.rand(m, n) - 0.5)\n",
    "y = 2 * (np.random.rand(m, 1) - 0.5)\n",
    "\n",
    "# Extender A a 3×3 añadiendo una columna de ceros\n",
    "A_ext = np.hstack([A, np.zeros((m, 1))])\n",
    "\n",
    "# Intentar resolver A_ext x = y\n",
    "try:\n",
    "    x1 = solve(A_ext, y)\n",
    "    print(\"Solución encontrada:\", x1.flatten())\n",
    "except LinAlgError:\n",
    "    print(\"LinAlgError: Singular matrix — no hay solución\\n\")\n",
    "\n",
    "# Explicación:\n",
    "#   Las columnas de A_ext (2 vectores en R³ más el vector cero) no\n",
    "#   generan todo R³, por lo que y, al ser aleatorio, suele quedar\n",
    "#   fuera de su span y no hay combinación lineal que lo iguale."
   ]
  },
  {
   "cell_type": "code",
   "execution_count": 4,
   "id": "8f484e23",
   "metadata": {},
   "outputs": [
    {
     "name": "stdout",
     "output_type": "stream",
     "text": [
      "Solución parcial x_full: [ 5.45558188 -1.8066484   0.        ]\n",
      "Verificación A2 @ x_full: [0.99157845 0.58753224] == y2: [0.99157845 0.58753224]\n",
      "Coeficientes λ (tercera columna): [ 1.87317228 -0.97820169]\n",
      "Av (debe ser ~0): [0. 0.]\n",
      "A2 @ (x_full + v): [0.99157845 0.58753224] == y2: [0.99157845 0.58753224]\n"
     ]
    }
   ],
   "source": [
    "# -------------------------------\n",
    "# Parte 2: Caso m < n (m=2, n=3)\n",
    "# -------------------------------\n",
    "m2, n2 = 2, 3\n",
    "\n",
    "# Generar A2 (2×3) y y2 (2×1)\n",
    "A2 = 2 * (np.random.rand(m2, n2) - 0.5)\n",
    "y2 = 2 * (np.random.rand(m2, 1) - 0.5)\n",
    "\n",
    "# 2.1 Resolver el sistema usando solo las dos primeras columnas\n",
    "B = A2[:, :2]          # 2×2\n",
    "x_small = solve(B, y2) # [x0, x1]\n",
    "x_full = np.vstack([x_small, [[0]]])  # [x0, x1, 0]\n",
    "\n",
    "print(\"Solución parcial x_full:\", x_full.flatten())\n",
    "print(\"Verificación A2 @ x_full:\", (A2 @ x_full).flatten(), \"== y2:\", y2.flatten())\n",
    "\n",
    "# 2.2 Calcular λ0 y λ1 tales que la tercera columna sea combinación lineal\n",
    "a2_col = A2[:, 2]\n",
    "lmbda = solve(B, a2_col)\n",
    "print(\"Coeficientes λ (tercera columna):\", lmbda.flatten())\n",
    "\n",
    "# 2.3 Construir vector v en el núcleo de A2: Av = 0\n",
    "alpha = np.random.randn()\n",
    "v = np.array([[alpha * lmbda[0]],\n",
    "              [alpha * lmbda[1]],\n",
    "              [-alpha]])\n",
    "print(\"Av (debe ser ~0):\", (A2 @ v).flatten())\n",
    "\n",
    "# 2.4 Verificar que x_full + v es otra solución de A2 x = y2\n",
    "x_plus_v = x_full + v\n",
    "print(\"A2 @ (x_full + v):\", (A2 @ x_plus_v).flatten(), \"== y2:\", y2.flatten())\n",
    "\n",
    "# Conclusión:\n",
    "#   Hemos encontrado una solución x_full, y un vector v no trivial en\n",
    "#   el núcleo de A2, de modo que x_full + v es otra solución distinta.\n",
    "#   Dado que α puede variar libremente, hay infinitas soluciones de la forma x_full + v.\n"
   ]
  },
  {
   "cell_type": "code",
   "execution_count": 5,
   "id": "4be4b8ea",
   "metadata": {},
   "outputs": [
    {
     "name": "stdout",
     "output_type": "stream",
     "text": [
      "Solución única encontrada: [0.06545592 0.61991702 0.29667626]\n",
      "Verificación A3 @ x3: [-0.57647091 -0.11813193 -0.24743381] == y3: [-0.57647091 -0.11813193 -0.24743381]\n"
     ]
    }
   ],
   "source": [
    "# -------------------------------\n",
    "# Parte 3: Caso m = n (m=3, n=3)\n",
    "# -------------------------------\n",
    "m3, n3 = 3, 3\n",
    "\n",
    "# Generar A3 (3×3) y y3 (3×1)\n",
    "A3 = 2 * (np.random.rand(m3, n3) - 0.5)\n",
    "y3 = 2 * (np.random.rand(m3, 1) - 0.5)\n",
    "\n",
    "# Intentar resolver A3 x = y3\n",
    "try:\n",
    "    x3 = solve(A3, y3)\n",
    "    print(\"Solución única encontrada:\", x3.flatten())\n",
    "    print(\"Verificación A3 @ x3:\", (A3 @ x3).flatten(), \"== y3:\", y3.flatten())\n",
    "except LinAlgError:\n",
    "    print(\"LinAlgError: Singular matrix — no hay solución única\")\n"
   ]
  }
 ],
 "metadata": {
  "kernelspec": {
   "display_name": "POO-env",
   "language": "python",
   "name": "python3"
  },
  "language_info": {
   "codemirror_mode": {
    "name": "ipython",
    "version": 3
   },
   "file_extension": ".py",
   "mimetype": "text/x-python",
   "name": "python",
   "nbconvert_exporter": "python",
   "pygments_lexer": "ipython3",
   "version": "3.11.5"
  }
 },
 "nbformat": 4,
 "nbformat_minor": 5
}
