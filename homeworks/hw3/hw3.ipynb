{
 "cells": [
  {
   "cell_type": "code",
   "execution_count": 2,
   "metadata": {},
   "outputs": [
    {
     "name": "stdout",
     "output_type": "stream",
     "text": [
      "x1: [0.09762701 0.43037873 0.20552675]\n",
      "x2: [ 0.08976637 -0.1526904   0.29178823]\n",
      "q:  [-0.12482558  0.783546    0.92732552]\n",
      "Intel MKL WARNING: Support of Intel(R) Streaming SIMD Extensions 4.2 (Intel(R) SSE4.2) enabled only processors has been deprecated. Intel oneAPI Math Kernel Library 2025.0 will require Intel(R) Advanced Vector Extensions (Intel(R) AVX) instructions.v (proyección): [0.31361322 0.75550969 0.77777208]\n",
      "r = q - v: [-0.43843879  0.02803632  0.14955344]\n",
      "\n"
     ]
    },
    {
     "data": {
      "application/vnd.plotly.v1+json": {
       "config": {
        "plotlyServerURL": "https://plot.ly"
       },
       "data": [
        {
         "line": {
          "color": "blue",
          "width": 5
         },
         "marker": {
          "size": 4
         },
         "mode": "lines+markers",
         "name": "x1",
         "type": "scatter3d",
         "x": [
          0,
          0.0976270078546495
         ],
         "y": [
          0,
          0.43037873274483895
         ],
         "z": [
          0,
          0.20552675214328775
         ]
        },
        {
         "line": {
          "color": "green",
          "width": 5
         },
         "marker": {
          "size": 4
         },
         "mode": "lines+markers",
         "name": "x2",
         "type": "scatter3d",
         "x": [
          0,
          0.08976636599379373
         ],
         "y": [
          0,
          -0.15269040132219058
         ],
         "z": [
          0,
          0.29178822613331223
         ]
        },
        {
         "line": {
          "color": "red",
          "width": 5
         },
         "marker": {
          "size": 4
         },
         "mode": "lines+markers",
         "name": "q",
         "type": "scatter3d",
         "x": [
          0,
          -0.12482557747461498
         ],
         "y": [
          0,
          0.7835460015641595
         ],
         "z": [
          0,
          0.9273255210020586
         ]
        },
        {
         "line": {
          "color": "orange",
          "width": 5
         },
         "marker": {
          "size": 4
         },
         "mode": "lines+markers",
         "name": "v (proyección)",
         "type": "scatter3d",
         "x": [
          0,
          0.31361321618506605
         ],
         "y": [
          0,
          0.7555096852086332
         ],
         "z": [
          0,
          0.7777720787959421
         ]
        },
        {
         "line": {
          "color": "purple",
          "width": 5
         },
         "marker": {
          "size": 4
         },
         "mode": "lines+markers",
         "name": "r = q - v",
         "type": "scatter3d",
         "x": [
          0,
          -0.438438793659681
         ],
         "y": [
          0,
          0.02803631635552639
         ],
         "z": [
          0,
          0.14955344220611644
         ]
        },
        {
         "colorscale": [
          [
           0,
           "#440154"
          ],
          [
           0.1111111111111111,
           "#482878"
          ],
          [
           0.2222222222222222,
           "#3e4989"
          ],
          [
           0.3333333333333333,
           "#31688e"
          ],
          [
           0.4444444444444444,
           "#26828e"
          ],
          [
           0.5555555555555556,
           "#1f9e89"
          ],
          [
           0.6666666666666666,
           "#35b779"
          ],
          [
           0.7777777777777778,
           "#6ece58"
          ],
          [
           0.8888888888888888,
           "#b5de2b"
          ],
          [
           1,
           "#fde725"
          ]
         ],
         "name": "Span(x1, x2)",
         "opacity": 0.5,
         "showscale": false,
         "type": "surface",
         "x": {
          "bdata": "6EQVjoH8x7+hXDOfmzXFv1p0UbC1bsK/Jhjfgp9Pv7+YRxul08G5vwh3V8cHNLS/9kwn03dMrb/cq58X4DCiv/gqYHAhVYy/gFm+fT0ZgD/fHZ3r2G7Fv5g1u/zyp8K/opqyGxrCv78Uyu49TjS6v4b5KmCCprS/7VHOBG0xrr/SsEZJ1RWjv+A+/Db26I+/MItEbtEKeT8IZaDS43mcP9b2JEkw4cK/jw5DWkoawL+QTMLWyKa6vwJ8/vj8GLW/6FZ1NmIWr7/Kte16yvqjv14pzH5lvpG/WGMM4SfjcT8SW1Jv+a+aP6fOMHOUc6g/zs+spodTwL8Nz5VvQxm7v37+0ZF3i7W/4VscaFf7r7/FupSsv9+kv04zGuJPiJO/QHeop/x2ZT8cUQQMD+aYP6zJiUGfjqc/ZbWIfhtVsT+JUWkIvou7v/uApSry/bW/bbDhTCZwsL++vzvetMSlv0M9aEU6UpW/IJ/gNKaeTD8vR7aoJByXP7LE4g+qqaY/6DK15aDisD93A3nDbHC2P3cDecNscLa/6TK15aDisL+0xOIPqqmmvzFHtqgkHJe/IJ/gNKaeTL9DPWhFOlKVP7y/O960xKU/a7DhTCZwsD/6gKUq8v21P4lRaQi+i7s/ZrWIfhtVsb+wyYlBn46nvyVRBAwP5pi/aHeop/x2Zb9LMxriT4iTP8S6lKy/36Q/3lscaFf7rz98/tGRd4u1PwvPlW9DGbs/zc+spodTwD+qzjBzlHOovxxbUm/5r5q/iGMM4Sfjcb9WKcx+Zb6RP8e17XrK+qM/5VZ1NmIWrz8AfP74/Bi1P41MwtbIpro/jg5DWkoawD/W9iRJMOHCPwhloNLjeZy/QItEbtEKeb/UPvw29uiPP9GwRknVFaM/7VHOBG0xrj+G+Spggqa0PxPK7j1ONLo/oJqyGxrCvz+YNbv88qfCP98dnevYbsU/gFm+fT0ZgL/wKmBwIVWMP9mrnxfgMKI/9Uwn03dMrT8Id1fHBzS0P5hHG6XTwbk/JRjfgp9Pvz9ZdFGwtW7CP6BcM5+bNcU/6EQVjoH8xz8=",
          "dtype": "f8",
          "shape": "10, 10"
         },
         "y": {
          "bdata": "uDp8R6XF0b/AL6JzXk3HvyDUl7DkHra/8LmlMJzngj+eQsG8y9i6PwHntvlRqsk/WJaGCh/00j8uuTEYFRPZPwfc3CULMt8/cP/DmYCo4j+gF2EMk/HTv5Dpa/05pcu/wEcrxJvOvr+I8fo1DkuZv/7OLakUKbI/MS3tb3ZSxT9wuaFFMcjQP0bcTFMn59Y/H//3YB0G3T/8kFG3iZLhP4j0RdGAHda/YKM1hxX9z7+wXd9rKb/DvwRgJEL1BK6/vbY0K7vyoj9hcyPmmvrAPw+5eQGHOM0/Xv9njjm71D83IhOcL9raP4gi39SSfOA/cNEqlm5J2L+Yrn+IeCrSv4AXqfUEF8i/oqOltDGyt7/g99xA0DRpPyJzs7h+Rbk/P/+vd6vgyD93IoPJS4/SP09FLtdBrtg/KGjZ5DfN3j9Yrg9bXHXav4CLZE1mVtS/UNFyf+BuzL+hixxk9DDAv4QvMkZCmJ+/gv8fpceVsD9vRebtz4jEP49FngReY9A/Z2hJElSC1j9Ai/QfSqHcP0CL9B9Kody/aGhJElSC1r+QRZ4EXmPQv3FF5u3PiMS/gv8fpceVsL+ELzJGQpifP5+LHGT0MMA/TdFyf+BuzD9/i2RNZlbUP1iuD1tcddo/KGjZ5DfN3r9QRS7XQa7Yv3gig8lLj9K/QP+vd6vgyL8gc7O4fkW5v7D33EDQNGm/n6OltDGytz9+F6n1BBfIP5euf4h4KtI/cNEqlm5J2D+IIt/UknzgvzgiE5wv2tq/YP9njjm71L8QuXkBhzjNv2BzI+aa+sC/ubY0K7vyor8AYCRC9QSuP65d32spv8M/X6M1hxX9zz+I9EXRgB3WP/yQUbeJkuG/IP/3YB0G3b9I3ExTJ+fWv3C5oUUxyNC/MC3tb3ZSxb/+zi2pFCmyv3zx+jUOS5k/u0crxJvOvj+O6Wv9OaXLP6AXYQyT8dM/cP/DmYCo4r8I3NwlCzLfvzC5MRgVE9m/WJaGCh/00r8B57b5UarJv55CwbzL2Lq/ELqlMJzngr8a1Jew5B62P74vonNeTcc/uDp8R6XF0T8=",
          "dtype": "f8",
          "shape": "10, 10"
         },
         "z": {
          "bdata": "mJLgMwLU3785w5pitefcv9rzVJFo+9m/eyQPwBsP178cVcnuziLUv7yFgx2CNtG/u2x7mGqUzL/+ze/10LvGvz8vZFM348C/ACGxYTsVtr/WXS3do63bv3aO5wtXwdi/F7+hOgrV1b+471tpvejSv7JALDDh+M+/9KGgjUcgyr82AxXrrUfEv/LIEpEo3ry/dIv7S/Ussb/YN5EbCO+VvxMpeoZFh9e/tFk0tfia1L9Viu7jq67Rv+x1USW+hM2/LtfFgiSsx79uODrgitPBv2IzXXvi9be/0OuLbF6JqL9ADdclfm9ivygK0aduO6Y/UPTGL+dg07/xJIFemnTQvySrdhqbEMu/ZgzrdwE4xb9Q276qz76+v9Kdp2WcDbO/XIFBgqRxnb+MdBuSKFORP6Eanmn9BbA/H1i1rjC3uz8bfyeyEXXOv13gmw94nMi/n0EQbd7Dwr/CRQmVida5v4sQ5J+sSqy/PFbWVhihg79n5Xh0IHqiPy6wU39D7rQ/1nY1YrtPwD+VFcEEVSjGP5UVwQRVKMa/13Y1YrtPwL8wsFN/Q+60v2nleHQgeqK/PFbWVhihgz+LEOSfrEqsP8BFCZWJ1rk/nUEQbd7Dwj9c4JsPeJzIPxt/J7IRdc4/Ili1rjC3u7+mGp5p/QWwv6R0G5IoU5G/TIFBgqRxnT/PnadlnA2zP03bvqrPvr4/ZAzrdwE4xT8hq3YamxDLP/AkgV6adNA/UPTGL+dg0z80CtGnbjumv0AM1yV+b2I/vuuLbF6JqD9bM1174vW3P2w4OuCK08E/KtfFgiSsxz/odVElvoTNP1KK7uOrrtE/slk0tfia1D8SKXqGRYfXP9A3kRsI75U/cIv7S/UssT/tyBKRKN68PzQDFeutR8Q/8qGgjUcgyj+yQCww4fjPP7jvW2m96NI/Fr+hOgrV1T92jucLV8HYP9VdLd2jrds/ACGxYTsVtj8+L2RTN+PAP/zN7/XQu8Y/umx7mGqUzD+8hYMdgjbRPxxVye7OItQ/eiQPwBsP1z/Z81SRaPvZPzjDmmK159w/mJLgMwLU3z8=",
          "dtype": "f8",
          "shape": "10, 10"
         }
        }
       ],
       "layout": {
        "scene": {
         "xaxis": {
          "title": {
           "text": "X"
          }
         },
         "yaxis": {
          "title": {
           "text": "Y"
          }
         },
         "zaxis": {
          "title": {
           "text": "Z"
          }
         }
        },
        "template": {
         "data": {
          "bar": [
           {
            "error_x": {
             "color": "#2a3f5f"
            },
            "error_y": {
             "color": "#2a3f5f"
            },
            "marker": {
             "line": {
              "color": "#E5ECF6",
              "width": 0.5
             },
             "pattern": {
              "fillmode": "overlay",
              "size": 10,
              "solidity": 0.2
             }
            },
            "type": "bar"
           }
          ],
          "barpolar": [
           {
            "marker": {
             "line": {
              "color": "#E5ECF6",
              "width": 0.5
             },
             "pattern": {
              "fillmode": "overlay",
              "size": 10,
              "solidity": 0.2
             }
            },
            "type": "barpolar"
           }
          ],
          "carpet": [
           {
            "aaxis": {
             "endlinecolor": "#2a3f5f",
             "gridcolor": "white",
             "linecolor": "white",
             "minorgridcolor": "white",
             "startlinecolor": "#2a3f5f"
            },
            "baxis": {
             "endlinecolor": "#2a3f5f",
             "gridcolor": "white",
             "linecolor": "white",
             "minorgridcolor": "white",
             "startlinecolor": "#2a3f5f"
            },
            "type": "carpet"
           }
          ],
          "choropleth": [
           {
            "colorbar": {
             "outlinewidth": 0,
             "ticks": ""
            },
            "type": "choropleth"
           }
          ],
          "contour": [
           {
            "colorbar": {
             "outlinewidth": 0,
             "ticks": ""
            },
            "colorscale": [
             [
              0,
              "#0d0887"
             ],
             [
              0.1111111111111111,
              "#46039f"
             ],
             [
              0.2222222222222222,
              "#7201a8"
             ],
             [
              0.3333333333333333,
              "#9c179e"
             ],
             [
              0.4444444444444444,
              "#bd3786"
             ],
             [
              0.5555555555555556,
              "#d8576b"
             ],
             [
              0.6666666666666666,
              "#ed7953"
             ],
             [
              0.7777777777777778,
              "#fb9f3a"
             ],
             [
              0.8888888888888888,
              "#fdca26"
             ],
             [
              1,
              "#f0f921"
             ]
            ],
            "type": "contour"
           }
          ],
          "contourcarpet": [
           {
            "colorbar": {
             "outlinewidth": 0,
             "ticks": ""
            },
            "type": "contourcarpet"
           }
          ],
          "heatmap": [
           {
            "colorbar": {
             "outlinewidth": 0,
             "ticks": ""
            },
            "colorscale": [
             [
              0,
              "#0d0887"
             ],
             [
              0.1111111111111111,
              "#46039f"
             ],
             [
              0.2222222222222222,
              "#7201a8"
             ],
             [
              0.3333333333333333,
              "#9c179e"
             ],
             [
              0.4444444444444444,
              "#bd3786"
             ],
             [
              0.5555555555555556,
              "#d8576b"
             ],
             [
              0.6666666666666666,
              "#ed7953"
             ],
             [
              0.7777777777777778,
              "#fb9f3a"
             ],
             [
              0.8888888888888888,
              "#fdca26"
             ],
             [
              1,
              "#f0f921"
             ]
            ],
            "type": "heatmap"
           }
          ],
          "histogram": [
           {
            "marker": {
             "pattern": {
              "fillmode": "overlay",
              "size": 10,
              "solidity": 0.2
             }
            },
            "type": "histogram"
           }
          ],
          "histogram2d": [
           {
            "colorbar": {
             "outlinewidth": 0,
             "ticks": ""
            },
            "colorscale": [
             [
              0,
              "#0d0887"
             ],
             [
              0.1111111111111111,
              "#46039f"
             ],
             [
              0.2222222222222222,
              "#7201a8"
             ],
             [
              0.3333333333333333,
              "#9c179e"
             ],
             [
              0.4444444444444444,
              "#bd3786"
             ],
             [
              0.5555555555555556,
              "#d8576b"
             ],
             [
              0.6666666666666666,
              "#ed7953"
             ],
             [
              0.7777777777777778,
              "#fb9f3a"
             ],
             [
              0.8888888888888888,
              "#fdca26"
             ],
             [
              1,
              "#f0f921"
             ]
            ],
            "type": "histogram2d"
           }
          ],
          "histogram2dcontour": [
           {
            "colorbar": {
             "outlinewidth": 0,
             "ticks": ""
            },
            "colorscale": [
             [
              0,
              "#0d0887"
             ],
             [
              0.1111111111111111,
              "#46039f"
             ],
             [
              0.2222222222222222,
              "#7201a8"
             ],
             [
              0.3333333333333333,
              "#9c179e"
             ],
             [
              0.4444444444444444,
              "#bd3786"
             ],
             [
              0.5555555555555556,
              "#d8576b"
             ],
             [
              0.6666666666666666,
              "#ed7953"
             ],
             [
              0.7777777777777778,
              "#fb9f3a"
             ],
             [
              0.8888888888888888,
              "#fdca26"
             ],
             [
              1,
              "#f0f921"
             ]
            ],
            "type": "histogram2dcontour"
           }
          ],
          "mesh3d": [
           {
            "colorbar": {
             "outlinewidth": 0,
             "ticks": ""
            },
            "type": "mesh3d"
           }
          ],
          "parcoords": [
           {
            "line": {
             "colorbar": {
              "outlinewidth": 0,
              "ticks": ""
             }
            },
            "type": "parcoords"
           }
          ],
          "pie": [
           {
            "automargin": true,
            "type": "pie"
           }
          ],
          "scatter": [
           {
            "fillpattern": {
             "fillmode": "overlay",
             "size": 10,
             "solidity": 0.2
            },
            "type": "scatter"
           }
          ],
          "scatter3d": [
           {
            "line": {
             "colorbar": {
              "outlinewidth": 0,
              "ticks": ""
             }
            },
            "marker": {
             "colorbar": {
              "outlinewidth": 0,
              "ticks": ""
             }
            },
            "type": "scatter3d"
           }
          ],
          "scattercarpet": [
           {
            "marker": {
             "colorbar": {
              "outlinewidth": 0,
              "ticks": ""
             }
            },
            "type": "scattercarpet"
           }
          ],
          "scattergeo": [
           {
            "marker": {
             "colorbar": {
              "outlinewidth": 0,
              "ticks": ""
             }
            },
            "type": "scattergeo"
           }
          ],
          "scattergl": [
           {
            "marker": {
             "colorbar": {
              "outlinewidth": 0,
              "ticks": ""
             }
            },
            "type": "scattergl"
           }
          ],
          "scattermap": [
           {
            "marker": {
             "colorbar": {
              "outlinewidth": 0,
              "ticks": ""
             }
            },
            "type": "scattermap"
           }
          ],
          "scattermapbox": [
           {
            "marker": {
             "colorbar": {
              "outlinewidth": 0,
              "ticks": ""
             }
            },
            "type": "scattermapbox"
           }
          ],
          "scatterpolar": [
           {
            "marker": {
             "colorbar": {
              "outlinewidth": 0,
              "ticks": ""
             }
            },
            "type": "scatterpolar"
           }
          ],
          "scatterpolargl": [
           {
            "marker": {
             "colorbar": {
              "outlinewidth": 0,
              "ticks": ""
             }
            },
            "type": "scatterpolargl"
           }
          ],
          "scatterternary": [
           {
            "marker": {
             "colorbar": {
              "outlinewidth": 0,
              "ticks": ""
             }
            },
            "type": "scatterternary"
           }
          ],
          "surface": [
           {
            "colorbar": {
             "outlinewidth": 0,
             "ticks": ""
            },
            "colorscale": [
             [
              0,
              "#0d0887"
             ],
             [
              0.1111111111111111,
              "#46039f"
             ],
             [
              0.2222222222222222,
              "#7201a8"
             ],
             [
              0.3333333333333333,
              "#9c179e"
             ],
             [
              0.4444444444444444,
              "#bd3786"
             ],
             [
              0.5555555555555556,
              "#d8576b"
             ],
             [
              0.6666666666666666,
              "#ed7953"
             ],
             [
              0.7777777777777778,
              "#fb9f3a"
             ],
             [
              0.8888888888888888,
              "#fdca26"
             ],
             [
              1,
              "#f0f921"
             ]
            ],
            "type": "surface"
           }
          ],
          "table": [
           {
            "cells": {
             "fill": {
              "color": "#EBF0F8"
             },
             "line": {
              "color": "white"
             }
            },
            "header": {
             "fill": {
              "color": "#C8D4E3"
             },
             "line": {
              "color": "white"
             }
            },
            "type": "table"
           }
          ]
         },
         "layout": {
          "annotationdefaults": {
           "arrowcolor": "#2a3f5f",
           "arrowhead": 0,
           "arrowwidth": 1
          },
          "autotypenumbers": "strict",
          "coloraxis": {
           "colorbar": {
            "outlinewidth": 0,
            "ticks": ""
           }
          },
          "colorscale": {
           "diverging": [
            [
             0,
             "#8e0152"
            ],
            [
             0.1,
             "#c51b7d"
            ],
            [
             0.2,
             "#de77ae"
            ],
            [
             0.3,
             "#f1b6da"
            ],
            [
             0.4,
             "#fde0ef"
            ],
            [
             0.5,
             "#f7f7f7"
            ],
            [
             0.6,
             "#e6f5d0"
            ],
            [
             0.7,
             "#b8e186"
            ],
            [
             0.8,
             "#7fbc41"
            ],
            [
             0.9,
             "#4d9221"
            ],
            [
             1,
             "#276419"
            ]
           ],
           "sequential": [
            [
             0,
             "#0d0887"
            ],
            [
             0.1111111111111111,
             "#46039f"
            ],
            [
             0.2222222222222222,
             "#7201a8"
            ],
            [
             0.3333333333333333,
             "#9c179e"
            ],
            [
             0.4444444444444444,
             "#bd3786"
            ],
            [
             0.5555555555555556,
             "#d8576b"
            ],
            [
             0.6666666666666666,
             "#ed7953"
            ],
            [
             0.7777777777777778,
             "#fb9f3a"
            ],
            [
             0.8888888888888888,
             "#fdca26"
            ],
            [
             1,
             "#f0f921"
            ]
           ],
           "sequentialminus": [
            [
             0,
             "#0d0887"
            ],
            [
             0.1111111111111111,
             "#46039f"
            ],
            [
             0.2222222222222222,
             "#7201a8"
            ],
            [
             0.3333333333333333,
             "#9c179e"
            ],
            [
             0.4444444444444444,
             "#bd3786"
            ],
            [
             0.5555555555555556,
             "#d8576b"
            ],
            [
             0.6666666666666666,
             "#ed7953"
            ],
            [
             0.7777777777777778,
             "#fb9f3a"
            ],
            [
             0.8888888888888888,
             "#fdca26"
            ],
            [
             1,
             "#f0f921"
            ]
           ]
          },
          "colorway": [
           "#636efa",
           "#EF553B",
           "#00cc96",
           "#ab63fa",
           "#FFA15A",
           "#19d3f3",
           "#FF6692",
           "#B6E880",
           "#FF97FF",
           "#FECB52"
          ],
          "font": {
           "color": "#2a3f5f"
          },
          "geo": {
           "bgcolor": "white",
           "lakecolor": "white",
           "landcolor": "#E5ECF6",
           "showlakes": true,
           "showland": true,
           "subunitcolor": "white"
          },
          "hoverlabel": {
           "align": "left"
          },
          "hovermode": "closest",
          "mapbox": {
           "style": "light"
          },
          "paper_bgcolor": "white",
          "plot_bgcolor": "#E5ECF6",
          "polar": {
           "angularaxis": {
            "gridcolor": "white",
            "linecolor": "white",
            "ticks": ""
           },
           "bgcolor": "#E5ECF6",
           "radialaxis": {
            "gridcolor": "white",
            "linecolor": "white",
            "ticks": ""
           }
          },
          "scene": {
           "xaxis": {
            "backgroundcolor": "#E5ECF6",
            "gridcolor": "white",
            "gridwidth": 2,
            "linecolor": "white",
            "showbackground": true,
            "ticks": "",
            "zerolinecolor": "white"
           },
           "yaxis": {
            "backgroundcolor": "#E5ECF6",
            "gridcolor": "white",
            "gridwidth": 2,
            "linecolor": "white",
            "showbackground": true,
            "ticks": "",
            "zerolinecolor": "white"
           },
           "zaxis": {
            "backgroundcolor": "#E5ECF6",
            "gridcolor": "white",
            "gridwidth": 2,
            "linecolor": "white",
            "showbackground": true,
            "ticks": "",
            "zerolinecolor": "white"
           }
          },
          "shapedefaults": {
           "line": {
            "color": "#2a3f5f"
           }
          },
          "ternary": {
           "aaxis": {
            "gridcolor": "white",
            "linecolor": "white",
            "ticks": ""
           },
           "baxis": {
            "gridcolor": "white",
            "linecolor": "white",
            "ticks": ""
           },
           "bgcolor": "#E5ECF6",
           "caxis": {
            "gridcolor": "white",
            "linecolor": "white",
            "ticks": ""
           }
          },
          "title": {
           "x": 0.05
          },
          "xaxis": {
           "automargin": true,
           "gridcolor": "white",
           "linecolor": "white",
           "ticks": "",
           "title": {
            "standoff": 15
           },
           "zerolinecolor": "white",
           "zerolinewidth": 2
          },
          "yaxis": {
           "automargin": true,
           "gridcolor": "white",
           "linecolor": "white",
           "ticks": "",
           "title": {
            "standoff": 15
           },
           "zerolinecolor": "white",
           "zerolinewidth": 2
          }
         }
        },
        "title": {
         "text": "Proyección de q sobre el span de x1 y x2 y vector ortogonal r"
        }
       }
      }
     },
     "metadata": {},
     "output_type": "display_data"
    }
   ],
   "source": [
    "import numpy as np\n",
    "import plotly.graph_objects as go\n",
    "\n",
    "# Fijamos la semilla para obtener resultados reproducibles\n",
    "np.random.seed(0)\n",
    "\n",
    "# Generamos los vectores aleatorios en R^3 con coordenadas entre -1 y 1\n",
    "x1 = np.random.uniform(-1, 1, 3)\n",
    "x2 = np.random.uniform(-1, 1, 3)\n",
    "q  = np.random.uniform(-1, 1, 3)\n",
    "\n",
    "print(\"x1:\", x1)\n",
    "print(\"x2:\", x2)\n",
    "print(\"q: \", q)\n",
    "\n",
    "# Creamos la matriz A con x1 y x2 como columnas\n",
    "A = np.column_stack((x1, x2))\n",
    "\n",
    "# Calculamos la proyección de q sobre el span de x1 y x2:\n",
    "# v = A (A^T A)^{-1} A^T q\n",
    "ATA = A.T @ A\n",
    "if np.linalg.det(ATA) != 0:\n",
    "    lambdas = np.linalg.inv(ATA) @ (A.T @ q)\n",
    "    v = A @ lambdas\n",
    "else:\n",
    "    print(\"Los vectores x1 y x2 no son linealmente independientes.\")\n",
    "    v = np.array([0, 0, 0])\n",
    "\n",
    "print(\"v (proyección):\", v)\n",
    "\n",
    "# Calculamos el vector r = q - v\n",
    "r = q - v\n",
    "print(\"r = q - v:\", r)\n",
    "\n",
    "# Función para añadir un vector al gráfico\n",
    "def add_vector(fig, vector, name, color):\n",
    "    fig.add_trace(go.Scatter3d(\n",
    "        x=[0, vector[0]], \n",
    "        y=[0, vector[1]], \n",
    "        z=[0, vector[2]],\n",
    "        mode='lines+markers',\n",
    "        marker=dict(size=4),\n",
    "        line=dict(color=color, width=5),\n",
    "        name=name\n",
    "    ))\n",
    "\n",
    "# Creamos la figura 3D\n",
    "fig = go.Figure()\n",
    "\n",
    "# Añadimos los vectores\n",
    "add_vector(fig, x1, 'x1', 'blue')\n",
    "add_vector(fig, x2, 'x2', 'green')\n",
    "add_vector(fig, q, 'q', 'red')\n",
    "add_vector(fig, v, 'v (proyección)', 'orange')\n",
    "add_vector(fig, r, 'r = q - v', 'purple')\n",
    "\n",
    "# Creamos una malla para graficar el span de x1 y x2\n",
    "# Usamos parámetros alpha y beta\n",
    "alpha = np.linspace(-1, 1, 10)\n",
    "beta  = np.linspace(-1, 1, 10)\n",
    "alpha, beta = np.meshgrid(alpha, beta)\n",
    "\n",
    "# Cada punto del plano es: P = alpha * x1 + beta * x2\n",
    "X = alpha * x1[0] + beta * x2[0]\n",
    "Y = alpha * x1[1] + beta * x2[1]\n",
    "Z = alpha * x1[2] + beta * x2[2]\n",
    "\n",
    "# Añadimos la superficie del span (con cierta transparencia)\n",
    "fig.add_trace(go.Surface(x=X, y=Y, z=Z, opacity=0.5, colorscale='Viridis', showscale=False, name='Span(x1, x2)'))\n",
    "\n",
    "# Configuración final del gráfico\n",
    "fig.update_layout(\n",
    "    title=\"Proyección de q sobre el span de x1 y x2 y vector ortogonal r\",\n",
    "    scene=dict(\n",
    "        xaxis_title='X',\n",
    "        yaxis_title='Y',\n",
    "        zaxis_title='Z'\n",
    "    )\n",
    ")\n",
    "\n",
    "fig.show()\n"
   ]
  },
  {
   "cell_type": "code",
   "execution_count": 3,
   "metadata": {},
   "outputs": [
    {
     "name": "stdout",
     "output_type": "stream",
     "text": [
      "Coeficientes estimados (Python):Intel MKL WARNING: Support of Intel(R) Streaming SIMD Extensions 4.2 (Intel(R) SSE4.2) enabled only processors has been deprecated. Intel oneAPI Math Kernel Library 2025.0 will require Intel(R) Advanced Vector Extensions (Intel(R) AVX) instructions.\n",
      "a (intercepto): 3.846370518808172\n",
      "b (pendiente): 1.8588377507009843\n",
      "\n",
      "Estos resultados deberían coincidir con los obtenidos en Excel usando LINEST.\n",
      "\n",
      "Verificación de ortogonalidad del vector error:\n",
      "Producto escalar (error_vector · [1,1,...,1]): 1.9806378759312793e-13\n",
      "Producto escalar (error_vector · x): -3.872457909892546e-13\n",
      "\n",
      "Los productos escalares deben ser 0 (o muy cercanos a 0) para confirmar la ortogonalidad.\n",
      "\n"
     ]
    },
    {
     "data": {
      "image/png": "[encoded data removed]",
      "text/plain": [
       "<Figure size 800x500 with 1 Axes>"
      ]
     },
     "metadata": {},
     "output_type": "display_data"
    }
   ],
   "source": [
    "import numpy as np\n",
    "import matplotlib.pyplot as plt\n",
    "\n",
    "# 1. Generar datos sintéticos\n",
    "np.random.seed(0)          # Para reproducibilidad\n",
    "n = 50                     # Número de datos\n",
    "x = np.linspace(0, 10, n)  # Valores de x en el intervalo [0, 10]\n",
    "\n",
    "# Parámetros verdaderos\n",
    "a_true = 3   # intercepto verdadero\n",
    "b_true = 2   # pendiente verdadera\n",
    "\n",
    "# Vector error: e ~ N(0,1)\n",
    "error = np.random.normal(0, 1, n)\n",
    "\n",
    "# Generamos la variable dependiente y\n",
    "y = a_true + b_true * x + error\n",
    "\n",
    "# 2. Resolver la regresión lineal con las ecuaciones normales\n",
    "# Construimos la matriz de diseño X (columna de 1's y columna de x)\n",
    "X = np.column_stack((np.ones(n), x))\n",
    "\n",
    "# Solución de las ecuaciones normales:\n",
    "# beta_hat = (X^T X)^{-1} X^T y\n",
    "beta_hat = np.linalg.inv(X.T @ X) @ (X.T @ y)\n",
    "a_est, b_est = beta_hat  # Intercepto y pendiente estimados\n",
    "\n",
    "print(\"Coeficientes estimados (Python):\")\n",
    "print(\"a (intercepto):\", a_est)\n",
    "print(\"b (pendiente):\", b_est)\n",
    "print(\"\\nEstos resultados deberían coincidir con los obtenidos en Excel usando LINEST.\")\n",
    "\n",
    "# 3. Calcular el vector de error y verificar ortogonalidad\n",
    "# Cálculo de la recta de regresión estimada\n",
    "y_est = X @ beta_hat\n",
    "\n",
    "# Vector error: e = y - y_est\n",
    "error_vector = y - y_est\n",
    "\n",
    "# Verificar ortogonalidad:\n",
    "# Producto escalar del error con el vector de unos (columna de 1's)\n",
    "dot_with_ones = np.dot(error_vector, np.ones(n))\n",
    "# Producto escalar del error con la variable x\n",
    "dot_with_x = np.dot(error_vector, x)\n",
    "\n",
    "print(\"\\nVerificación de ortogonalidad del vector error:\")\n",
    "print(\"Producto escalar (error_vector · [1,1,...,1]):\", dot_with_ones)\n",
    "print(\"Producto escalar (error_vector · x):\", dot_with_x)\n",
    "print(\"\\nLos productos escalares deben ser 0 (o muy cercanos a 0) para confirmar la ortogonalidad.\")\n",
    "\n",
    "# 4. (Opcional) Graficar datos y la línea de regresión\n",
    "plt.figure(figsize=(8, 5))\n",
    "plt.scatter(x, y, label='Datos', color='blue')\n",
    "plt.plot(x, y_est, color='red', label='Línea de regresión')\n",
    "plt.xlabel('x')\n",
    "plt.ylabel('y')\n",
    "plt.title('Regresión Lineal: y = a + b*x')\n",
    "plt.legend()\n",
    "plt.show()\n"
   ]
  }
 ],
 "metadata": {
  "kernelspec": {
   "display_name": "POO-env",
   "language": "python",
   "name": "python3"
  },
  "language_info": {
   "codemirror_mode": {
    "name": "ipython",
    "version": 3
   },
   "file_extension": ".py",
   "mimetype": "text/x-python",
   "name": "python",
   "nbconvert_exporter": "python",
   "pygments_lexer": "ipython3",
   "version": "3.11.5"
  }
 },
 "nbformat": 4,
 "nbformat_minor": 2
}
