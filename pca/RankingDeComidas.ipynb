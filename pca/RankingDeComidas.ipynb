{
 "cells": [
  {
   "cell_type": "code",
   "execution_count": 1,
   "metadata": {},
   "outputs": [],
   "source": [
    "import numpy as np\n",
    "from numpy import linalg as LA\n",
    "# https://numpy.org/doc/stable/reference/routines.linalg.html\n",
    "# from statistics import \n",
    "# https://numpy.org/doc/stable/reference/routines.statistics.html\n",
    "\n",
    "\n",
    "import scipy\n",
    "from scipy import linalg\n",
    "# https://docs.scipy.org/doc/scipy/reference/linalg.html\n",
    "from scipy import stats\n",
    "# https://docs.scipy.org/doc/scipy/reference/stats.html"
   ]
  },
  {
   "cell_type": "code",
   "execution_count": 17,
   "metadata": {},
   "outputs": [],
   "source": [
    "%matplotlib inline\n",
    "import matplotlib as mpl\n",
    "import matplotlib.pyplot as plt"
   ]
  },
  {
   "cell_type": "code",
   "execution_count": 3,
   "metadata": {},
   "outputs": [
    {
     "name": "stdout",
     "output_type": "stream",
     "text": [
      "[[10.  1.  2.  7.]\n",
      " [ 7.  2.  1. 10.]\n",
      " [ 2.  9.  7.  3.]\n",
      " [ 3.  6. 10.  2.]]\n",
      "[[ 5.   -4.   -3.25  1.75]\n",
      " [ 2.   -3.   -4.25  4.75]\n",
      " [-3.    4.    1.75 -2.25]\n",
      " [-2.    1.    4.75 -3.25]]\n"
     ]
    }
   ],
   "source": [
    "D = np.array([[10,1,2,7.0],[7,2,1,10],[2,9,7,3],[3,6,10,2]])\n",
    "MD = np.mean(D, axis = 1)\n",
    "DM = D - MD\n",
    "print(D)\n",
    "print(DM)"
   ]
  },
  {
   "cell_type": "code",
   "execution_count": 19,
   "metadata": {},
   "outputs": [
    {
     "name": "stdout",
     "output_type": "stream",
     "text": [
      "[3.47320808e-03 3.99711359e+00 1.62873002e+01 1.59212113e+02]\n",
      "[[ 0.51868181 -0.48091367 -0.5188915   0.48004463]\n",
      " [ 0.48141168 -0.51899231  0.51905638 -0.47903053]\n",
      " [ 0.47851555  0.47796009 -0.48086562 -0.55798323]\n",
      " [ 0.51984118  0.52050282  0.47968776  0.4782694 ]]\n"
     ]
    }
   ],
   "source": [
    "A = np.dot(DM.T,DM)\n",
    "w, v = scipy.linalg.eigh(A)\n",
    "print(w)\n",
    "print(v)"
   ]
  },
  {
   "cell_type": "code",
   "execution_count": 20,
   "metadata": {},
   "outputs": [
    {
     "name": "stdout",
     "output_type": "stream",
     "text": [
      "v1 =  [ 0.48004463 -0.47903053 -0.55798323  0.4782694 ]\n",
      "v2 =  [-0.5188915   0.51905638 -0.48086562  0.47968776]\n"
     ]
    }
   ],
   "source": [
    "v1 = v[:,3]\n",
    "v2 = v[:,2]\n",
    "print(\"v1 = \", v1)\n",
    "print(\"v2 = \", v2)\n",
    "# interpretar las componentes de los autovectores"
   ]
  },
  {
   "cell_type": "code",
   "execution_count": 6,
   "metadata": {},
   "outputs": [
    {
     "name": "stdout",
     "output_type": "stream",
     "text": [
      "pca1 =  [ 6.96676221  7.04038924 -5.40883282 -5.64391567]\n",
      "pca2 =  [-2.26841615  1.72724362  1.71208771 -2.28625754]\n"
     ]
    }
   ],
   "source": [
    "pca1 = np.dot(DM,v1)\n",
    "pca2 = np.dot(DM,v2)\n",
    "print(\"pca1 = \", pca1)\n",
    "print(\"pca2 = \", pca2)\n",
    "# proyecciones de los vectores en el \n",
    "# plano spanned por v1 y v2 \n",
    "# interpretar tamano relativo de las coordenandas"
   ]
  },
  {
   "cell_type": "code",
   "execution_count": 21,
   "metadata": {},
   "outputs": [
    {
     "name": "stdout",
     "output_type": "stream",
     "text": [
      "A_aprox = [9.52141862 0.4852723  2.45346689 7.49385775]\n",
      "A_exact = [10.  1.  2.  7.]\n",
      "B_aprox = [7.483449   2.5239754  0.49100883 9.44574039]\n",
      "B_exact = [ 7.  2.  1. 10.]\n",
      "C_aprox = [1.51513111 8.47966612 7.44475387 3.48438826]\n",
      "C_exact = [2. 9. 7. 3.]\n",
      "D_aprox = [3.4769882  6.51691138 9.49859292 1.45399805]\n",
      "D_exact = [ 3.  6. 10.  2.]\n"
     ]
    }
   ],
   "source": [
    "A_aprox = MD + pca1[0]*v1 + pca2[0]*v2\n",
    "B_aprox = MD + pca1[1]*v1 + pca2[1]*v2\n",
    "C_aprox = MD + pca1[2]*v1 + pca2[2]*v2\n",
    "D_aprox = MD + pca1[3]*v1 + pca2[3]*v2\n",
    "print (\"A_aprox =\", A_aprox.T)\n",
    "print (\"A_exact =\", D[0,:])\n",
    "print (\"B_aprox =\", B_aprox.T)\n",
    "print (\"B_exact =\", D[1,:])\n",
    "print (\"C_aprox =\", C_aprox.T)\n",
    "print (\"C_exact =\", D[2,:])\n",
    "print (\"D_aprox =\", D_aprox.T)\n",
    "print (\"D_exact =\", D[3,:])\n",
    "# Notar que es una muy buena aproximacion 2-D a un problema 4-D\n",
    "# explicarlo."
   ]
  },
  {
   "cell_type": "code",
   "execution_count": 15,
   "metadata": {},
   "outputs": [
    {
     "data": {
      "image/png": "[encoded data removed]",
      "text/plain": [
       "<Figure size 432x432 with 1 Axes>"
      ]
     },
     "metadata": {
      "needs_background": "light"
     },
     "output_type": "display_data"
    }
   ],
   "source": [
    "x = pca1.reshape(4,)\n",
    "y = pca2.reshape(4,)\n",
    "\n",
    "fig, ax = plt.subplots(figsize=(6,6))\n",
    "\n",
    "# remove top and right spines\n",
    "ax.spines['right'].set_color('none')\n",
    "ax.spines['top'].set_color('none')\n",
    "\n",
    "# remove top and right spine ticks\n",
    "ax.xaxis.set_ticks_position('bottom')\n",
    "ax.yaxis.set_ticks_position('left')\n",
    "\n",
    "# move bottom and left spine to x = 0 and y = 0\n",
    "ax.spines['bottom'].set_position(('data', 0))\n",
    "ax.spines['left'].set_position(('data', 0))\n",
    "\n",
    "l = 7.5\n",
    "ax.set_xticks([-1*l,-0.5*l, 0.5*l, 1*l])\n",
    "ax.set_yticks([-1*l,-0.5*l, 0.5*l, 1*l])\n",
    "\n",
    "\n",
    "ax.set_title(\"Proyeccion en el plano optimo PCA \\nReduccion dimensional de 4-d a 2-d\", loc='left',\n",
    "             fontsize=16, fontname='serif', color=\"blue\")\n",
    "\n",
    "plt.xlim(-l, l)\n",
    "plt.ylim(-l, l)\n",
    "plt.gca().set_aspect('equal', adjustable='box')\n",
    "ax.scatter(pca1[0], pca2[0], s=None, color = \"r\",label=\"Alicia\")\n",
    "ax.scatter(pca1[1], pca2[1], s=None, color = \"b\",label=\"Benjamin\")\n",
    "ax.scatter(pca1[2], pca2[2], s=None, color = \"g\",label=\"Carolina\")\n",
    "ax.scatter(pca1[3], pca2[3], s=None, color = \"m\",label=\"Diego\")\n",
    "\n",
    "\n",
    "# sorry... no tengo tiempo\n",
    "plt.xlabel(\"                                                                                             pca1\")\n",
    "plt.ylabel('                                                                                             pca2')\n",
    "ax.legend()\n",
    "\n",
    "plt.show()"
   ]
  },
  {
   "cell_type": "code",
   "execution_count": null,
   "metadata": {},
   "outputs": [],
   "source": []
  }
 ],
 "metadata": {
  "kernelspec": {
   "display_name": "Python 3",
   "language": "python",
   "name": "python3"
  },
  "language_info": {
   "codemirror_mode": {
    "name": "ipython",
    "version": 3
   },
   "file_extension": ".py",
   "mimetype": "text/x-python",
   "name": "python",
   "nbconvert_exporter": "python",
   "pygments_lexer": "ipython3",
   "version": "3.7.6"
  }
 },
 "nbformat": 4,
 "nbformat_minor": 4
}
