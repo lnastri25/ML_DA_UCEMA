{
 "cells": [
  {
   "cell_type": "code",
   "execution_count": 1,
   "id": "34a75ba3",
   "metadata": {},
   "outputs": [],
   "source": [
    "%matplotlib inline"
   ]
  },
  {
   "cell_type": "code",
   "execution_count": 2,
   "id": "13837a43",
   "metadata": {},
   "outputs": [],
   "source": [
    "import matplotlib.pyplot as plt"
   ]
  },
  {
   "cell_type": "code",
   "execution_count": 3,
   "id": "96c26b31",
   "metadata": {},
   "outputs": [],
   "source": [
    "import numpy as np\n",
    "from numpy import linalg as LA"
   ]
  },
  {
   "cell_type": "code",
   "execution_count": 39,
   "id": "3c8d88d0",
   "metadata": {},
   "outputs": [
    {
     "name": "stdout",
     "output_type": "stream",
     "text": [
      "E(x) =  0.0\n",
      "Vax(x) =  1.0\n"
     ]
    }
   ],
   "source": [
    "'''probabilidades: 1 variable aleatoria \"x\"''' \n",
    "\n",
    "x0 = -1.\n",
    "x1 = 1.\n",
    "\n",
    "p0 = 0.5\n",
    "p1 = 1 - p0\n",
    "\n",
    "Ex = p0*x0 + p1*x1\n",
    "print(\"E(x) = \", Ex)\n",
    "Exx = p0*x0**2 + p1*x1**2\n",
    "Vx = Exx - Ex**2\n",
    "print(\"Vax(x) = \", Vx)"
   ]
  },
  {
   "cell_type": "code",
   "execution_count": 40,
   "id": "47952021",
   "metadata": {},
   "outputs": [
    {
     "name": "stdout",
     "output_type": "stream",
     "text": [
      "Datos empiricos de x = \n",
      " [[-1.]\n",
      " [-1.]\n",
      " [ 1.]\n",
      " [ 1.]\n",
      " [ 1.]\n",
      " [ 1.]\n",
      " [ 1.]\n",
      " [ 1.]\n",
      " [ 1.]\n",
      " [ 1.]]\n",
      "Estimacion empirica de la media de x =  [[0.1]]\n",
      "Estimacion empirica de la media de x con np.mean =  [0.1]\n"
     ]
    }
   ],
   "source": [
    "# Estimacion empirica de los valores esperados y matriz varianza-covarianza\n",
    "# m es en numero de datos\n",
    "\n",
    "m = 100\n",
    "X = np.zeros((m,1))\n",
    "One = np.ones((m,1))\n",
    "\n",
    "Z = np.random.rand(m,1)\n",
    "\n",
    "# Generacion de datos:\n",
    "for i in range(m):\n",
    "    if Z[i,0] < p0:\n",
    "        X[i,0] = x0\n",
    "    else:\n",
    "        X[i,0] = x1\n",
    "print(\"Datos empiricos de x = \\n\", X[:10]) # los primeros 10\n",
    "\n",
    "Ex_emp = np.dot(One.T,X)/m # probar que esta forma vectorizada estima la media de x\n",
    "print(\"Estimacion empirica de la media de x = \", Ex_emp) \n",
    "\n",
    "Mx = np.mean(X, axis=0) # esta operacion hace lo mismo que Ex_emp\n",
    "print(\"Estimacion empirica de la media de x con np.mean = \", Mx) \n",
    "\n",
    "# jugar con el valor de m y ver como converge Ex_emp a Ex cuando m se hace grande (error ~ 1 / sqrt(m))"
   ]
  },
  {
   "cell_type": "code",
   "execution_count": 41,
   "id": "cb9792ce",
   "metadata": {},
   "outputs": [
    {
     "name": "stdout",
     "output_type": "stream",
     "text": [
      "XM.shape =  (100, 1)\n",
      "Vx_emp =  [[0.99]]\n",
      "Verror = Vx - Vx_emp =  [[0.01]]\n"
     ]
    }
   ],
   "source": [
    "# \"centrar\" los datos\n",
    "XM = X - np.mean(X, axis=0) # esto es Python 'broadcasting'\n",
    "print(\"XM.shape = \", XM.shape)\n",
    "\n",
    "# probar que esta forma vectorizada genera la estimacion empirica de la varianza\n",
    "Vx_emp = np.dot(XM.T,XM)/m # estrictamente deberia dividir por (m-1), por que es irrelevante cuando m es grande?\n",
    "\n",
    "Verror = Vx - Vx_emp # error de estimacion\n",
    "\n",
    "print(\"Vx_emp = \", Vx_emp)\n",
    "print(\"Verror = Vx - Vx_emp = \", Verror)"
   ]
  },
  {
   "cell_type": "code",
   "execution_count": 38,
   "id": "01df2a1e",
   "metadata": {},
   "outputs": [
    {
     "name": "stdout",
     "output_type": "stream",
     "text": [
      "p11 = 0.2\n"
     ]
    }
   ],
   "source": [
    "'''probabilidades: 2 variables aleatorias \"x, y\"''' \n",
    "\n",
    "# joint probability distribution of the random variables x and y\n",
    "\n",
    "p00 = 0.1 # = p(x0,y0)\n",
    "p01 = 0.4 # = p(x0,y1)\n",
    "p10 = 0.3 # = p(x1,y0)\n",
    "p11 = 1.0 - p00 - p01 - p10 # = p(x1,y1) # Chequear que no de negativo!\n",
    "print(\"p11 =\", p11)\n",
    "\n",
    "# values of the random variables\n",
    "x0 = -1.\n",
    "x1 = 1.\n",
    "y0 = -1.\n",
    "y1 = 1.\n",
    "\n",
    "# Marginal probability distributions\n",
    "\n",
    "px0 = p00 + p01\n",
    "px1 = p10 + p11\n",
    "\n",
    "py0 = p00 + p10\n",
    "py1 = p01 + p11"
   ]
  },
  {
   "cell_type": "code",
   "execution_count": 19,
   "id": "c20a2fc8",
   "metadata": {},
   "outputs": [
    {
     "name": "stdout",
     "output_type": "stream",
     "text": [
      "E(x) =  0.0\n",
      "E(y) =  0.20000000000000007\n",
      "[0.  0.2]\n",
      "E(xx) =  1.0\n",
      "E(yy) =  1.0\n",
      "E(xy) =  -0.4000000000000001\n",
      "Var(x) =  1.0\n",
      "Var(y) =  0.96\n",
      "CoVar(x,y) =  -0.4000000000000001\n",
      "Matriz Varianza-Covarianza exacta = \n",
      " [[ 1.   -0.4 ]\n",
      " [-0.4   0.96]]\n"
     ]
    }
   ],
   "source": [
    "# Valores esperados y varianza-covarianza exactos\n",
    "Ex = x0*px0 + x1*px1\n",
    "Ey = y0*py0 + y1*py1\n",
    "print(\"E(x) = \", Ex)\n",
    "print(\"E(y) = \", Ey)\n",
    "M_exact = np.array([Ex,Ey])\n",
    "print(M_exact)\n",
    "\n",
    "Exx = x0*x0*px0 + x1*x1*px1\n",
    "Eyy = y0*y0*py0 + y1*y1*py1\n",
    "print(\"E(xx) = \", Exx)\n",
    "print(\"E(yy) = \", Eyy)\n",
    "\n",
    "Exy = x0*y0*p00 + x0*y1*p01 + x1*y0*p10 + x1*x1*p11\n",
    "# Notar que aca es necesario usar la joint probability distribution, las marginales no tienen la informacion necesaria\n",
    "print(\"E(xy) = \", Exy)\n",
    "\n",
    "Vxx = Exx - Ex**2\n",
    "Vyy = Eyy - Ey**2\n",
    "Vxy = Exy - Ex*Ey\n",
    "print(\"Var(x) = \", Vxx)\n",
    "print(\"Var(y) = \", Vyy)\n",
    "print(\"CoVar(x,y) = \", Vxy)\n",
    "\n",
    "VC_exact = np.array([[Vxx,Vxy],[Vxy,Vyy]])\n",
    "print(\"Matriz Varianza-Covarianza exacta = \\n\", VC_exact)"
   ]
  },
  {
   "cell_type": "markdown",
   "id": "e7958151",
   "metadata": {},
   "source": [
    "Reemplazando las probabilidades marginales por su expresión en termino de las \"joint\", encontrar la expresión para las distintas expresiones en la celta de mas arriba. Notar que cuando queremos calcular términos cruzados, como E(xy) o CoVar(x,y), las marginales no alcanzan y hay que apelar si o si a la joint probability distributions (notar que las marginales tienen 2 parámetros libres mientras que la joint 3)."
   ]
  },
  {
   "cell_type": "code",
   "execution_count": 24,
   "id": "b567451e",
   "metadata": {},
   "outputs": [
    {
     "name": "stdout",
     "output_type": "stream",
     "text": [
      "Mean(X,Y) =  [0.  0.2]\n",
      "Error(Mean) = M_exact - M_emp = \n",
      " [0.00000000e+00 5.55111512e-17]\n",
      "DM.shape =  (100, 2)\n",
      "Mean de DM =  [ 0.00000000e+00 -3.99680289e-17]\n",
      "Matriz Varianza-Covarianza empirica = \n",
      " [[ 1.   -0.36]\n",
      " [-0.36  0.96]]\n",
      "Error(VC) = VC_exact - VC_emp = \n",
      " [[ 0.00000000e+00 -4.00000000e-02]\n",
      " [-4.00000000e-02  2.22044605e-16]]\n"
     ]
    }
   ],
   "source": [
    "# Estimacion empirica de los valores esperados y matriz varianza-covarianza\n",
    "# m es en numero de datos\n",
    "\n",
    "m = 100\n",
    "X = np.zeros((m,1))\n",
    "Y = np.zeros((m,1))\n",
    "\n",
    "Z = np.random.rand(m,1)\n",
    "\n",
    "# Generacion de datos:\n",
    "for i in range(m):\n",
    "    if Z[i,0] < p00:\n",
    "        X[i,0] = x0\n",
    "        Y[i,0] = y0\n",
    "    elif Z[i,0] < p00 + p01:\n",
    "        X[i,0] = x0\n",
    "        Y[i,0] = y1\n",
    "    elif Z[i,0] < p00 + p01 + p10:\n",
    "        X[i,0] = x1\n",
    "        Y[i,0] = y0\n",
    "    else:\n",
    "        X[i,0] = x1\n",
    "        Y[i,0] = y1\n",
    "\n",
    "# Matrix de datos:\n",
    "D = np.concatenate((X, Y), axis=1)\n",
    "\n",
    "#restandole la media tanto a X como a Y\n",
    "M = np.mean(D, axis=0)\n",
    "print(\"Mean(X,Y) = \", M)\n",
    "# Diferencia entre los means exacta y empiricos\n",
    "print(\"Error(Mean) = M_exact - M_emp = \\n\", M_exact - M)\n",
    "\n",
    "\n",
    "\n",
    "DM = D - M  # DM es la matriz de datos \"centrados\".\n",
    "# Notar que a un array de shape (m,2) le restamos uno de shape (2,). Python interpreta corractamente lo que\n",
    "# queremos hacer. Esto se llama \"Broadcasting\"\n",
    "print(\"DM.shape = \", DM.shape)\n",
    "\n",
    "# Chequeamos que los datos en DM estan \"centrados\"\n",
    "print (\"Mean de DM = \", np.mean(DM, axis=0))\n",
    "\n",
    "# Calculamos la matrix Varianza-Covarianza (probar que este es, efectivamente, dicha matriz):\n",
    "VC_emp = (1/m)*np.dot(DM.T,DM)\n",
    "print(\"Matriz Varianza-Covarianza empirica = \\n\", VC_emp)\n",
    "\n",
    "# Diferencia entre la matriz varianza covarianza exacta y la empirica\n",
    "print(\"Error(VC) = VC_exact - VC_emp = \\n\", VC_exact - VC_emp)"
   ]
  },
  {
   "cell_type": "markdown",
   "id": "b73fda9b",
   "metadata": {},
   "source": [
    "En la celda anterior, jugar con el número de datos $m$ para ver como $M_{emp}$ y $VC_{emp}$ van convergiendo a $M_{exact}$ y $VC_{exact}$ cuando $m$ crece. El error debería decrecer como$$\\sim \\frac{1}{\\sqrt{m}}$$ "
   ]
  },
  {
   "cell_type": "markdown",
   "id": "64d932d5",
   "metadata": {},
   "source": [
    "La matriz VC\\_emp, siendo simétrica, tiene que tener autovalores y autovectores reales. Probar que además los autovalores son semidefinidos positivos (es decir, o bien son todos positivos, o algunos pueden ser 0, pero ninguno puede ser negativo). \n",
    "\n",
    "Hint: Para el vector genérico$$ \\mathbf{x} =\n",
    "\\left(\n",
    "   \\begin{array}{c}\n",
    "       x \\\\\n",
    "       y \\\\\n",
    "   \\end{array}\n",
    "\\right)$$\n",
    "usar la propiedad asociativa y la traspuesta de un producto para mostrar que la forma cuadratica$$\\mathbf{x}^{\\top} \\left( VC_{emp} \\right) \\mathbf{x} = \\mathbf{x}^{\\top} \\left( DM^{\\top} DM \\right) \\mathbf{x}$$\n",
    "es necesariamente semidefinida positiva. Que condición se tiene que dar para que para algún vector $\\mathbf{x}$ no nulo$$\n",
    "\\mathbf{x}^{\\top} \\left( DM^{\\top} DM \\right) \\mathbf{x} = \\mathbf{0}?$$\n",
    "Comprobemos numéricamente que la matriz varianza-covarianza tiene autovalores no negativos:"
   ]
  },
  {
   "cell_type": "code",
   "execution_count": 12,
   "id": "9e5df563",
   "metadata": {},
   "outputs": [
    {
     "name": "stdout",
     "output_type": "stream",
     "text": [
      "autovalores de VC_emp =  [0.57425837 1.22496071]\n",
      "autovectores de VC_emp = \n",
      " [[ 0.63761414 -0.7703559 ]\n",
      " [-0.7703559  -0.63761414]]\n"
     ]
    }
   ],
   "source": [
    "w , U = LA.eigh(VC_emp) # Notar que uso LA.eigh, con \"h\" al final. Esto conviene para matrices simetricas\n",
    "print(\"autovalores de VC_emp = \", w)\n",
    "print(\"autovectores de VC_emp = \\n\", U)"
   ]
  },
  {
   "cell_type": "markdown",
   "id": "9cef95de",
   "metadata": {},
   "source": [
    "Recordemos que las columnas de $U$ son los autovectores de VC\\_emp,$$U = \\left(\n",
    "         \\begin{array}{cc}\n",
    "             | & | \\\\\n",
    "             \\mathbf{v}_0 & \\mathbf{v}_1 \\\\\n",
    "             | & | \\\\\n",
    "         \\end{array}\n",
    "      \\right), \\quad VC_{emp} \\mathbf{v}_0 = \\lambda_0 \\mathbf{v}_1, \n",
    "      \\quad VC_{emp} \\mathbf{v}_0 = \\lambda_0 \\mathbf{v}_1$$ y por ser VC\\_emp simetrica, la matriz $U$ es ortonormal, es decir, sus columnas, los vectores $\\mathbf{v}_0$ y $\\mathbf{v}_1$, forman una base ortonormal, por lo que $U U^{\\top} = U^{\\top} U = I$). Entonces, tal como lo hicimos en un HW pasado,$$\\mathbf{x}^{\\top} VC_{emp} \\mathbf{x} = \\mathbf{x}^{\\top} U \\left( U^{\\top} VC_{emp} U \\right) U^{\\top} \\mathbf{x}$$\n",
    "Donde$$U^{\\top} VC_{emp} U$$\n",
    "es una matriz diagonal cuyos elementos diagonales son los autovalores de VC\\_emp, y$$U^{\\top} \\mathbf{x}$$\n",
    "son las coordenadas del vector $\\mathbf{x}$ en la base $\\{ \\mathbf{v}_0, \\mathbf{v}_1 \\}$ de autovectores de \n",
    "VC\\_emp. Comprobemos esto:"
   ]
  },
  {
   "cell_type": "code",
   "execution_count": 14,
   "id": "7639e6e3",
   "metadata": {},
   "outputs": [
    {
     "name": "stdout",
     "output_type": "stream",
     "text": [
      "U^T VC_emp U = \n",
      " [[0.5743 0.    ]\n",
      " [0.     1.225 ]]\n"
     ]
    }
   ],
   "source": [
    "print(\"U^T VC_emp U = \\n\", np.round(np.dot(U.T,np.dot(VC_emp, U)),4))"
   ]
  },
  {
   "cell_type": "markdown",
   "id": "ada6ebf2",
   "metadata": {},
   "source": [
    "Esto significa que si en cambio de las variables aleatorias $x$ e $y$, que, recordemos, podían tomar valores $x_0, x_1$ y\n",
    "$y_0, y_1$ respectivamente, usamos las combinaciones lineales:\n",
    "$$p = \\mathbf{v}_{0}^{\\top}\\mathbf{x} = (v_{00}, v_{01})\n",
    "\\left(\n",
    "    \\begin{array}{c}\n",
    "      x \\\\\n",
    "      y \\\\\n",
    "    \\end{array}\n",
    "\\right) = v_{00}x + v_{01} y, \\qquad\n",
    "q = \\mathbf{v}_{1}^{\\top}\\mathbf{x} = (v_{10}, v_{11})\n",
    "\\left(\n",
    "    \\begin{array}{c}\n",
    "      x \\\\\n",
    "      y \\\\\n",
    "    \\end{array}\n",
    "\\right) = v_{10}x + v_{11} y$$\n",
    "entonces, las variables aleatorias $p$ y $q$ van a tener correlación nula, es decir, sus covarianzas van a ser cero. Notar que $p$ nos da la proyección de $\\mathbf{x}$ sobre $\\mathbf{v}_{0}$ y $q$ la proyección de $\\mathbf{x}$ sobre $\\mathbf{v}_{1}$."
   ]
  },
  {
   "cell_type": "markdown",
   "id": "c6bb2fb6",
   "metadata": {},
   "source": [
    "Vamos a comprobar todo esto numéricamente, pero como ya sabemos mucha algebra lineal es MUY útil ser lo mas compacto posible en nuestras operaciones matriciales y vectoriales, no solo por simplicidad, sino porque además Python, cuando puede paraleliza los cálculos, haciéndolos muchísimo más rápidos. Pero solo los puede paralelizar si están escritos en forma matricial.\n",
    "\n",
    "Fijémonos que por ser $\\mathbf{v}_{i}$ y $\\mathbf{x}$ vectores, sus productos escalares conmutan, es decir:$$p = \\mathbf{v}_{0}^{\\top}\\mathbf{x} = v_{00}x + v_{01} y =\n",
    "\\mathbf{x}^{\\top}\\mathbf{v}_{0}, \\qquad\n",
    "q = \\mathbf{v}_{1}^{\\top}\\mathbf{x} = v_{10}x + v_{11} y=\n",
    "\\mathbf{x}^{\\top}\\mathbf{v}_{1}$$\n",
    "En la matriz $DM$, de datos \"centrados\", la fila iésima corresponde al dato $i$ traspuesto:$$\n",
    "\\mathbf{x}^{\\top}_i = ( x_i - \\bar{x}, y_i - \\bar{y})$$\n",
    "Entonces:$$PQ = DM \\cdot U = \\left(\n",
    "    \\begin{array}{c}\n",
    "       \\mathbf{x}^{\\top}_0 \\\\\n",
    "       \\vdots \\\\\n",
    "       \\mathbf{x}^{\\top}_m \\\\\n",
    "    \\end{array}\n",
    "  \\right) (\\mathbf{v}_0, \\mathbf{v}_1)= \n",
    "  \\left(\n",
    "    \\begin{array}{cc}\n",
    "      \\mathbf{x}^{\\top}_0 \\mathbf{v}_0 & \\mathbf{x}^{\\top}_0 \\mathbf{v}_1  \\\\\n",
    "      \\vdots & \\vdots \\\\\n",
    "      \\mathbf{x}^{\\top}_m \\mathbf{v}_0 & \\mathbf{x}^{\\top}_m \\mathbf{v}_1 \\\\\n",
    "    \\end{array}\n",
    "  \\right)$$\n",
    "Es decir, $PQ$ es una matriz de $m \\times 2$ cuya primera columna son los datos empíricos de la variable aleatoria $p$ y su segunda columna son los datos empíricos de la variable aleatoria $q$. \n",
    "\n",
    "Además, como dijimos, el elemento $p_i$ de la primera columna es la proyección, en el plano $(x,y)$, del dato empírico $(x_i,y_i)$ en la dirección del subespacio generado por $\\mathbf{v}_0$, y el elemento $q_i$ de la segunda columna es la proyección, en el plano $(x,y)$, del dato empírico $(x_i,y_i)$ en la dirección del subespacio generado por $\\mathbf{v}_1$.\n",
    "\n",
    "Argumentamos antes que estas nuevas variables deberían tener covarianza cero. Comprobemoslo:"
   ]
  },
  {
   "cell_type": "code",
   "execution_count": 15,
   "id": "9c88abb5",
   "metadata": {},
   "outputs": [
    {
     "name": "stdout",
     "output_type": "stream",
     "text": [
      "PQ.shape =  (1000000, 2)\n",
      "matriz varianza-covarianza de las variables p y q = \n",
      " [[ 0.574 -0.   ]\n",
      " [-0.     1.225]]\n"
     ]
    }
   ],
   "source": [
    "PQ = np.dot(DM,U)\n",
    "print(\"PQ.shape = \", PQ.shape)\n",
    "\n",
    "VC_PQ = (1/m)*np.dot(PQ.T,PQ)\n",
    "print(\"matriz varianza-covarianza de las variables p y q = \\n\", np.round(VC_PQ,3))"
   ]
  },
  {
   "cell_type": "markdown",
   "id": "0275ac6f",
   "metadata": {},
   "source": [
    "Notar que, efectivamente, no solo los elementos no diagonales son cero, sino que, además, los diagonales son iguales a los autovalores de la matriz varianza covarianza VC\\_emp de los datos empíricos originales $x$ e $y$! \n",
    "\n",
    "Esto es como debía ser, ya que, como vimos antes, $$\\mathbf{x}^{\\top} VC_{emp} \\mathbf{x} = \\mathbf{x}^{\\top} U \\left( U^{\\top} VC_{emp} U \\right) U^{\\top} \\mathbf{x}$$\n",
    "Donde$$U^{\\top} VC_{emp} U$$\n",
    "es una matriz diagonal cuyos elementos diagonales son los autovalores de VC\\_emp, y$$U^{\\top} \\mathbf{x}$$\n",
    "son las coordenadas del vector $\\mathbf{x}$ en la base $\\{ \\mathbf{v}_0, \\mathbf{v}_1 \\}$ de autovectores de VC\\_emp."
   ]
  },
  {
   "cell_type": "markdown",
   "id": "a284733c",
   "metadata": {},
   "source": [
    "Todo esto vale independientemente dela dimensionalidad de los datos. Si en vez de $d=2$ tenemos un $d$ (número de \"features\") genérico, la matriz de datos ser de $m \\times d$, la matriz VarCov será de $d \\times d$, esta también será simétricas y semidefinida positiva, y si pasamos a la base de autovectores, las variables aleatorias correspondientes a las proyecciones sobre los autovectores no tendrán correlación entre ellas (sus covarianzas serán cero), y además sus varianzas serán los autovalores de la matriz varianza-covarianza original."
   ]
  },
  {
   "cell_type": "code",
   "execution_count": null,
   "id": "c94af2b2",
   "metadata": {},
   "outputs": [],
   "source": []
  }
 ],
 "metadata": {
  "kernelspec": {
   "display_name": "Python 3 (ipykernel)",
   "language": "python",
   "name": "python3"
  },
  "language_info": {
   "codemirror_mode": {
    "name": "ipython",
    "version": 3
   },
   "file_extension": ".py",
   "mimetype": "text/x-python",
   "name": "python",
   "nbconvert_exporter": "python",
   "pygments_lexer": "ipython3",
   "version": "3.9.13"
  }
 },
 "nbformat": 4,
 "nbformat_minor": 5
}
