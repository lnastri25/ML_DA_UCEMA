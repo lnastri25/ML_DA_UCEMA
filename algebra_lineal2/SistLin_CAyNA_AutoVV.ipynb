{
 "cells": [
  {
   "cell_type": "code",
   "execution_count": 1,
   "metadata": {},
   "outputs": [],
   "source": [
    "import numpy as np\n",
    "from numpy import linalg as LA  # Notar que importamos linalg con nickname LA"
   ]
  },
  {
   "cell_type": "code",
   "execution_count": 3,
   "metadata": {},
   "outputs": [
    {
     "name": "stdout",
     "output_type": "stream",
     "text": [
      "[[-0.17965629]]\n"
     ]
    }
   ],
   "source": [
    "d = 3\n",
    "c1 = 2*(np.random.rand(d,1)-0.5) # c1 y c2 son dos vectores 3x1 con elementos aleatorios en el \n",
    "c2 = 2*(np.random.rand(d,1)-0.5) # rango (-1,1). Pregunta: por que puedo sumar un vector\n",
    "                                 # y un escalar?Buscar \"numpy broadcasting\"\n",
    "print(np.dot(c1.T,c2)/(LA.norm(c1)*LA.norm(c2)))\n",
    "# EL producto escalar entre c1 y c2 es c1.c2 = |c1||c2|cos(theta), entonces, \n",
    "# c1.c2/(|c1||c2|) = cos(theta), por lo que si este numero NO es 1 ni -1, sabemos que los\n",
    "# vectores c1 y c2 no son linealmente independientes.\n",
    "# Por otra parte, habiendo generado c1 y c2 al azar, las chances de que sean linealmente\n",
    "# dependientes son minusculas. Igualmente vale la pena probar que no es 1."
   ]
  },
  {
   "cell_type": "code",
   "execution_count": 4,
   "metadata": {},
   "outputs": [
    {
     "name": "stdout",
     "output_type": "stream",
     "text": [
      "c1 = \n",
      " [[ 0.87362597]\n",
      " [ 0.83531565]\n",
      " [-0.76604874]]\n",
      "c2 = \n",
      " [[ 0.14388371]\n",
      " [-0.09318158]\n",
      " [ 0.13589776]]\n"
     ]
    }
   ],
   "source": [
    "print(\"c1 = \\n\", c1)\n",
    "print(\"c2 = \\n\", c2)"
   ]
  },
  {
   "cell_type": "code",
   "execution_count": 5,
   "metadata": {},
   "outputs": [
    {
     "name": "stdout",
     "output_type": "stream",
     "text": [
      "c1 = \n",
      " [[ 0.87362597]\n",
      " [ 0.83531565]\n",
      " [-0.76604874]]\n",
      "c2 = \n",
      " [[ 0.14388371]\n",
      " [-0.09318158]\n",
      " [ 0.13589776]]\n",
      "c3 = \n",
      " [[-0.66897236]\n",
      " [-0.52929443]\n",
      " [ 0.461283  ]]\n"
     ]
    }
   ],
   "source": [
    "d1 = 2*(np.random.rand()-0.5) # d1 y d2 son escalares en el rango (-1,1)\n",
    "d2 = 2*(np.random.rand()-0.5)\n",
    "c3 = d1*c1 + d2*c2  # c3, por construccion, es linealmente dependiente de c1 y c2.\n",
    "print(\"c1 = \\n\",c1)\n",
    "print(\"c2 = \\n\",c2)\n",
    "print(\"c3 = \\n\",c3) # Sin embargo eso NO es obvio a simple vista"
   ]
  },
  {
   "cell_type": "markdown",
   "metadata": {},
   "source": [
    "Chequear en Geogebra 3D que c3 es linealmente dependiente de c1 y c2"
   ]
  },
  {
   "cell_type": "code",
   "execution_count": 6,
   "metadata": {},
   "outputs": [
    {
     "name": "stdout",
     "output_type": "stream",
     "text": [
      "(3, 3)\n",
      "[[ 0.87362597  0.14388371 -0.66897236]\n",
      " [ 0.83531565 -0.09318158 -0.52929443]\n",
      " [-0.76604874  0.13589776  0.461283  ]]\n"
     ]
    },
    {
     "data": {
      "text/plain": [
       "2"
      ]
     },
     "execution_count": 6,
     "metadata": {},
     "output_type": "execute_result"
    }
   ],
   "source": [
    "A = np.concatenate((c1, c2, c3), axis=1) # construimos la matriz A con columnas c1, c2 y c3\n",
    "print(A.shape)\n",
    "print(A)  # chequear que, efectivamente, las columnas de A son c1, c2 y c3\n",
    "LA.matrix_rank(A)  # EL rango de la matriz es el numero de columnas linealmente independientes"
   ]
  },
  {
   "cell_type": "code",
   "execution_count": 7,
   "metadata": {},
   "outputs": [],
   "source": [
    "# Construimos explicitamente A de modo que una de sus 3 columnas es linealmente dependiente\n",
    "# de las otras dos. Ahora hagamos de cuenta que no sabemos esto. Por cierto que, dado\n",
    "# que generamos las componentes de manera aleatoria, la dependencia linal no es obvia\n",
    "# a simple vista, pero por construccion sabemos que esta ahi.\n",
    "#\n",
    "# Entonces, recordemos:\n",
    "# 1) c1 y c2 son linealmente independiente. \n",
    "# 2) c3 es linealmente Dependiente de {c1, c2}\n",
    "# 3) Como los coeficientes fueron generados al azar, con probabilidad 0.99999999999.....\n",
    "#    c3 es lineamente independiente de c1 y c2 como vectores individuales,\n",
    "#    PERO ESTA EN EL PLANO GENERADO POR c1 y c2.\n",
    "# 4) Por lo tanto, con altisima probabilidad, los pares {c1, c3} y {c2, c3} tambien\n",
    "#    son linealmente idependientes (chequearlo en Geogebra!).\n",
    "# 5) Sin embargo, la terna {c1, c2, c3} es linealmente dependiente. (comprobarlo en Geogebra)\n",
    "# 6) Esto implica que el SPAN de {c1, c2, c3} es un plano, no es R^3.\n",
    "#\n",
    "# De ahora en mas, como dije mas arriba, hacemos de cuenta que\n",
    "#\n",
    "#            NO SABEMOS QUE LAS COLUMNAS DE A SON LINEALMENTE DEPENDIENTES!"
   ]
  },
  {
   "cell_type": "code",
   "execution_count": 8,
   "metadata": {},
   "outputs": [
    {
     "data": {
      "text/plain": [
       "4.526876677282164e-19"
      ]
     },
     "execution_count": 8,
     "metadata": {},
     "output_type": "execute_result"
    }
   ],
   "source": [
    "np.linalg.det(A)  # Una manera automatica de chequear si las columnas son linealmente\n",
    "                  # dependientes es calcular el determinante. Si da cero son linealmente\n",
    "                  # dependients. Ver el video de determinantes de 3Blue1Brown y entender  \n",
    "                  # el significado geometrico del determinante (como se\n",
    "                  # transforman los volumenes) para entender por que si son lin dep el det\n",
    "                  # tiene que ser cero.\n",
    "            \n",
    "                  # Pero, aunque el determinante de A sea cero, y por lo tanto no podamos\n",
    "                  # calcular la inversa de A, el sistema A x = b puede\n",
    "                  # tener solucion si justo b pertence al subespacio spanned por las columnas\n",
    "                  # de A. Vamos a averiguarlo con el metodo de Gram-Schmidt"
   ]
  },
  {
   "cell_type": "code",
   "execution_count": 9,
   "metadata": {},
   "outputs": [
    {
     "name": "stdout",
     "output_type": "stream",
     "text": [
      "(3, 1)\n",
      "[[ 0.87362597]\n",
      " [ 0.83531565]\n",
      " [-0.76604874]]\n",
      "(3, 1)\n",
      "[[ 0.14388371]\n",
      " [-0.09318158]\n",
      " [ 0.13589776]]\n",
      "(3, 1)\n",
      "[[-0.66897236]\n",
      " [-0.52929443]\n",
      " [ 0.461283  ]]\n"
     ]
    }
   ],
   "source": [
    "# Como estamos jugando a que no sabemos como se construyo A, extraigamos los vectores columnas y,\n",
    "# a travez del proceso de Gram-Schmidt, obtengamos con una base ortonormal\n",
    "# del subespacio generado por el span de las columnas de A\n",
    "c1A = A[:, [0]]  # columna 1 de la matriz A \n",
    "print(c1A.shape)\n",
    "print(c1A)\n",
    "c2A = A[:, [1]]  # columna 2 de la matriz A \n",
    "print(c2A.shape)\n",
    "print(c2A)\n",
    "c3A = A[:, [2]]  # columna 3 de la matriz A\n",
    "print(c3A.shape)\n",
    "print(c3A)"
   ]
  },
  {
   "cell_type": "code",
   "execution_count": 11,
   "metadata": {},
   "outputs": [
    {
     "name": "stdout",
     "output_type": "stream",
     "text": [
      "[[ 0.61049374]\n",
      " [ 0.58372231]\n",
      " [-0.53531828]]\n",
      "[[1.]]\n"
     ]
    }
   ],
   "source": [
    "n1A = c1A/LA.norm(c1A)          # dividiendo al vector por su magnitud obtenemos un vector\n",
    "                                # en la misma direccion pero de magnitud (o \"norma\") 1.\n",
    "print(n1A)\n",
    "print(np.dot(n1A.T,n1A))  # chequeamos que su norma es 1 multiplicandolo\n",
    "                                      # escalarmente por si mismo"
   ]
  },
  {
   "cell_type": "code",
   "execution_count": 12,
   "metadata": {},
   "outputs": [
    {
     "name": "stdout",
     "output_type": "stream",
     "text": [
      "[[-0.02399278]\n",
      " [-0.02294065]\n",
      " [ 0.02103834]]\n"
     ]
    }
   ],
   "source": [
    "# Ya tenemos el vector n1A, que es proporcional a c1A, pero de magnitud 1.\n",
    "# Ahora queremos construir el vector n2A.\n",
    "# Recordedmos que n2A es tiene que ser ortonormal con n1A, y tal que el span de {n1A, n2A}\n",
    "# sea el mismo que el de {c1A, c2A}\n",
    "# El mecanismo es: \n",
    "# 1) calculamos la componente de c2A paralela a n1A, la llamamos P_c2A_n1A\n",
    "P_c2A_n1A = np.dot(n1A.T,c2A)*n1A # la proyeccion del vector c2A sobre el vector n1A es\n",
    "                                              # (c2A.n1A) n1A \n",
    "                                              # c2A.n1A es producto escalar de C2A por n1A,\n",
    "                                              # que da la magnitud de la proyeccion de c2A \n",
    "                                              # sobre sobre n1A. Luego, al multiplicarlo por n1A,\n",
    "                                              # el vector resultante apunta en la direccion de n1A\n",
    "                                              # La formula general inluye una division por \n",
    "                                              # (n1A.n1A)\n",
    "                                              # en este caso no es necesario porque (n1A.n1A) = 1\n",
    "print(P_c2A_n1A)"
   ]
  },
  {
   "cell_type": "code",
   "execution_count": 13,
   "metadata": {},
   "outputs": [
    {
     "name": "stdout",
     "output_type": "stream",
     "text": [
      "[[ 0.16787649]\n",
      " [-0.07024093]\n",
      " [ 0.11485942]]\n",
      "[[0.]]\n"
     ]
    }
   ],
   "source": [
    "# 2) Calculamos la componente de c2A perpendicular a n1A.\n",
    "#    A dicha componente la llamamos P_c2A_perp_n1A (largo pero explicito... :))\n",
    "# 2_a) Se calcula simplemente restandole a c2A la componente paralela a n1A que \n",
    "#      ya calculamos en el paso 1.\n",
    "#      Naturalmente, P_c2A_perp_n1A tiene que ser perpendicular a n1A. \n",
    "P_c2A_perp_n1A = c2A - P_c2A_n1A  # la proyeccion del vector c2A perpendicular al vector n1A es\n",
    "                                  # c2A - P_c2A_n1A\n",
    "print(P_c2A_perp_n1A)\n",
    "print(np.dot(P_c2A_perp_n1A.T,P_c2A_n1A)) # para chequear la perpendicularidad de\n",
    "                                                      # P_c2A_perp_n1A y P_c2A_n1A\n",
    "                                                      # calculamos su producto escalar"
   ]
  },
  {
   "cell_type": "code",
   "execution_count": 14,
   "metadata": {},
   "outputs": [
    {
     "name": "stdout",
     "output_type": "stream",
     "text": [
      "[[ 0.14388371]\n",
      " [-0.09318158]\n",
      " [ 0.13589776]]\n",
      "[[ 0.14388371]\n",
      " [-0.09318158]\n",
      " [ 0.13589776]]\n"
     ]
    },
    {
     "data": {
      "text/plain": [
       "array([[ True],\n",
       "       [ True],\n",
       "       [ True]])"
      ]
     },
     "execution_count": 14,
     "metadata": {},
     "output_type": "execute_result"
    }
   ],
   "source": [
    "print(c2A)                          # Chequamos que c2A = P_c2A_n1A + P_c2A_perp_n1A de dos maneras\n",
    "print(P_c2A_n1A + P_c2A_perp_n1A)   # 1- Observando numericamente si coinciden\n",
    "c2A == P_c2A_n1A + P_c2A_perp_n1A   # 2- Preguntandole a Python con \"==\"\n",
    "                                    # (ojo con este ultimo metodo porque puede llegar a dar\n",
    "                                    # False por errores que las maquinas siempre cometen)"
   ]
  },
  {
   "cell_type": "code",
   "execution_count": 15,
   "metadata": {},
   "outputs": [
    {
     "name": "stdout",
     "output_type": "stream",
     "text": [
      "[[ 0.78011247]\n",
      " [-0.32640559]\n",
      " [ 0.53374518]]\n",
      "[[1.]]\n",
      "[[-5.55111512e-17]]\n"
     ]
    }
   ],
   "source": [
    "# 3) Calculamos n2A (que tiene que tener norma 1) simplemente dividiendo a \n",
    "#    P_c2A_perp_n1A por su norma.\n",
    "# 3_a) Chequeamos que el conjunto {n1A, n2A} es ortonormal\n",
    "#\n",
    "n2A = P_c2A_perp_n1A/LA.norm(P_c2A_perp_n1A) # Generamos n2A, que es el vector de norma = 1\n",
    "print(n2A)                                          # perpendicular a n1A \n",
    "print(np.dot(n2A.T,n2A))                # El conjunto {n1A, n2A} es ortonormal y\n",
    "print(np.dot(n1A.T,n2A))                # genera el subespacio de R3 en el que \"viven\"\n",
    "                                                    # c1A y c2A"
   ]
  },
  {
   "cell_type": "markdown",
   "metadata": {},
   "source": [
    "Chequear en Geogebra 3D que n1A y n2A spanean el mismo plano que c1A y c2A pero son ortonormales "
   ]
  },
  {
   "cell_type": "code",
   "execution_count": 16,
   "metadata": {},
   "outputs": [
    {
     "name": "stdout",
     "output_type": "stream",
     "text": [
      "[[-0.58869766]\n",
      " [-0.56288204]\n",
      " [ 0.51620615]]\n",
      "[[-0.0802747 ]\n",
      " [ 0.03358761]\n",
      " [-0.05492315]]\n"
     ]
    }
   ],
   "source": [
    "# 4) Queremos calcular la componente de c3A perpendicular a n1A y n2A (y por lo tanto,\n",
    "#    tambien perpendicular a c1A y c2A)\n",
    "# 4_a) Primero calculamos las componentes de c3A paraleleas a n1A y n2A.\n",
    "\n",
    "P_c3A_n1A = np.dot(n1A.T,c3A)*n1A # Continuamos con el proceso de Gram-Schmidt con\n",
    "P_c3A_n2A = np.dot(n2A.T,c3A)*n2A # el vector c3A. Ahora estamos calculando las\n",
    "print(P_c3A_n1A)                              # proyecciones de c3A sobre n1A y n2A\n",
    "print(P_c3A_n2A)                              "
   ]
  },
  {
   "cell_type": "code",
   "execution_count": 17,
   "metadata": {},
   "outputs": [
    {
     "name": "stdout",
     "output_type": "stream",
     "text": [
      "[[-1.38777878e-17]\n",
      " [ 6.93889390e-18]\n",
      " [-2.08166817e-17]]\n"
     ]
    }
   ],
   "source": [
    "# 4_b) Calculamos la componente de c3A perpendicular a n1A y n2A.\n",
    "#      A esto lo hacemos simplemente restando de c3A las componentes paralelas a n1A y a n2A\n",
    "\n",
    "P_c3A_perp_n1Ayn2A = c3A - P_c3A_n1A - P_c3A_n2A # Intentamos extraer la componente de c3A que\n",
    "print(P_c3A_perp_n1Ayn2A)                        # NO esta en el subespacio spanned por \n",
    "                                                 # {n1A, n2A} pero nos da zero!\n",
    "                                                 # Esto significa que c3A el linealmente\n",
    "                                                 # dependiente de c1A y c2A \n",
    "                                                 #\n",
    "                                                 # Por eso concluimos que el sistema\n",
    "                                                 # A x = b\n",
    "                                                 # solo tendra solucion si justo b pertenece\n",
    "                                                 # al mismo subespacio."
   ]
  },
  {
   "cell_type": "code",
   "execution_count": 18,
   "metadata": {},
   "outputs": [
    {
     "name": "stdout",
     "output_type": "stream",
     "text": [
      "[[-2.69442418e+17]\n",
      " [-1.87545085e+17]\n",
      " [-3.92208395e+17]]\n"
     ]
    }
   ],
   "source": [
    "\"\"\"Ecuaciones lineales: A x = b\"\"\"\n",
    "# Nuestro proposito es entender cuando la ecuacion A x = b va a tener solucion.\n",
    "# Y que tipo de soluciones tiene\n",
    "#\n",
    "# Miremos el lado derecho de la ecuacion: A x\n",
    "# Recordemos que A x, donde x es un vector 3x1 de coeficientes incognita,\n",
    "# tiene el significado geometrico de una combinacion lineal de los vecores columna de A.\n",
    "# Los coeficientes de esa combinacion son los componentes incognita de x.\n",
    "# \n",
    "# Ahora miremos el lado izquierdo: b\n",
    "# la unica manera de que la ecuacion A x = b tenga solucion es que b viva en el subespacio spanned\n",
    "# por las columnas de A: C(A).\n",
    "# Entonces, si generamos un b al azar, con probabilidad ~1 la ecuacion no va atener solucion:\n",
    "b = 2*(np.random.rand(d,1)-0.5)\n",
    "x = LA.solve(A, b)  \n",
    "print(x)\n",
    "# numericamente esto aparece como un vector gigante"
   ]
  },
  {
   "cell_type": "code",
   "execution_count": 22,
   "metadata": {},
   "outputs": [
    {
     "name": "stdout",
     "output_type": "stream",
     "text": [
      "[[0.12218788]\n",
      " [0.91224957]\n",
      " [0.05358135]]\n"
     ]
    }
   ],
   "source": [
    "# Chequeamos que, efectivamente, x NO es una solucion de la ecuacion A x = b, o de A x - b = 0\n",
    "print(np.dot(A,x)-b)"
   ]
  },
  {
   "cell_type": "code",
   "execution_count": 19,
   "metadata": {},
   "outputs": [
    {
     "name": "stdout",
     "output_type": "stream",
     "text": [
      "[[ 0.16607921]\n",
      " [ 0.63332346]\n",
      " [-0.68453777]]\n"
     ]
    }
   ],
   "source": [
    "# Supongamos entonces que b vive en el subespacio\n",
    "# generado por las columnas de A. Como generamos un b asi?\n",
    "# Asi:\n",
    "\n",
    "bb1 = 2*(np.random.rand()-0.5) # bb1 y bb2 son escalares en el rango (-1,1)\n",
    "bb2 = 2*(np.random.rand()-0.5)\n",
    "b = bb1*n1A + bb2*n2A            # Por que puedo estar seguro de que esto vive en el subespacio\n",
    "print(b)                       # generado por las columnas de A? Numericamente no resulta obvio."
   ]
  },
  {
   "cell_type": "markdown",
   "metadata": {},
   "source": [
    "Chequear en Geogebra que b vive en el plano (subespacio generado por n1A y n2A)"
   ]
  },
  {
   "cell_type": "code",
   "execution_count": 20,
   "metadata": {},
   "outputs": [
    {
     "name": "stdout",
     "output_type": "stream",
     "text": [
      "[[-21.06365068]\n",
      " [-17.08579679]\n",
      " [-31.43059489]]\n"
     ]
    }
   ],
   "source": [
    "x = LA.solve(A, b)                   # Asi resolvemos la ecuacion \"singular\", pero\n",
    "                                     # todavia no entendemos conceptualmente como\n",
    "                                     # encontrar esta solucion\n",
    "print(x)"
   ]
  },
  {
   "cell_type": "code",
   "execution_count": 21,
   "metadata": {},
   "outputs": [
    {
     "name": "stdout",
     "output_type": "stream",
     "text": [
      "[[-9.99200722e-16]\n",
      " [-1.33226763e-15]\n",
      " [ 1.77635684e-15]]\n"
     ]
    }
   ],
   "source": [
    "# Chequeamos que, efectivamente, x es una solucion de la ecuacion A x = b, o de A x - b = 0\n",
    "print(np.dot(A,x)-b)"
   ]
  },
  {
   "cell_type": "code",
   "execution_count": 20,
   "metadata": {},
   "outputs": [],
   "source": [
    "# Como vimos, si hubiera 2 soluciones distintas entre si, x1 y x2 , de la ecuacion\n",
    "# A x = b, esto es, si A x1 = b y A x2 = b y x1 distinto de x2,\n",
    "# Entonces A (x1 - x2) = 0, donde (x1 - x2) es distinto del vector 0.\n",
    "# En otras palabras, existirian vectores \"d\" distintos de cero tales que\n",
    "#                       A d = 0\n",
    "# Si d es solucion de la ecuacion \"homogenea\", lambda*d, donde lambda es cualquier\n",
    "# numero real, tambien lo es.\n",
    "# Que significado geometrico tiene d?\n",
    "# Las componentes de d son incognita, llamemoslas d1, d2 y d3.\n",
    "#                        A d = d1*c1A + d2*c2A + d3* c3A = 0\n",
    "# es decir, A d es una combinacion lineal de los vectores columna de A que da como resultado\n",
    "# el vector 0.\n",
    "# Pero que exista tal combinacion lineal (no todos cero) implica que, por ejemplo\n",
    "# (si d3 es distinto de cero):\n",
    "#                    c3A = -(d1/d3)*c1A - (d2/d3)*c2A \n",
    "# es decir, que la tercera columna sea combinacion linal de las primeras dos.\n",
    "# Es decir, implica que los vectores columna no son linealmente independientes. \n",
    "# \n",
    "# Esto implica que \n",
    "#                 (d1/d3)*c1A + (d2/d3)*c2A + c3A = 0"
   ]
  },
  {
   "cell_type": "code",
   "execution_count": 22,
   "metadata": {},
   "outputs": [
    {
     "name": "stdout",
     "output_type": "stream",
     "text": [
      "[[-0.68698789]\n",
      " [-0.47817713]\n",
      " [-1.        ]]\n"
     ]
    },
    {
     "data": {
      "text/plain": [
       "array([[0.],\n",
       "       [0.],\n",
       "       [0.]])"
      ]
     },
     "execution_count": 22,
     "metadata": {},
     "output_type": "execute_result"
    }
   ],
   "source": [
    "# recuerden que en una de las primeras celdas, construimos la columna c3 de A asi:\n",
    "# d1 = 2*(np.random.rand()-0.5) \n",
    "# d2 = 2*(np.random.rand()-0.5)\n",
    "# c3 = d1*c1 + d2*c2  # c3, por construccion, es linealmente dependiente de c1 y c2.\n",
    "# Esto significa que el vector\n",
    "x_0 = np.array([[d1],[d2],[-1]])\n",
    "print(x_0)\n",
    "# tiene que ser solucion de la ecuacion homogenea A x = 0. Probemos:\n",
    "np.dot(A,x_0)"
   ]
  },
  {
   "cell_type": "code",
   "execution_count": 23,
   "metadata": {},
   "outputs": [
    {
     "data": {
      "text/plain": [
       "array([[0.],\n",
       "       [0.],\n",
       "       [0.]])"
      ]
     },
     "execution_count": 23,
     "metadata": {},
     "output_type": "execute_result"
    }
   ],
   "source": [
    "# Entonces x_0 multiplicado por cualquier escalar tambien tiene que ser solucion:\n",
    "lambd = 20*(np.random.rand()-0.5) # numero aleatorio entre -10 y 10\n",
    "x_01 = lambd*x_0 # ojo que la palabra lambda esta protegida\n",
    "np.dot(A,x_01)"
   ]
  },
  {
   "cell_type": "code",
   "execution_count": 24,
   "metadata": {},
   "outputs": [
    {
     "name": "stdout",
     "output_type": "stream",
     "text": [
      "[[ 2.55351296e-15]\n",
      " [-1.33226763e-15]\n",
      " [ 1.77635684e-15]]\n"
     ]
    }
   ],
   "source": [
    "# Por lo tanto la solucion general de A x = b es una solucion particular x mas \n",
    "# una solucion cualquiera de la ecuacion A x = 0 (que llamamos x_01 = lambd*x_0):\n",
    "print(np.dot(A,x + x_01) - b)"
   ]
  },
  {
   "cell_type": "code",
   "execution_count": null,
   "metadata": {},
   "outputs": [],
   "source": [
    "# Notar que en este caso la matriz A fue construida a proposito de modo que\n",
    "# conocemos como construir la solucion de A x = 0.\n",
    "# En casos realistas esto no es asi. La semana que viene aprenderemos a resolverla\n",
    "# en general."
   ]
  },
  {
   "cell_type": "markdown",
   "metadata": {},
   "source": [
    "## HW2\n",
    "\n",
    "1- Por que, cuando intentamos resolver la ecuacion que no tenia solucion, la manera que encontro Python \n",
    "de decirnos que no habia solicion es darnos una supesta solucion consistente en un vector de\n",
    "magnitud gigante?\n",
    "\n",
    "2- Generamos una matriz de $A: m \\times n$ and azar y un vector $\\mathbf{y}: m \\times 1$."
   ]
  },
  {
   "cell_type": "code",
   "execution_count": 31,
   "metadata": {},
   "outputs": [
    {
     "name": "stdout",
     "output_type": "stream",
     "text": [
      "A = \n",
      " [[ 0.05709554  0.99691885]\n",
      " [ 0.27450591 -0.58283894]\n",
      " [-0.84092477  0.30829901]]\n",
      "y = \n",
      " [[-0.72463693]\n",
      " [-0.34699863]\n",
      " [-0.23225261]]\n"
     ]
    }
   ],
   "source": [
    "m = 3\n",
    "n = 2\n",
    "A = 2*(np.random.rand(m,n)-0.5)\n",
    "y = 2*(np.random.rand(m,1)-0.5)\n",
    "print(\"A = \\n\", A)\n",
    "print(\"y = \\n\", y)"
   ]
  },
  {
   "cell_type": "markdown",
   "metadata": {},
   "source": [
    "Tratar de resolver la ecuacion $A \\mathbf{x} = \\mathbf{y}$, con x = LA.solve(A, y), para diferentes valores de m y n.\n",
    "Comprobar numericamente que:\n",
    "\n",
    "Si $m > n$, el sistema no tiene solución.\n",
    "\n",
    "Si $m < n$, el sistema tiene infinitas soluciones (construir las infinitas soluciones como hicimos mas arriba).\n",
    "\n",
    "Si $m = n$, hay una única solución.\n",
    "\n",
    "Encontrar la manera (analiticamente, reproduciendo el argumento dado en clase, pero ademas numericamente con Python) de verificar que$$\\dim C(A) + \\dim N(A) = n$$"
   ]
  },
  {
   "cell_type": "code",
   "execution_count": 25,
   "metadata": {},
   "outputs": [
    {
     "data": {
      "text/plain": [
       "'Autovalores y Autovectores'"
      ]
     },
     "execution_count": 25,
     "metadata": {},
     "output_type": "execute_result"
    }
   ],
   "source": [
    "'''Autovalores y Autovectores'''"
   ]
  },
  {
   "cell_type": "code",
   "execution_count": 48,
   "metadata": {},
   "outputs": [
    {
     "name": "stdout",
     "output_type": "stream",
     "text": [
      "[[-0.37821604 -1.00836823  1.11211033 ... -0.69813001 -0.1336059\n",
      "  -0.25174001]\n",
      " [ 0.11120479  1.5762068  -0.10888885 ... -0.21492715  2.19325269\n",
      "  -0.47392529]\n",
      " [-0.27374387  0.17137625 -0.53363463 ...  2.06882993 -1.33490763\n",
      "   0.77352996]\n",
      " ...\n",
      " [ 0.70015678 -0.14154099  0.11439602 ... -1.18355242  0.37183968\n",
      "  -0.16435918]\n",
      " [ 0.86447523  1.46153835 -0.48739029 ...  0.03121905  0.82422284\n",
      "  -0.30835769]\n",
      " [ 0.4395312   0.14769686  0.5967996  ...  1.19769504  0.15106102\n",
      "  -0.55037316]]\n"
     ]
    }
   ],
   "source": [
    "n=100\n",
    "A = np.random.randn(n,n)\n",
    "print(A)"
   ]
  },
  {
   "cell_type": "code",
   "execution_count": 49,
   "metadata": {},
   "outputs": [
    {
     "name": "stdout",
     "output_type": "stream",
     "text": [
      "(100,)\n",
      "(100, 100)\n",
      "w =  [-6.89036755+7.81158535j -6.89036755-7.81158535j -7.9011511 +6.27996237j\n",
      " -7.9011511 -6.27996237j  8.46217647+4.33555251j  8.46217647-4.33555251j\n",
      " -9.90704549+1.64253662j -9.90704549-1.64253662j -4.93929737+8.19154975j\n",
      " -4.93929737-8.19154975j  8.83486619+0.51946244j  8.83486619-0.51946244j\n",
      " -0.18897299+9.50066535j -0.18897299-9.50066535j  8.42176475+0.j\n",
      "  4.08063883+8.08792006j  4.08063883-8.08792006j  5.15529074+7.04384881j\n",
      "  5.15529074-7.04384881j  2.91438084+8.40622461j  2.91438084-8.40622461j\n",
      " -2.80769933+8.75053049j -2.80769933-8.75053049j  1.33407535+8.81507741j\n",
      "  1.33407535-8.81507741j  7.30198516+3.90702343j  7.30198516-3.90702343j\n",
      "  6.48102137+5.18151854j  6.48102137-5.18151854j -8.22343848+3.76991344j\n",
      " -8.22343848-3.76991344j -8.38754725+2.35910763j -8.38754725-2.35910763j\n",
      " -8.81070038+0.j          4.49056191+6.06245881j  4.49056191-6.06245881j\n",
      "  6.98520894+1.27630184j  6.98520894-1.27630184j  6.71932501+2.24545057j\n",
      "  6.71932501-2.24545057j -2.46236166+7.72717168j -2.46236166-7.72717168j\n",
      "  2.2136488 +7.22457545j  2.2136488 -7.22457545j -8.26744269+1.41213817j\n",
      " -8.26744269-1.41213817j  4.90453514+5.19191555j  4.90453514-5.19191555j\n",
      " -0.22588924+7.52291168j -0.22588924-7.52291168j -3.75273443+6.72878636j\n",
      " -3.75273443-6.72878636j -6.04629355+4.83437063j -6.04629355-4.83437063j\n",
      " -7.52207001+0.j          3.19121638+4.98432135j  3.19121638-4.98432135j\n",
      "  5.46497993+1.45043777j  5.46497993-1.45043777j -2.82854151+5.56948342j\n",
      " -2.82854151-5.56948342j -6.08453993+2.37344896j -6.08453993-2.37344896j\n",
      "  5.04991497+0.j         -4.45089502+4.14360555j -4.45089502-4.14360555j\n",
      "  2.1987322 +5.14478326j  2.1987322 -5.14478326j -0.43405218+5.79118897j\n",
      " -0.43405218-5.79118897j -4.86199541+2.97794946j -4.86199541-2.97794946j\n",
      " -5.92392807+0.2939963j  -5.92392807-0.2939963j   4.20446291+2.04866792j\n",
      "  4.20446291-2.04866792j  0.44653514+5.12443871j  0.44653514-5.12443871j\n",
      " -5.16620921+0.69068942j -5.16620921-0.69068942j -0.50350867+4.80767465j\n",
      " -0.50350867-4.80767465j -2.28705014+3.95120806j -2.28705014-3.95120806j\n",
      " -0.34192652+3.8048471j  -0.34192652-3.8048471j   3.06680206+0.69953556j\n",
      "  3.06680206-0.69953556j -2.27485163+2.12829922j -2.27485163-2.12829922j\n",
      "  2.02092912+1.1829314j   2.02092912-1.1829314j   2.38618531+0.j\n",
      " -0.59926839+1.93552171j -0.59926839-1.93552171j  0.71004721+1.52205292j\n",
      "  0.71004721-1.52205292j -3.31260005+0.j         -2.57424409+0.j\n",
      " -1.49186747+0.j        ]\n",
      "v = \n",
      " [[ 0.04605284-0.17095936j  0.04605284+0.17095936j -0.04620032+0.10337259j\n",
      "  ...  0.01441165+0.j          0.07227714+0.j\n",
      "  -0.1239414 +0.j        ]\n",
      " [ 0.08228687+0.06511354j  0.08228687-0.06511354j -0.0264774 -0.04680033j\n",
      "  ... -0.01095888+0.j          0.07846359+0.j\n",
      "  -0.20446265+0.j        ]\n",
      " [ 0.01684296-0.07971097j  0.01684296+0.07971097j -0.11771019+0.00148087j\n",
      "  ...  0.10375589+0.j          0.02629562+0.j\n",
      "  -0.10036941+0.j        ]\n",
      " ...\n",
      " [-0.00890081-0.06725341j -0.00890081+0.06725341j  0.07699652+0.13985193j\n",
      "  ...  0.01440321+0.j         -0.06316771+0.j\n",
      "  -0.01015684+0.j        ]\n",
      " [-0.0517549 +0.0862315j  -0.0517549 -0.0862315j  -0.06408263-0.03680556j\n",
      "  ... -0.06609903+0.j         -0.01106437+0.j\n",
      "   0.04942621+0.j        ]\n",
      " [-0.07552694+0.06799014j -0.07552694-0.06799014j  0.04644774-0.03951173j\n",
      "  ...  0.02125145+0.j          0.04045612+0.j\n",
      "  -0.14037334+0.j        ]]\n"
     ]
    }
   ],
   "source": [
    "w, v = LA.eig(A) # ver https://docs.scipy.org/doc/numpy/reference/generated/numpy.linalg.eig.html\n",
    "print(w.shape)\n",
    "print(v.shape)\n",
    "print(\"w = \", w) # w es (2,) ((n,) en general), y cada componente es un autovalor de A LEER que significa (2,)\n",
    "print(\"v = \\n\",v) # v es (2,2) ((n,n) en general), y cada columna es un autovector de A"
   ]
  },
  {
   "cell_type": "code",
   "execution_count": 38,
   "metadata": {},
   "outputs": [
    {
     "name": "stdout",
     "output_type": "stream",
     "text": [
      "[[-0.74081473]\n",
      " [ 0.67170941]]\n",
      "0.9999999999999999\n",
      "[[-0.38922095]\n",
      " [-0.92114443]]\n",
      "0.9999999999999999\n",
      "[[-2.91181238]\n",
      " [-2.91181238]]\n",
      "[[0.17965362]\n",
      " [0.17965362]]\n"
     ]
    }
   ],
   "source": [
    "AutoV1_A = v[:, [0]]\n",
    "AutoV2_A = v[:, [1]]\n",
    "print(AutoV1_A)\n",
    "print(LA.norm(AutoV1_A))\n",
    "print(AutoV2_A)\n",
    "print(LA.norm(AutoV2_A))\n",
    "print(np.dot(A,AutoV1_A)/AutoV1_A) # comprobamos que AutoV1_A es un autovector de A\n",
    "                                   # con autovalor w[0]. (division por vector es comp. a comp.)\n",
    "print(np.dot(A,AutoV2_A)/AutoV2_A) "
   ]
  },
  {
   "cell_type": "code",
   "execution_count": 39,
   "metadata": {},
   "outputs": [
    {
     "name": "stdout",
     "output_type": "stream",
     "text": [
      "[[-0.33040077]]\n"
     ]
    }
   ],
   "source": [
    "# Comprovar visualmente en Geogebra que no son en general ortogonales\n",
    "print(np.dot(np.transpose(AutoV1_A),AutoV2_A))"
   ]
  },
  {
   "cell_type": "code",
   "execution_count": 50,
   "metadata": {},
   "outputs": [
    {
     "name": "stdout",
     "output_type": "stream",
     "text": [
      "[[-3.78216035e-01 -4.48581721e-01  4.19183232e-01 ...  1.01338678e-03\n",
      "   3.65434666e-01  9.38955923e-02]\n",
      " [-4.48581721e-01  1.57620680e+00  3.12437016e-02 ... -1.78234072e-01\n",
      "   1.82739552e+00 -1.63114215e-01]\n",
      " [ 4.19183232e-01  3.12437016e-02 -5.33634631e-01 ...  1.09161297e+00\n",
      "  -9.11148962e-01  6.85164780e-01]\n",
      " ...\n",
      " [ 1.01338678e-03 -1.78234072e-01  1.09161297e+00 ... -1.18355242e+00\n",
      "   2.01529367e-01  5.16667927e-01]\n",
      " [ 3.65434666e-01  1.82739552e+00 -9.11148962e-01 ...  2.01529367e-01\n",
      "   8.24222835e-01 -7.86483317e-02]\n",
      " [ 9.38955923e-02 -1.63114215e-01  6.85164780e-01 ...  5.16667927e-01\n",
      "  -7.86483317e-02 -5.50373158e-01]]\n"
     ]
    }
   ],
   "source": [
    "# A = (A + A^T)/2 + (A - A^T)/2, (A + A^T)/2 es simetrica, (A - A^T)/2 antisimetrica\n",
    "As = (A + np.transpose(A))/2\n",
    "print(As)"
   ]
  },
  {
   "cell_type": "code",
   "execution_count": 51,
   "metadata": {},
   "outputs": [
    {
     "name": "stdout",
     "output_type": "stream",
     "text": [
      "[-14.31579688  13.31371423 -13.25216422 -12.71227107  12.50145794\n",
      "  11.96748364  11.67497359 -12.17413918 -11.94350037 -11.66977862\n",
      "  11.39243805  11.04551339  10.64049593  10.1962359    9.98422348\n",
      "   9.87365919 -11.12171265 -10.91368568 -10.71482665 -10.48615919\n",
      " -10.27563298  -9.54216456  -9.3987075   -9.64871625   9.01698316\n",
      "   8.94559493   8.67794278   8.51467475  -9.06063275   8.16818208\n",
      "   7.98301781  -8.71116302  -8.4198165    7.55563853  -8.28454581\n",
      "  -7.99171849   7.35602014   6.97851745   6.91402451   6.82876389\n",
      "  -7.7213453   -7.47485912  -7.20544235   6.29984384   5.85084989\n",
      "   5.77707071  -6.80580209  -6.6121799   -6.45715005  -6.22824361\n",
      "   5.38720493  -5.9261272    5.00871261   5.13940125   4.68120566\n",
      "   4.63047715  -5.47445508   4.32379902   4.41062085  -5.23090615\n",
      "  -5.03827753  -4.73876929   3.80909792  -4.63161471   3.67955948\n",
      "  -4.25707743  -3.89751346  -3.7935144    3.28824619   2.99440347\n",
      "   2.91287431   2.67856796   2.3197248   -3.49484992  -3.40211912\n",
      "   3.52625353   2.21318503   1.80642379  -2.7910366   -3.12264306\n",
      "  -2.58187595   0.50129352   0.76492853   1.38063771  -3.05552522\n",
      "  -0.03148781   0.0632438    1.10519601  -2.29432212  -0.21051907\n",
      "  -0.64129655  -1.23669775  -1.11888362  -1.78859079  -0.45323238\n",
      "  -1.69737861  -1.47055036   1.5582999    1.03601683  -2.16006819]\n",
      "[[ 0.02825104  0.02215938  0.16876129 ...  0.0057068  -0.0272778\n",
      "  -0.00250586]\n",
      " [ 0.08449883  0.10591876 -0.07326168 ...  0.01989038 -0.04028743\n",
      "   0.00865985]\n",
      " [ 0.1839419  -0.13880928  0.10557929 ... -0.11267136 -0.13403501\n",
      "   0.22541305]\n",
      " ...\n",
      " [-0.13364284 -0.11195177 -0.08739447 ...  0.10336361 -0.12684686\n",
      "   0.01845389]\n",
      " [ 0.00947528  0.19917616 -0.00885917 ... -0.0487732  -0.05287066\n",
      "  -0.13200095]\n",
      " [-0.05345079 -0.1005145  -0.0124814  ...  0.2297861  -0.04444474\n",
      "  -0.12448527]]\n"
     ]
    }
   ],
   "source": [
    "ws, vs = LA.eig(As) \n",
    "print(ws) \n",
    "print(vs)"
   ]
  },
  {
   "cell_type": "code",
   "execution_count": 52,
   "metadata": {},
   "outputs": [
    {
     "name": "stdout",
     "output_type": "stream",
     "text": [
      "[[-2.61222200e-04]\n",
      " [ 1.62595124e-01]\n",
      " [-1.16353840e-01]\n",
      " [ 2.25075621e-02]\n",
      " [ 9.85377767e-02]\n",
      " [-7.70727694e-03]\n",
      " [ 1.68940186e-01]\n",
      " [ 6.41597364e-02]\n",
      " [-3.99022336e-02]\n",
      " [ 1.63069047e-01]\n",
      " [-2.97595801e-01]\n",
      " [ 8.69976146e-02]\n",
      " [-1.57801901e-02]\n",
      " [ 7.89879696e-02]\n",
      " [-1.33948139e-01]\n",
      " [-3.01653662e-02]\n",
      " [ 4.76421288e-02]\n",
      " [-4.24010053e-02]\n",
      " [-9.04850006e-02]\n",
      " [-4.95431084e-02]\n",
      " [-9.36915030e-02]\n",
      " [-7.07586037e-02]\n",
      " [ 1.82411365e-02]\n",
      " [-2.00245116e-01]\n",
      " [-1.45486570e-02]\n",
      " [ 8.91818342e-03]\n",
      " [-1.23927818e-01]\n",
      " [-1.16970342e-01]\n",
      " [-6.68287199e-02]\n",
      " [-1.10382439e-02]\n",
      " [-5.18353462e-02]\n",
      " [ 4.61862252e-02]\n",
      " [-1.87409454e-01]\n",
      " [-1.02304626e-01]\n",
      " [-4.82162456e-02]\n",
      " [-3.88759055e-02]\n",
      " [-3.08803091e-02]\n",
      " [ 5.53935089e-02]\n",
      " [ 5.16990861e-02]\n",
      " [-2.02838729e-02]\n",
      " [ 1.57100223e-01]\n",
      " [ 9.94641127e-02]\n",
      " [-1.64257686e-01]\n",
      " [-9.72943665e-02]\n",
      " [-2.06541556e-01]\n",
      " [ 9.75521398e-04]\n",
      " [ 4.83660262e-02]\n",
      " [ 7.11101713e-02]\n",
      " [-7.67672429e-02]\n",
      " [ 1.86407122e-01]\n",
      " [ 1.07961553e-01]\n",
      " [ 8.73477370e-02]\n",
      " [-5.10168568e-02]\n",
      " [ 6.80161525e-02]\n",
      " [ 9.08195386e-03]\n",
      " [-7.64076482e-02]\n",
      " [ 8.58517695e-02]\n",
      " [-5.90832759e-02]\n",
      " [ 1.90545962e-02]\n",
      " [-6.63231270e-02]\n",
      " [-5.27049149e-02]\n",
      " [ 8.30452518e-02]\n",
      " [ 6.49399622e-02]\n",
      " [ 1.60565222e-01]\n",
      " [-8.97698048e-02]\n",
      " [-1.26076603e-01]\n",
      " [ 1.35086854e-01]\n",
      " [ 1.63357744e-02]\n",
      " [-5.94624740e-02]\n",
      " [ 1.60023423e-02]\n",
      " [-9.12044411e-02]\n",
      " [-8.80103861e-02]\n",
      " [ 9.00223267e-04]\n",
      " [-4.84617984e-02]\n",
      " [ 9.26579019e-02]\n",
      " [-1.27479654e-01]\n",
      " [ 6.62978705e-02]\n",
      " [-9.57746269e-02]\n",
      " [ 4.55515780e-02]\n",
      " [ 5.30270455e-02]\n",
      " [ 2.38723503e-01]\n",
      " [ 6.24792466e-04]\n",
      " [-1.50682489e-03]\n",
      " [ 1.06450407e-01]\n",
      " [-2.10313006e-02]\n",
      " [-5.20030747e-03]\n",
      " [ 3.96360283e-02]\n",
      " [ 7.53036440e-02]\n",
      " [-1.12363846e-02]\n",
      " [-1.82533262e-01]\n",
      " [-3.44790480e-02]\n",
      " [-1.05664667e-01]\n",
      " [-1.29900548e-01]\n",
      " [-4.02223870e-02]\n",
      " [ 2.33541461e-01]\n",
      " [ 1.06137642e-01]\n",
      " [-8.06849223e-02]\n",
      " [ 4.05788256e-03]\n",
      " [ 1.75191531e-01]\n",
      " [-4.97564070e-02]]\n",
      "[[ 0.00091625]\n",
      " [-0.02325957]\n",
      " [ 0.06855905]\n",
      " [-0.15161331]\n",
      " [-0.03365886]\n",
      " [ 0.192062  ]\n",
      " [ 0.08872803]\n",
      " [ 0.21918671]\n",
      " [ 0.09522783]\n",
      " [-0.02134958]\n",
      " [ 0.07720404]\n",
      " [ 0.10027703]\n",
      " [-0.06037244]\n",
      " [ 0.08710121]\n",
      " [-0.11326263]\n",
      " [ 0.15677316]\n",
      " [-0.08308086]\n",
      " [-0.06518864]\n",
      " [-0.02767755]\n",
      " [-0.02086346]\n",
      " [ 0.11662434]\n",
      " [ 0.03896149]\n",
      " [-0.08789867]\n",
      " [-0.25269089]\n",
      " [-0.25079704]\n",
      " [ 0.05141889]\n",
      " [ 0.01132638]\n",
      " [ 0.05913968]\n",
      " [ 0.04411836]\n",
      " [-0.06525036]\n",
      " [ 0.07817862]\n",
      " [-0.03276537]\n",
      " [-0.02194772]\n",
      " [ 0.01007733]\n",
      " [ 0.08822919]\n",
      " [-0.14043611]\n",
      " [-0.08137249]\n",
      " [-0.10260882]\n",
      " [-0.05602289]\n",
      " [-0.0149603 ]\n",
      " [ 0.02250246]\n",
      " [ 0.07214101]\n",
      " [ 0.01694891]\n",
      " [ 0.00186997]\n",
      " [ 0.04612242]\n",
      " [-0.06266752]\n",
      " [-0.17972098]\n",
      " [ 0.18319585]\n",
      " [ 0.00317972]\n",
      " [-0.00814635]\n",
      " [-0.08375993]\n",
      " [-0.06376844]\n",
      " [ 0.08766194]\n",
      " [-0.0194392 ]\n",
      " [ 0.16138107]\n",
      " [-0.09839435]\n",
      " [-0.05713293]\n",
      " [-0.02064384]\n",
      " [-0.04138086]\n",
      " [ 0.00070946]\n",
      " [-0.03938231]\n",
      " [-0.06003687]\n",
      " [ 0.1596674 ]\n",
      " [-0.15704668]\n",
      " [ 0.17774872]\n",
      " [-0.1316595 ]\n",
      " [-0.05681827]\n",
      " [ 0.11559706]\n",
      " [-0.18173795]\n",
      " [-0.10130681]\n",
      " [ 0.16147361]\n",
      " [-0.00154923]\n",
      " [ 0.01457872]\n",
      " [-0.09736131]\n",
      " [-0.04070428]\n",
      " [-0.10362229]\n",
      " [ 0.08995453]\n",
      " [ 0.09512476]\n",
      " [ 0.08999048]\n",
      " [ 0.00767458]\n",
      " [ 0.05909147]\n",
      " [ 0.19047741]\n",
      " [ 0.07957717]\n",
      " [ 0.01285413]\n",
      " [ 0.02348948]\n",
      " [ 0.00581914]\n",
      " [ 0.19620606]\n",
      " [ 0.0546677 ]\n",
      " [ 0.02937616]\n",
      " [ 0.03805595]\n",
      " [-0.00570538]\n",
      " [ 0.08002452]\n",
      " [-0.10214738]\n",
      " [-0.19790639]\n",
      " [ 0.00893249]\n",
      " [ 0.03553184]\n",
      " [ 0.10990738]\n",
      " [-0.04167292]\n",
      " [-0.18697775]\n",
      " [-0.02801184]]\n",
      "[[-2.30718222e-16]]\n"
     ]
    }
   ],
   "source": [
    "AutoV1_As = vs[:, [53]]\n",
    "AutoV2_As = vs[:, [65]]\n",
    "print(AutoV1_As)\n",
    "print(AutoV2_As)\n",
    "print(np.dot(np.transpose(AutoV1_As),AutoV2_As)) # Los autovectores de una matriz simetrica\n",
    "                                                 # son ortogonales entre si"
   ]
  },
  {
   "cell_type": "code",
   "execution_count": null,
   "metadata": {},
   "outputs": [],
   "source": [
    "\"\"\"Entender lo hecho en este JN y visualizar todo en Geogebra (o si pueden en Python Spyder 3-D).\n",
    "Cuando el sisema de ecuaciones tiene una unica solucion, cuando tiene muchas, etc.\"\"\""
   ]
  }
 ],
 "metadata": {
  "kernelspec": {
   "display_name": "POO-env",
   "language": "python",
   "name": "python3"
  },
  "language_info": {
   "codemirror_mode": {
    "name": "ipython",
    "version": 3
   },
   "file_extension": ".py",
   "mimetype": "text/x-python",
   "name": "python",
   "nbconvert_exporter": "python",
   "pygments_lexer": "ipython3",
   "version": "3.11.5"
  }
 },
 "nbformat": 4,
 "nbformat_minor": 2
}
