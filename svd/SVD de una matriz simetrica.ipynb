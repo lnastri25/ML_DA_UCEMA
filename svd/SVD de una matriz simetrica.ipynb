{
 "cells": [
  {
   "cell_type": "code",
   "execution_count": 1,
   "metadata": {},
   "outputs": [],
   "source": [
    "import numpy as np\n",
    "from numpy import linalg as LA\n",
    "\n",
    "\n",
    "import scipy\n",
    "from scipy import linalg\n",
    "from scipy import stats\n",
    "\n",
    "%matplotlib inline\n",
    "import matplotlib as mpl\n",
    "import matplotlib.pyplot as plt\n",
    "\n",
    "from sklearn.utils.extmath import randomized_svd # esta funcion vamos a usar"
   ]
  },
  {
   "cell_type": "code",
   "execution_count": 2,
   "metadata": {},
   "outputs": [
    {
     "data": {
      "text/plain": [
       "array([[-1.92090359,  1.94043523, -0.21528529],\n",
       "       [-0.54848798, -0.09936518,  0.91625954],\n",
       "       [ 0.80020669, -1.27768637, -2.32075618]])"
      ]
     },
     "execution_count": 2,
     "metadata": {},
     "output_type": "execute_result"
    }
   ],
   "source": [
    "n=3\n",
    "M = np.random.randn(n,n)\n",
    "M"
   ]
  },
  {
   "cell_type": "code",
   "execution_count": 3,
   "metadata": {},
   "outputs": [
    {
     "data": {
      "text/plain": [
       "array([[-1.92090359,  0.69597362,  0.2924607 ],\n",
       "       [ 0.69597362, -0.09936518, -0.18071341],\n",
       "       [ 0.2924607 , -0.18071341, -2.32075618]])"
      ]
     },
     "execution_count": 3,
     "metadata": {},
     "output_type": "execute_result"
    }
   ],
   "source": [
    "# A es la parte simetrica de M\n",
    "A = (M.T + M)/2\n",
    "A"
   ]
  },
  {
   "cell_type": "code",
   "execution_count": 4,
   "metadata": {},
   "outputs": [
    {
     "name": "stdout",
     "output_type": "stream",
     "text": [
      "autovalores =  [-2.58482197 -1.89480302  0.13860003]\n",
      "autovectores = \n",
      " [[ 0.57608733 -0.75388304 -0.31588566]\n",
      " [-0.21858159  0.23029785 -0.94825365]\n",
      " [-0.78762014 -0.6153237   0.03211329]]\n"
     ]
    }
   ],
   "source": [
    "w,v = LA.eigh(A)\n",
    "print(\"autovalores = \", w)\n",
    "print(\"autovectores = \\n\", v)"
   ]
  },
  {
   "cell_type": "code",
   "execution_count": 6,
   "metadata": {},
   "outputs": [
    {
     "name": "stdout",
     "output_type": "stream",
     "text": [
      "U = \n",
      " [[-0.57608733  0.75388304]\n",
      " [ 0.21858159 -0.23029785]\n",
      " [ 0.78762014  0.6153237 ]]\n",
      "d = \n",
      " [2.58482197 1.89480302]\n",
      "VT = \n",
      " [[ 0.57608733 -0.21858159 -0.78762014]\n",
      " [-0.75388304  0.23029785 -0.6153237 ]]\n"
     ]
    }
   ],
   "source": [
    "U, d, VT = randomized_svd(A, n_components = 2, random_state=0)\n",
    "print(\"U = \\n\", U)\n",
    "print(\"d = \\n\", d)\n",
    "print(\"VT = \\n\", VT)"
   ]
  },
  {
   "cell_type": "code",
   "execution_count": 7,
   "metadata": {},
   "outputs": [
    {
     "data": {
      "text/plain": [
       "array([[2.58482197, 0.        ],\n",
       "       [0.        , 1.89480302]])"
      ]
     },
     "execution_count": 7,
     "metadata": {},
     "output_type": "execute_result"
    }
   ],
   "source": [
    "D = np.diag(d)\n",
    "D"
   ]
  },
  {
   "cell_type": "code",
   "execution_count": 8,
   "metadata": {},
   "outputs": [
    {
     "name": "stdout",
     "output_type": "stream",
     "text": [
      "AA = \n",
      " [[-1.93473362  0.65445741  0.29386668]\n",
      " [ 0.65445741 -0.22399225 -0.17649283]\n",
      " [ 0.29386668 -0.17649283 -2.32089912]]\n",
      "A = \n",
      " [[-1.92090359  0.69597362  0.2924607 ]\n",
      " [ 0.69597362 -0.09936518 -0.18071341]\n",
      " [ 0.2924607  -0.18071341 -2.32075618]]\n",
      "Error = \n",
      " [[ 0.01383003  0.04151622 -0.00140598]\n",
      " [ 0.04151622  0.12462707 -0.00422058]\n",
      " [-0.00140598 -0.00422058  0.00014293]]\n"
     ]
    }
   ],
   "source": [
    "AA = np.dot(U, np.dot(D,VT))\n",
    "Error = A - AA\n",
    "print(\"AA = \\n\", AA)\n",
    "print(\"A = \\n\", A)\n",
    "print(\"Error = \\n\", Error)"
   ]
  },
  {
   "cell_type": "code",
   "execution_count": null,
   "metadata": {},
   "outputs": [],
   "source": []
  }
 ],
 "metadata": {
  "kernelspec": {
   "display_name": "Python 3 (ipykernel)",
   "language": "python",
   "name": "python3"
  },
  "language_info": {
   "codemirror_mode": {
    "name": "ipython",
    "version": 3
   },
   "file_extension": ".py",
   "mimetype": "text/x-python",
   "name": "python",
   "nbconvert_exporter": "python",
   "pygments_lexer": "ipython3",
   "version": "3.9.13"
  }
 },
 "nbformat": 4,
 "nbformat_minor": 4
}
