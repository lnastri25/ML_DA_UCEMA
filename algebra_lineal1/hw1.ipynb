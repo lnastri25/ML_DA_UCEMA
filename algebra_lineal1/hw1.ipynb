{
 "cells": [
  {
   "cell_type": "markdown",
   "metadata": {},
   "source": [
    "# Programa 1"
   ]
  },
  {
   "cell_type": "code",
   "execution_count": 18,
   "metadata": {},
   "outputs": [
    {
     "name": "stdout",
     "output_type": "stream",
     "text": [
      "v1: [ 0.8796123   0.59735598 -0.05634248]\n",
      "v2: [-0.79566114 -0.69845452 -0.18559186]\n",
      "v3: [-0.65302359 -0.19372787  0.28392185]\n"
     ]
    }
   ],
   "source": [
    "import numpy as np\n",
    "\n",
    "# Generamos tres vectores 3D con coordenadas aleatorias en el rango [-1, 1]\n",
    "v1 = np.random.uniform(-1, 1, 3)\n",
    "v2 = np.random.uniform(-1, 1, 3)\n",
    "v3 = np.random.uniform(-1, 1, 3)\n",
    "\n",
    "# Mostramos los vectores generados\n",
    "print(\"v1:\", v1)\n",
    "print(\"v2:\", v2)\n",
    "print(\"v3:\", v3)\n"
   ]
  },
  {
   "cell_type": "markdown",
   "metadata": {},
   "source": [
    "# Programa 2"
   ]
  },
  {
   "cell_type": "code",
   "execution_count": 19,
   "metadata": {},
   "outputs": [
    {
     "data": {
      "application/vnd.plotly.v1+json": {
       "config": {
        "plotlyServerURL": "https://plot.ly"
       },
       "data": [
        {
         "line": {
          "color": "red",
          "width": 6
         },
         "marker": {
          "size": 4
         },
         "mode": "lines+markers",
         "name": "v1",
         "type": "scatter3d",
         "x": [
          0,
          0.8796122996045121
         ],
         "y": [
          0,
          0.5973559799427546
         ],
         "z": [
          0,
          -0.0563424834052062
         ]
        },
        {
         "line": {
          "color": "green",
          "width": 6
         },
         "marker": {
          "size": 4
         },
         "mode": "lines+markers",
         "name": "v2",
         "type": "scatter3d",
         "x": [
          0,
          -0.7956611391070023
         ],
         "y": [
          0,
          -0.6984545172689669
         ],
         "z": [
          0,
          -0.1855918574578186
         ]
        },
        {
         "line": {
          "color": "blue",
          "width": 6
         },
         "marker": {
          "size": 4
         },
         "mode": "lines+markers",
         "name": "v3",
         "type": "scatter3d",
         "x": [
          0,
          -0.6530235867274787
         ],
         "y": [
          0,
          -0.1937278708035044
         ],
         "z": [
          0,
          0.28392184648540164
         ]
        },
        {
         "colorscale": [
          [
           0,
           "rgb(255,255,204)"
          ],
          [
           0.125,
           "rgb(255,237,160)"
          ],
          [
           0.25,
           "rgb(254,217,118)"
          ],
          [
           0.375,
           "rgb(254,178,76)"
          ],
          [
           0.5,
           "rgb(253,141,60)"
          ],
          [
           0.625,
           "rgb(252,78,42)"
          ],
          [
           0.75,
           "rgb(227,26,28)"
          ],
          [
           0.875,
           "rgb(189,0,38)"
          ],
          [
           1,
           "rgb(128,0,38)"
          ]
         ],
         "name": "Span de v1 y v2",
         "opacity": 0.5,
         "type": "surface",
         "x": {
          "bdata": "IE3MwNJ9tb8AdzGXdYy8P8nOy3uvpdM/6Z/lyCAU4D9tWOXTaVXmP/MQ5d6yluw/u2Ty9P1r8T/9QHJ6ooz0P0Ad8v9Grfc/gvlxhevN+j/suAqfXrDQv5AfLSQyt7C/SlLoGYupwD8umvOiV9fUP5uFedz0rOA/IT555z3u5j+k9njyhi/tP5RXvP5nuPE/1jM8hAzZ9D8ZELwJsfn3P49e4o1IAdy/DtvF72z9zr/w4xsPI+GnvxbpN2jbDMM/lGUbyv8I1j9Paw3wyEXhP9IjDfsRh+c/VtwMBlvI7T9uSoYI0gTyP7AmBo52JfU/GQJdPhmp478qk7pmoM/av0JEdqEcmsy/gBG7q8OnnL/if4e2K3DFP/swQ/GnOtc/AVGhA53e4T+ECaEO5h/oPwrCoBkvYe4/SD1QEjxR8j/r1Mg1jlHpv2ccySpFEOO/xMeSP/id2b93rSZTzDbKv1i2fHKCGoO/sBbXBHzTxz9e/GoYUGzYP7M2NRdxd+I/OO80Irq46D+9pzQtA/ruP72nNC0D+u6/Oe80Irq46L+1NjUXcXfiv2D8ahhQbNi/sBbXBHzTx79YtnxyghqDP3OtJlPMNso/wMeSP/id2T9mHMkqRRDjP+vUyDWOUek/Rz1QEjxR8r8KwqAZL2Huv4YJoQ7mH+i/AVGhA53e4b/5MEPxpzrXv95/h7YrcMW/gBG7q8OnnD8+RHahHJrMPyqTumagz9o/GgJdPhmp4z+wJgaOdiX1v25KhgjSBPK/VtwMBlvI7b/SIw37EYfnv05rDfDIReG/kWUbyv8I1r8U6Tdo2wzDv+jjGw8j4ac/ENvF72z9zj+SXuKNSAHcPxkQvAmx+fe/1zM8hAzZ9L+VV7z+Z7jxv6X2ePKGL+2/IT555z3u5r+bhXnc9KzgvzCa86JX19S/UlLoGYupwL+IHy0kMrewP+y4Cp9esNA/gvlxhevN+r9AHfL/Rq33v/5AcnqijPS/vGTy9P1r8b/zEOXespbsv21Y5dNpVea/6p/lyCAU4L/Nzst7r6XTvwh3MZd1jLy/IE3MwNJ9tT8=",
          "dtype": "f8",
          "shape": "10, 10"
         },
         "y": {
          "bdata": "AFF9/5fhuT8ouUpBnO7NP+lka0E2dtc/PW0xYh713z/JuntBAzrkP/O+3lF3eeg/HcNBYuu47D+jY1K5L3zwP7jlg8Hpm/I/zme1yaO79D8Q4VBcxrSrv8iw71Q9IbQ/DukD7G4Oyz/b/MeWHwbWPy8FjrcHhd4/wgYq7PeB4z/sCo38a8HnPxYP8AzgAOw/oImpDiog8D+2C9sW5D/yPwoZ5y0vy8q/xBC22L2as78gIcRUxcGsP/AYvZZBLsg/zJQk7AiW1D8ineoM8RTdP7pS2JbsyeI/5FY7p2AJ5z8OW5631EjrPzpfAchIiO8/6PxcYpZU178n6S2DXKvNv/qwQ4MYW7m/rOCo/w9BoT/USHZBFE7FP78sgUHyJdM/EjVHYtqk2z+znoZB4RHiP92i6VFVUeY/CKdMYsmQ6j+lNuOWyqHgv/ZkAA2txNi/oVw67MRF0L80UdEtcxu/v+iANqpqAYc/ungv7OZtwj+wxN2W27XRPwPNo7fDNNo/rOo07NVZ4T/X7pf8SZnlP9ful/xJmeW/reo07NVZ4b8FzaO3wzTav7HE3ZbbtdG/ungv7OZtwr/ogDaqagGHvzBR0S1zG78/n1w67MRF0D/0ZAANrcTYP6U245bKoeA/CKdMYsmQ6r/eoulRVVHmv7OehkHhEeK/EjVHYtqk27++LIFB8iXTv9BIdkEUTsW/qOCo/w9Bob/4sEODGFu5PybpLYNcq80/6fxcYpZU1z84XwHISIjvvw5bnrfUSOu/5FY7p2AJ57+6UtiW7Mnivx+d6gzxFN2/yZQk7AiW1L/sGL2WQS7IvxghxFTFway/yBC22L2asz8QGectL8vKP7UL2xbkP/K/oImpDiog8L8WD/AM4ADsv+wKjfxrwee/wQYq7PeB478tBY63B4Xev9r8x5YfBta/DukD7G4Oy7/IsO9UPSG0vyDhUFzGtKs/zme1yaO79L+55YPB6Zvyv6RjUrkvfPC/HsNBYuu47L/zvt5Rd3nov8m6e0EDOuS/Pm0xYh7137/rZGtBNnbXvyy5SkGc7s2/AFF9/5fhub8=",
          "dtype": "f8",
          "shape": "10, 10"
         },
         "z": {
          "bdata": "6JvkWLT3zj/NL35Ybl3NP7PDF1gow8s/mFexV+Ioyj9960pXnI7IP2N/5FZW9MY/SBN+VhBaxT8upxdWyr/DPxM7sVWEJcI/+M5KVT6LwD+Wc6YMRLDJP3sHQAz+Fcg/YZvZC7h7xj9GL3MLcuHEPyvDDAssR8M/EVemCuaswT/26j8KoBLAP7j9shO08Lw/giXmEii8uT9MTRkSnIe2P0RLaMDTaMQ/Kt8BwI3Owj8Pc5u/RzTBP+kNan4DNL8/tDWdfXf/uz9+XdB868q4P0mFA3xflrU/FK02e9Nhsj+9qdP0jlquP1L5OfN28ac/5kVU6MZCvj+wbYfnOg67P3yVuuau2bc/Rr3t5SKltD8R5SDllnCxP7YZqMgVeKw/TGkOx/0Opj/GcemKy0ufP+4QtoebeZI/YMAKEq6ddj9C9ddP5rOzPw0dC09af7A/sIl8nJyVqj9G2eKahCykP7ZRkjLZhps/veG9XlJpjT+wALnCkideP5ChD65t34W/oDE72ubBl787SbduC0qivztJt24LSqI/oDE72ubBlz+YoQ+ubd+FP5AAucKSJ16/veG9XlJpjb+2UZIy2Yabv0TZ4pqELKS/rol8nJyVqr8NHQtPWn+wv0L110/ms7O/SMAKEq6ddr/oELaHm3mSv7xx6YrLS5+/SGkOx/0Opr+zGajIFXisvw/lIOWWcLG/RL3t5SKltL95lbrmrtm3v69th+c6Dru/5EVU6MZCvr9M+TnzdvGnv7ep0/SOWq6/EK02e9Nhsr9GhQN8X5a1v3td0Hzryri/sTWdfXf/u7/mDWp+AzS/vw1zm79HNMG/KN8BwI3Owr9DS2jA02jEv0xNGRKch7a/giXmEii8ub+2/bITtPC8v/bqPwqgEsC/EVemCuaswb8rwwwLLEfDv0Yvcwty4cS/YJvZC7h7xr97B0AM/hXIv5ZzpgxEsMm/+M5KVT6LwL8TO7FVhCXCvy2nF1bKv8O/SBN+VhBaxb9jf+RWVvTGv33rSlecjsi/mFexV+Ioyr+ywxdYKMPLv80vflhuXc2/6JvkWLT3zr8=",
          "dtype": "f8",
          "shape": "10, 10"
         }
        }
       ],
       "layout": {
        "scene": {
         "xaxis": {
          "title": {
           "text": "X"
          }
         },
         "yaxis": {
          "title": {
           "text": "Y"
          }
         },
         "zaxis": {
          "title": {
           "text": "Z"
          }
         }
        },
        "template": {
         "data": {
          "bar": [
           {
            "error_x": {
             "color": "#2a3f5f"
            },
            "error_y": {
             "color": "#2a3f5f"
            },
            "marker": {
             "line": {
              "color": "#E5ECF6",
              "width": 0.5
             },
             "pattern": {
              "fillmode": "overlay",
              "size": 10,
              "solidity": 0.2
             }
            },
            "type": "bar"
           }
          ],
          "barpolar": [
           {
            "marker": {
             "line": {
              "color": "#E5ECF6",
              "width": 0.5
             },
             "pattern": {
              "fillmode": "overlay",
              "size": 10,
              "solidity": 0.2
             }
            },
            "type": "barpolar"
           }
          ],
          "carpet": [
           {
            "aaxis": {
             "endlinecolor": "#2a3f5f",
             "gridcolor": "white",
             "linecolor": "white",
             "minorgridcolor": "white",
             "startlinecolor": "#2a3f5f"
            },
            "baxis": {
             "endlinecolor": "#2a3f5f",
             "gridcolor": "white",
             "linecolor": "white",
             "minorgridcolor": "white",
             "startlinecolor": "#2a3f5f"
            },
            "type": "carpet"
           }
          ],
          "choropleth": [
           {
            "colorbar": {
             "outlinewidth": 0,
             "ticks": ""
            },
            "type": "choropleth"
           }
          ],
          "contour": [
           {
            "colorbar": {
             "outlinewidth": 0,
             "ticks": ""
            },
            "colorscale": [
             [
              0,
              "#0d0887"
             ],
             [
              0.1111111111111111,
              "#46039f"
             ],
             [
              0.2222222222222222,
              "#7201a8"
             ],
             [
              0.3333333333333333,
              "#9c179e"
             ],
             [
              0.4444444444444444,
              "#bd3786"
             ],
             [
              0.5555555555555556,
              "#d8576b"
             ],
             [
              0.6666666666666666,
              "#ed7953"
             ],
             [
              0.7777777777777778,
              "#fb9f3a"
             ],
             [
              0.8888888888888888,
              "#fdca26"
             ],
             [
              1,
              "#f0f921"
             ]
            ],
            "type": "contour"
           }
          ],
          "contourcarpet": [
           {
            "colorbar": {
             "outlinewidth": 0,
             "ticks": ""
            },
            "type": "contourcarpet"
           }
          ],
          "heatmap": [
           {
            "colorbar": {
             "outlinewidth": 0,
             "ticks": ""
            },
            "colorscale": [
             [
              0,
              "#0d0887"
             ],
             [
              0.1111111111111111,
              "#46039f"
             ],
             [
              0.2222222222222222,
              "#7201a8"
             ],
             [
              0.3333333333333333,
              "#9c179e"
             ],
             [
              0.4444444444444444,
              "#bd3786"
             ],
             [
              0.5555555555555556,
              "#d8576b"
             ],
             [
              0.6666666666666666,
              "#ed7953"
             ],
             [
              0.7777777777777778,
              "#fb9f3a"
             ],
             [
              0.8888888888888888,
              "#fdca26"
             ],
             [
              1,
              "#f0f921"
             ]
            ],
            "type": "heatmap"
           }
          ],
          "histogram": [
           {
            "marker": {
             "pattern": {
              "fillmode": "overlay",
              "size": 10,
              "solidity": 0.2
             }
            },
            "type": "histogram"
           }
          ],
          "histogram2d": [
           {
            "colorbar": {
             "outlinewidth": 0,
             "ticks": ""
            },
            "colorscale": [
             [
              0,
              "#0d0887"
             ],
             [
              0.1111111111111111,
              "#46039f"
             ],
             [
              0.2222222222222222,
              "#7201a8"
             ],
             [
              0.3333333333333333,
              "#9c179e"
             ],
             [
              0.4444444444444444,
              "#bd3786"
             ],
             [
              0.5555555555555556,
              "#d8576b"
             ],
             [
              0.6666666666666666,
              "#ed7953"
             ],
             [
              0.7777777777777778,
              "#fb9f3a"
             ],
             [
              0.8888888888888888,
              "#fdca26"
             ],
             [
              1,
              "#f0f921"
             ]
            ],
            "type": "histogram2d"
           }
          ],
          "histogram2dcontour": [
           {
            "colorbar": {
             "outlinewidth": 0,
             "ticks": ""
            },
            "colorscale": [
             [
              0,
              "#0d0887"
             ],
             [
              0.1111111111111111,
              "#46039f"
             ],
             [
              0.2222222222222222,
              "#7201a8"
             ],
             [
              0.3333333333333333,
              "#9c179e"
             ],
             [
              0.4444444444444444,
              "#bd3786"
             ],
             [
              0.5555555555555556,
              "#d8576b"
             ],
             [
              0.6666666666666666,
              "#ed7953"
             ],
             [
              0.7777777777777778,
              "#fb9f3a"
             ],
             [
              0.8888888888888888,
              "#fdca26"
             ],
             [
              1,
              "#f0f921"
             ]
            ],
            "type": "histogram2dcontour"
           }
          ],
          "mesh3d": [
           {
            "colorbar": {
             "outlinewidth": 0,
             "ticks": ""
            },
            "type": "mesh3d"
           }
          ],
          "parcoords": [
           {
            "line": {
             "colorbar": {
              "outlinewidth": 0,
              "ticks": ""
             }
            },
            "type": "parcoords"
           }
          ],
          "pie": [
           {
            "automargin": true,
            "type": "pie"
           }
          ],
          "scatter": [
           {
            "fillpattern": {
             "fillmode": "overlay",
             "size": 10,
             "solidity": 0.2
            },
            "type": "scatter"
           }
          ],
          "scatter3d": [
           {
            "line": {
             "colorbar": {
              "outlinewidth": 0,
              "ticks": ""
             }
            },
            "marker": {
             "colorbar": {
              "outlinewidth": 0,
              "ticks": ""
             }
            },
            "type": "scatter3d"
           }
          ],
          "scattercarpet": [
           {
            "marker": {
             "colorbar": {
              "outlinewidth": 0,
              "ticks": ""
             }
            },
            "type": "scattercarpet"
           }
          ],
          "scattergeo": [
           {
            "marker": {
             "colorbar": {
              "outlinewidth": 0,
              "ticks": ""
             }
            },
            "type": "scattergeo"
           }
          ],
          "scattergl": [
           {
            "marker": {
             "colorbar": {
              "outlinewidth": 0,
              "ticks": ""
             }
            },
            "type": "scattergl"
           }
          ],
          "scattermap": [
           {
            "marker": {
             "colorbar": {
              "outlinewidth": 0,
              "ticks": ""
             }
            },
            "type": "scattermap"
           }
          ],
          "scattermapbox": [
           {
            "marker": {
             "colorbar": {
              "outlinewidth": 0,
              "ticks": ""
             }
            },
            "type": "scattermapbox"
           }
          ],
          "scatterpolar": [
           {
            "marker": {
             "colorbar": {
              "outlinewidth": 0,
              "ticks": ""
             }
            },
            "type": "scatterpolar"
           }
          ],
          "scatterpolargl": [
           {
            "marker": {
             "colorbar": {
              "outlinewidth": 0,
              "ticks": ""
             }
            },
            "type": "scatterpolargl"
           }
          ],
          "scatterternary": [
           {
            "marker": {
             "colorbar": {
              "outlinewidth": 0,
              "ticks": ""
             }
            },
            "type": "scatterternary"
           }
          ],
          "surface": [
           {
            "colorbar": {
             "outlinewidth": 0,
             "ticks": ""
            },
            "colorscale": [
             [
              0,
              "#0d0887"
             ],
             [
              0.1111111111111111,
              "#46039f"
             ],
             [
              0.2222222222222222,
              "#7201a8"
             ],
             [
              0.3333333333333333,
              "#9c179e"
             ],
             [
              0.4444444444444444,
              "#bd3786"
             ],
             [
              0.5555555555555556,
              "#d8576b"
             ],
             [
              0.6666666666666666,
              "#ed7953"
             ],
             [
              0.7777777777777778,
              "#fb9f3a"
             ],
             [
              0.8888888888888888,
              "#fdca26"
             ],
             [
              1,
              "#f0f921"
             ]
            ],
            "type": "surface"
           }
          ],
          "table": [
           {
            "cells": {
             "fill": {
              "color": "#EBF0F8"
             },
             "line": {
              "color": "white"
             }
            },
            "header": {
             "fill": {
              "color": "#C8D4E3"
             },
             "line": {
              "color": "white"
             }
            },
            "type": "table"
           }
          ]
         },
         "layout": {
          "annotationdefaults": {
           "arrowcolor": "#2a3f5f",
           "arrowhead": 0,
           "arrowwidth": 1
          },
          "autotypenumbers": "strict",
          "coloraxis": {
           "colorbar": {
            "outlinewidth": 0,
            "ticks": ""
           }
          },
          "colorscale": {
           "diverging": [
            [
             0,
             "#8e0152"
            ],
            [
             0.1,
             "#c51b7d"
            ],
            [
             0.2,
             "#de77ae"
            ],
            [
             0.3,
             "#f1b6da"
            ],
            [
             0.4,
             "#fde0ef"
            ],
            [
             0.5,
             "#f7f7f7"
            ],
            [
             0.6,
             "#e6f5d0"
            ],
            [
             0.7,
             "#b8e186"
            ],
            [
             0.8,
             "#7fbc41"
            ],
            [
             0.9,
             "#4d9221"
            ],
            [
             1,
             "#276419"
            ]
           ],
           "sequential": [
            [
             0,
             "#0d0887"
            ],
            [
             0.1111111111111111,
             "#46039f"
            ],
            [
             0.2222222222222222,
             "#7201a8"
            ],
            [
             0.3333333333333333,
             "#9c179e"
            ],
            [
             0.4444444444444444,
             "#bd3786"
            ],
            [
             0.5555555555555556,
             "#d8576b"
            ],
            [
             0.6666666666666666,
             "#ed7953"
            ],
            [
             0.7777777777777778,
             "#fb9f3a"
            ],
            [
             0.8888888888888888,
             "#fdca26"
            ],
            [
             1,
             "#f0f921"
            ]
           ],
           "sequentialminus": [
            [
             0,
             "#0d0887"
            ],
            [
             0.1111111111111111,
             "#46039f"
            ],
            [
             0.2222222222222222,
             "#7201a8"
            ],
            [
             0.3333333333333333,
             "#9c179e"
            ],
            [
             0.4444444444444444,
             "#bd3786"
            ],
            [
             0.5555555555555556,
             "#d8576b"
            ],
            [
             0.6666666666666666,
             "#ed7953"
            ],
            [
             0.7777777777777778,
             "#fb9f3a"
            ],
            [
             0.8888888888888888,
             "#fdca26"
            ],
            [
             1,
             "#f0f921"
            ]
           ]
          },
          "colorway": [
           "#636efa",
           "#EF553B",
           "#00cc96",
           "#ab63fa",
           "#FFA15A",
           "#19d3f3",
           "#FF6692",
           "#B6E880",
           "#FF97FF",
           "#FECB52"
          ],
          "font": {
           "color": "#2a3f5f"
          },
          "geo": {
           "bgcolor": "white",
           "lakecolor": "white",
           "landcolor": "#E5ECF6",
           "showlakes": true,
           "showland": true,
           "subunitcolor": "white"
          },
          "hoverlabel": {
           "align": "left"
          },
          "hovermode": "closest",
          "mapbox": {
           "style": "light"
          },
          "paper_bgcolor": "white",
          "plot_bgcolor": "#E5ECF6",
          "polar": {
           "angularaxis": {
            "gridcolor": "white",
            "linecolor": "white",
            "ticks": ""
           },
           "bgcolor": "#E5ECF6",
           "radialaxis": {
            "gridcolor": "white",
            "linecolor": "white",
            "ticks": ""
           }
          },
          "scene": {
           "xaxis": {
            "backgroundcolor": "#E5ECF6",
            "gridcolor": "white",
            "gridwidth": 2,
            "linecolor": "white",
            "showbackground": true,
            "ticks": "",
            "zerolinecolor": "white"
           },
           "yaxis": {
            "backgroundcolor": "#E5ECF6",
            "gridcolor": "white",
            "gridwidth": 2,
            "linecolor": "white",
            "showbackground": true,
            "ticks": "",
            "zerolinecolor": "white"
           },
           "zaxis": {
            "backgroundcolor": "#E5ECF6",
            "gridcolor": "white",
            "gridwidth": 2,
            "linecolor": "white",
            "showbackground": true,
            "ticks": "",
            "zerolinecolor": "white"
           }
          },
          "shapedefaults": {
           "line": {
            "color": "#2a3f5f"
           }
          },
          "ternary": {
           "aaxis": {
            "gridcolor": "white",
            "linecolor": "white",
            "ticks": ""
           },
           "baxis": {
            "gridcolor": "white",
            "linecolor": "white",
            "ticks": ""
           },
           "bgcolor": "#E5ECF6",
           "caxis": {
            "gridcolor": "white",
            "linecolor": "white",
            "ticks": ""
           }
          },
          "title": {
           "x": 0.05
          },
          "xaxis": {
           "automargin": true,
           "gridcolor": "white",
           "linecolor": "white",
           "ticks": "",
           "title": {
            "standoff": 15
           },
           "zerolinecolor": "white",
           "zerolinewidth": 2
          },
          "yaxis": {
           "automargin": true,
           "gridcolor": "white",
           "linecolor": "white",
           "ticks": "",
           "title": {
            "standoff": 15
           },
           "zerolinecolor": "white",
           "zerolinewidth": 2
          }
         }
        },
        "title": {
         "text": "Vectores y plano del span de v1 y v2"
        }
       }
      }
     },
     "metadata": {},
     "output_type": "display_data"
    }
   ],
   "source": [
    "import plotly.graph_objects as go\n",
    "\n",
    "# Creamos trazos para los vectores (líneas desde el origen hasta cada vector)\n",
    "trace_v1 = go.Scatter3d(\n",
    "    x=[0, v1[0]], y=[0, v1[1]], z=[0, v1[2]],\n",
    "    mode='lines+markers',\n",
    "    line=dict(color='red', width=6),\n",
    "    marker=dict(size=4),\n",
    "    name='v1'\n",
    ")\n",
    "\n",
    "trace_v2 = go.Scatter3d(\n",
    "    x=[0, v2[0]], y=[0, v2[1]], z=[0, v2[2]],\n",
    "    mode='lines+markers',\n",
    "    line=dict(color='green', width=6),\n",
    "    marker=dict(size=4),\n",
    "    name='v2'\n",
    ")\n",
    "\n",
    "trace_v3 = go.Scatter3d(\n",
    "    x=[0, v3[0]], y=[0, v3[1]], z=[0, v3[2]],\n",
    "    mode='lines+markers',\n",
    "    line=dict(color='blue', width=6),\n",
    "    marker=dict(size=4),\n",
    "    name='v3'\n",
    ")\n",
    "\n",
    "# Generamos la malla para el plano definido por el span de v1 y v2\n",
    "s = np.linspace(-1, 1, 10)\n",
    "t = np.linspace(-1, 1, 10)\n",
    "S, T = np.meshgrid(s, t)\n",
    "X_plane = S * v1[0] + T * v2[0]\n",
    "Y_plane = S * v1[1] + T * v2[1]\n",
    "Z_plane = S * v1[2] + T * v2[2]\n",
    "\n",
    "plano = go.Surface(\n",
    "    x=X_plane,\n",
    "    y=Y_plane,\n",
    "    z=Z_plane,\n",
    "    colorscale='YlOrRd',\n",
    "    opacity=0.5,\n",
    "    name='Span de v1 y v2'\n",
    ")\n",
    "\n",
    "# Creamos la figura e incluimos los trazos\n",
    "fig = go.Figure(data=[trace_v1, trace_v2, trace_v3, plano])\n",
    "fig.update_layout(\n",
    "    title='Vectores y plano del span de v1 y v2',\n",
    "    scene=dict(\n",
    "        xaxis_title='X',\n",
    "        yaxis_title='Y',\n",
    "        zaxis_title='Z'\n",
    "    )\n",
    ")\n",
    "\n",
    "fig.show()\n"
   ]
  },
  {
   "cell_type": "markdown",
   "metadata": {},
   "source": [
    "## Razones por las que **v3** no está en el span de **v1** y **v2**\n",
    "\n",
    "- **Condición de coplanaridad:**  \n",
    "  Para que **v3** pertenezca al plano generado por **v1** y **v2**, los tres vectores deben ser *coplanares*. En general, cuando se generan vectores al azar en R^3={(x,y,z)∣x,y,z∈R}, la probabilidad de que sean coplanares es prácticamente cero.\n",
    "\n",
    "- **Independencia lineal:**  \n",
    "  Los vectores aleatorios en R^3={(x,y,z)∣x,y,z∈R} tienden a ser linealmente independientes. Esto significa que no se puede expresar uno de ellos como una combinación lineal de los otros dos. En este caso, **v3** es linealmente independiente de **v1** y **v2**, por lo que no se puede obtener **v3** mediante ninguna combinación de **v1** y **v2**.\n",
    "\n",
    "## Conclusión\n",
    "\n",
    "La observación de que **v3** no se encuentra en el plano del span de **v1** y **v2** se debe a que, en condiciones generales, tres vectores generados aleatoriamente en R^3={(x,y,z)∣x,y,z∈R} son linealmente independientes y, por lo tanto, no coplanares. Solo en casos muy particulares (con una probabilidad casi nula) se podría cumplir la condición necesaria para que **v3** sea una combinación lineal de **v1** y **v2**.\n",
    "\n",
    "Cuando generamos tres vectores aleatorios en un espacio 3D, es altamente improbable que uno de ellos sea una combinación lineal exacta de los otros dos. Matemáticamente, esto se debe a que el span de dos vectores en un espacio 3D es un plano, que tiene dimensión 2, mientras que el espacio completo tiene dimensión 3. La probabilidad de que un punto aleatorio caiga exactamente en un plano específico dentro de un espacio 3D es prácticamente cero, ya que los planos tienen volumen cero en un espacio tridimensional.\n"
   ]
  }
 ],
 "metadata": {
  "kernelspec": {
   "display_name": "Python 3 (ipykernel)",
   "language": "python",
   "name": "python3"
  },
  "language_info": {
   "codemirror_mode": {
    "name": "ipython",
    "version": 3
   },
   "file_extension": ".py",
   "mimetype": "text/x-python",
   "name": "python",
   "nbconvert_exporter": "python",
   "pygments_lexer": "ipython3",
   "version": "3.9.18"
  }
 },
 "nbformat": 4,
 "nbformat_minor": 2
}
