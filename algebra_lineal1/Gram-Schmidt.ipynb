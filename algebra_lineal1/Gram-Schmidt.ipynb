{
 "cells": [
  {
   "cell_type": "code",
   "execution_count": 1,
   "metadata": {},
   "outputs": [],
   "source": [
    "import numpy as np\n",
    "from numpy import linalg as LA  # Notar que importamos linalg con nickname LA"
   ]
  },
  {
   "cell_type": "code",
   "execution_count": 2,
   "metadata": {},
   "outputs": [
    {
     "name": "stdout",
     "output_type": "stream",
     "text": [
      "[[ 0.76432402]\n",
      " [-0.80815736]\n",
      " [ 0.904965  ]]\n"
     ]
    },
    {
     "data": {
      "text/plain": [
       "(3, 1)"
      ]
     },
     "execution_count": 2,
     "metadata": {},
     "output_type": "execute_result"
    }
   ],
   "source": [
    "c1 = 2*(np.random.rand(3,1)-0.5)\n",
    "print(c1)\n",
    "c1.shape"
   ]
  },
  {
   "cell_type": "code",
   "execution_count": 3,
   "metadata": {},
   "outputs": [
    {
     "name": "stdout",
     "output_type": "stream",
     "text": [
      "c1 = [[ 0.31053341]\n",
      " [ 0.00957561]\n",
      " [-0.94442728]]\n",
      "c2 = [[-0.53837369]\n",
      " [ 0.73026656]\n",
      " [ 0.49828707]]\n",
      "c3 = [[-0.89093833]\n",
      " [-0.83693366]\n",
      " [-0.28232906]]\n"
     ]
    }
   ],
   "source": [
    "\"\"\"Queremos entender el proceso de Gram-Schmidt.\"\"\"\n",
    "\n",
    "# Vamos a generar tres vectores al azar\n",
    "# las chances son que van a ser linealmente independientes (Por que?)\n",
    "\n",
    "c1 = 2*(np.random.rand(3,1)-0.5) # c1, c2 y c3 son dos vectores 3x1 con elementos aleatorios en el \n",
    "c2 = 2*(np.random.rand(3,1)-0.5) # rango (-1,1). Pregunta: por que puedo sumar un vector                             \n",
    "c3 = 2*(np.random.rand(3,1)-0.5) # y un escalar? Buscar \"numpy broadcasting\"\n",
    "\n",
    "print(\"c1 =\", c1)\n",
    "print(\"c2 =\", c2)\n",
    "print(\"c3 =\", c3)"
   ]
  },
  {
   "cell_type": "code",
   "execution_count": 4,
   "metadata": {},
   "outputs": [
    {
     "name": "stdout",
     "output_type": "stream",
     "text": [
      "[[-0.61294345]]\n"
     ]
    }
   ],
   "source": [
    "# si queremos chequear que no son linealmente independientes\n",
    "\n",
    "print(np.dot(np.transpose(c1),c2)/(LA.norm(c1)*LA.norm(c2)))\n",
    "# EL producto escalar entre c1 y c2 es c1.c2 = |c1||c2|cos(theta), entonces, \n",
    "# c1.c2/(|c1||c2|) = cos(theta), por lo que si este numero NO es 1 ni -1, sabemos que los\n",
    "# vectores c1 y c2 no son linealmente independientes.\n",
    "# Lo mismo vale para c3\n",
    "# Pero ojo, c3 pudiera no ser proporcional ni a c1 ni a c2 y aun asi ser linealmente dependiente\n",
    "# de ambos"
   ]
  },
  {
   "cell_type": "code",
   "execution_count": 5,
   "metadata": {},
   "outputs": [
    {
     "name": "stdout",
     "output_type": "stream",
     "text": [
      "[[ 0.31233996]\n",
      " [ 0.00963131]\n",
      " [-0.94992157]]\n",
      "[[1.]]\n"
     ]
    }
   ],
   "source": [
    "n1 = c1/LA.norm(c1)          # dividiendo al vector por su magnitud obtenemos un vector\n",
    "                                # en la misma direccion pero de magnitud (o \"norma\") 1.\n",
    "print(n1)\n",
    "print(np.dot(np.transpose(n1),n1))  # chequeamos que su norma es 1 multiplicandolo\n",
    "                                      # escalarmente por si mismo\n"
   ]
  },
  {
   "cell_type": "code",
   "execution_count": 6,
   "metadata": {},
   "outputs": [
    {
     "name": "stdout",
     "output_type": "stream",
     "text": [
      "[[-0.19816591]\n",
      " [-0.00611064]\n",
      " [ 0.60268328]]\n"
     ]
    }
   ],
   "source": [
    "# Ya tenemos el vector n1, que es proporcional a c1, pero de magnitud 1.\n",
    "# Ahora queremos construir el vector n2.\n",
    "# Recordedmos que n2 es tiene que ser ortonormal con n1, y tal que el span de {n1, n2}\n",
    "# sea el mismo que el de {c1, c2}\n",
    "# El mecanismo es: \n",
    "# 1) calculamos la componente de c2 paralela a n1, la llamamos P_c2_n1\n",
    "P_c2_n1 = np.dot(np.transpose(n1),c2)*n1 # la proyeccion del vector c2 sobre el vector n1 es\n",
    "                                              # (c2.n1) n1 \n",
    "                                              # c2.n1 es producto escalar de c2 por n1,\n",
    "                                              # que da la magnitud de la proyeccion de c2 \n",
    "                                              # sobre sobre n1. Luego, al multiplicarlo por n1,\n",
    "                                              # el vector resultante apunta en la direccion de n1\n",
    "                                              # La formula general inluye una division por \n",
    "                                              # (n1.n1)\n",
    "                                              # en este caso no es necesario porque (n1.n1) = 1\n",
    "print(P_c2_n1)"
   ]
  },
  {
   "cell_type": "code",
   "execution_count": 8,
   "metadata": {},
   "outputs": [
    {
     "name": "stdout",
     "output_type": "stream",
     "text": [
      "[[-0.34020778]\n",
      " [ 0.7363772 ]\n",
      " [-0.1043962 ]]\n",
      "[[-5.55111512e-17]]\n"
     ]
    }
   ],
   "source": [
    "# 2) Calculamos la componente de c2 perpendicular a n1.\n",
    "#    A dicha componente la llamamos P_c2_perp_n1 (largo pero explicito... :))\n",
    "# 2_a) Se calcula simplemente restandole a c2 la componente paralela a n1 que \n",
    "#      ya calculamos en el paso 1.\n",
    "#      Naturalmente, P_c2_perp_n1 tiene que ser perpendicular a n1. \n",
    "P_c2_perp_n1 = c2 - P_c2_n1  # la proyeccion del vector c2 perpendicular al vector n1 es\n",
    "                                  # c2 - P_c2_n1\n",
    "print(P_c2_perp_n1)\n",
    "print(np.dot(np.transpose(P_c2_perp_n1),P_c2_n1)) # para chequear la perpendicularidad de\n",
    "                                                      # P_c2_perp_n1 y P_c2_n1\n",
    "                                                      # calculamos su producto escalar"
   ]
  },
  {
   "cell_type": "code",
   "execution_count": 9,
   "metadata": {},
   "outputs": [
    {
     "name": "stdout",
     "output_type": "stream",
     "text": [
      "[[-0.53837369]\n",
      " [ 0.73026656]\n",
      " [ 0.49828707]]\n",
      "[[-0.53837369]\n",
      " [ 0.73026656]\n",
      " [ 0.49828707]]\n"
     ]
    },
    {
     "data": {
      "text/plain": [
       "array([[ True],\n",
       "       [ True],\n",
       "       [ True]])"
      ]
     },
     "execution_count": 9,
     "metadata": {},
     "output_type": "execute_result"
    }
   ],
   "source": [
    "print(c2)                          # Chequamos que c2 = P_c2_n1 + P_c2_perp_n1 de dos maneras\n",
    "print(P_c2_n1 + P_c2_perp_n1)   # 1- Observando numericamente si coinciden\n",
    "c2 == P_c2_n1 + P_c2_perp_n1   # 2- Preguntandole a Python con \"==\"\n",
    "                                    # (ojo con este ultimo metodo porque puede llegar a dar\n",
    "                                    # False por errores que las maquinas siempre cometen)"
   ]
  },
  {
   "cell_type": "code",
   "execution_count": 10,
   "metadata": {},
   "outputs": [
    {
     "name": "stdout",
     "output_type": "stream",
     "text": [
      "[[-0.41597428]\n",
      " [ 0.90037321]\n",
      " [-0.12764592]]\n",
      "[[1.]]\n",
      "[[1.38777878e-16]]\n"
     ]
    }
   ],
   "source": [
    "# 3) Calculamos n2 (que tiene que tener norma 1) simplemente dividiendo a \n",
    "#    P_c2_perp_n1 por su norma.\n",
    "# 3_a) Chequeamos que el conjunto {n1, n2} es ortonormal\n",
    "#\n",
    "n2 = P_c2_perp_n1/LA.norm(P_c2_perp_n1) # Generamos n2, que es el vector de norma = 1\n",
    "print(n2)                                          # perpendicular a n1 \n",
    "print(np.dot(np.transpose(n2),n2))                # El conjunto {n1, n2} es ortonormal y\n",
    "print(np.dot(np.transpose(n1),n2))                # genera el subespacio de R3 en el que \"viven\"\n",
    "                                                   # c1 y c2"
   ]
  },
  {
   "cell_type": "code",
   "execution_count": 11,
   "metadata": {},
   "outputs": [
    {
     "name": "stdout",
     "output_type": "stream",
     "text": [
      "[[-0.0056677 ]\n",
      " [-0.00017477]\n",
      " [ 0.01723723]]\n",
      "[[ 0.14430441]\n",
      " [-0.31234583]\n",
      " [ 0.04428127]]\n"
     ]
    }
   ],
   "source": [
    "# 4) Queremos calcular la componente de c3 perpendicular a n1 y n2 (y por lo tanto,\n",
    "#    tambien perpendicular a c1 y c2)\n",
    "# 4_a) Primero calculamos las componentes de c3 paraleleas a n1 y n2.\n",
    "\n",
    "P_c3_n1 = np.dot(np.transpose(n1),c3)*n1 # Continuamos con el proceso de Gram-Schmidt con\n",
    "P_c3_n2 = np.dot(np.transpose(n2),c3)*n2 # el vector c3. Ahora estamos calculando las\n",
    "print(P_c3_n1)                              # proyecciones de c3 sobre n1 y n2\n",
    "print(P_c3_n2)                          "
   ]
  },
  {
   "cell_type": "code",
   "execution_count": 12,
   "metadata": {},
   "outputs": [
    {
     "name": "stdout",
     "output_type": "stream",
     "text": [
      "[[-1.02957504]\n",
      " [-0.52441306]\n",
      " [-0.34384756]]\n"
     ]
    }
   ],
   "source": [
    "# 4_b) Calculamos la componente de c3 perpendicular a n1 y n2.\n",
    "#      A esto lo hacemos simplemente restando de c3 las componentes paralelas a n1 y a n2\n",
    "\n",
    "P_c3_perp_n1yn2 = c3 - P_c3_n1 - P_c3_n2 # Extraemos la componente de c3 perpendicular al plano\n",
    "                                         # spanned por n1 y n2\n",
    "print(P_c3_perp_n1yn2)                     "
   ]
  },
  {
   "cell_type": "code",
   "execution_count": 14,
   "metadata": {},
   "outputs": [
    {
     "name": "stdout",
     "output_type": "stream",
     "text": [
      "[[-6.9388939e-18]]\n",
      "[[5.55111512e-17]]\n"
     ]
    }
   ],
   "source": [
    "# Por como lo construimos, P_c3_perp_n1yn2 tiene que ser ortogonal a n1 y n2\n",
    "# Comprobemos eso:\n",
    "print(np.dot(np.transpose(n2),P_c3_perp_n1yn2))               \n",
    "print(np.dot(np.transpose(n1),P_c3_perp_n1yn2))"
   ]
  },
  {
   "cell_type": "code",
   "execution_count": 15,
   "metadata": {},
   "outputs": [
    {
     "name": "stdout",
     "output_type": "stream",
     "text": [
      "[[-0.85405454]\n",
      " [-0.43501186]\n",
      " [-0.28522891]]\n",
      "[[1.]]\n"
     ]
    }
   ],
   "source": [
    "# Calculemos entonces el vector proporcional a P_c3_perp_n1yn2 pero normalizado a 1:\n",
    "n3 = P_c3_perp_n1yn2/LA.norm(P_c3_perp_n1yn2)\n",
    "print(n3)\n",
    "# Constatemos que esta normalizado a 1\n",
    "print(np.dot(np.transpose(n3),n3))\n",
    "# Esto finaliza nuestro proceso de construccion de una base ortonormal de R3:\n",
    "# {n1, n2, n3}"
   ]
  },
  {
   "cell_type": "code",
   "execution_count": null,
   "metadata": {},
   "outputs": [],
   "source": [
    "# Resolver HW 5.14 y 5.15, p. 32, de https://ucema.edu.ar/publicaciones/download/documentos/689.pdf"
   ]
  }
 ],
 "metadata": {
  "kernelspec": {
   "display_name": "Python 3",
   "language": "python",
   "name": "python3"
  },
  "language_info": {
   "codemirror_mode": {
    "name": "ipython",
    "version": 3
   },
   "file_extension": ".py",
   "mimetype": "text/x-python",
   "name": "python",
   "nbconvert_exporter": "python",
   "pygments_lexer": "ipython3",
   "version": "3.7.6"
  }
 },
 "nbformat": 4,
 "nbformat_minor": 2
}
