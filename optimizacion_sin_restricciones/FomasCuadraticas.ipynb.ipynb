{
 "cells": [
  {
   "cell_type": "code",
   "execution_count": 5,
   "metadata": {},
   "outputs": [],
   "source": [
    "import numpy as np\n",
    "from numpy import linalg as LA  # Notar que importamos linalg con nickname LA"
   ]
  },
  {
   "cell_type": "code",
   "execution_count": 6,
   "metadata": {},
   "outputs": [
    {
     "name": "stdout",
     "output_type": "stream",
     "text": [
      "[[1 1]\n",
      " [1 0]]\n"
     ]
    }
   ],
   "source": [
    "C = np.array([[1,1],[1,0]])\n",
    "print(C)"
   ]
  },
  {
   "cell_type": "code",
   "execution_count": 7,
   "metadata": {},
   "outputs": [
    {
     "name": "stdout",
     "output_type": "stream",
     "text": [
      "[ 1.61803399 -0.61803399]\n",
      "[[ 0.85065081 -0.52573111]\n",
      " [ 0.52573111  0.85065081]]\n"
     ]
    }
   ],
   "source": [
    "w, v = LA.eig(C) \n",
    "print(w) \n",
    "print(v) "
   ]
  },
  {
   "cell_type": "code",
   "execution_count": 8,
   "metadata": {},
   "outputs": [
    {
     "name": "stdout",
     "output_type": "stream",
     "text": [
      "[[0.85065081]\n",
      " [0.52573111]]\n",
      "[[-0.52573111]\n",
      " [ 0.85065081]]\n"
     ]
    }
   ],
   "source": [
    "AutoV1_C = v[:, [0]]\n",
    "AutoV2_C = v[:, [1]]\n",
    "print(AutoV1_C)\n",
    "print(AutoV2_C)"
   ]
  },
  {
   "cell_type": "code",
   "execution_count": 9,
   "metadata": {},
   "outputs": [
    {
     "name": "stdout",
     "output_type": "stream",
     "text": [
      "[[-0.08724221  0.22529518 -0.47396727  0.2813713 ]\n",
      " [-0.09901549 -0.94496879  0.65211635 -0.69101699]\n",
      " [ 0.80379361 -0.57848534  0.85440773  0.60019601]\n",
      " [ 0.94137448 -0.2967499   0.0744565   0.31870652]]\n",
      "[[-0.08724221 -0.09901549  0.80379361  0.94137448]\n",
      " [ 0.22529518 -0.94496879 -0.57848534 -0.2967499 ]\n",
      " [-0.47396727  0.65211635  0.85440773  0.0744565 ]\n",
      " [ 0.2813713  -0.69101699  0.60019601  0.31870652]]\n"
     ]
    }
   ],
   "source": [
    "# Generamos una matriz A de nxn (n=2 originalmente) al azar y su traspuesta\n",
    "n = 4\n",
    "A = 2*(np.random.rand(n,n)-0.5)  #\n",
    "AT=A.T\n",
    "print(A)\n",
    "print(AT)"
   ]
  },
  {
   "cell_type": "code",
   "execution_count": 10,
   "metadata": {},
   "outputs": [
    {
     "name": "stdout",
     "output_type": "stream",
     "text": [
      "autovalores de A = [ 0.70667116+0.65367699j  0.70667116-0.65367699j -0.28504985+0.j\n",
      " -0.98738923+0.j        ]\n",
      "autovectores de A =\n",
      " [[-0.1878693 +0.2203563j  -0.1878693 -0.2203563j   0.50439628+0.j\n",
      "  -0.18905861+0.j        ]\n",
      " [ 0.15674332-0.22973158j  0.15674332+0.22973158j  0.67166325+0.j\n",
      "   0.89072301+0.j        ]\n",
      " [ 0.81330332+0.j          0.81330332-0.j          0.24121668+0.j\n",
      "   0.25668751+0.j        ]\n",
      " [ 0.20247922+0.36924658j  0.20247922-0.36924658j -0.48607344+0.j\n",
      "   0.32400754+0.j        ]]\n",
      "autovalores de AT = [ 0.70667116+0.65367699j  0.70667116-0.65367699j -0.98738923+0.j\n",
      " -0.28504985+0.j        ]\n",
      "[[-0.64875947+0.j         -0.64875947-0.j          0.22846307+0.j\n",
      "  -0.86516766+0.j        ]\n",
      " [ 0.05985788+0.1476128j   0.05985788-0.1476128j  -0.70927985+0.j\n",
      "  -0.24580483+0.j        ]\n",
      " [ 0.03678484-0.47324897j  0.03678484+0.47324897j  0.33327516+0.j\n",
      "  -0.24294335+0.j        ]\n",
      " [-0.57224769-0.03087898j -0.57224769+0.03087898j -0.57762825+0.j\n",
      "   0.36337781+0.j        ]]\n"
     ]
    }
   ],
   "source": [
    "# Calculamos sus autovectores y autovalores (notar que en general son complejos)\n",
    "wA, vA = LA.eig(A)\n",
    "print(\"autovalores de A =\",wA) \n",
    "print(\"autovectores de A =\\n\",vA) \n",
    "wAT, vAT = LA.eig(AT)\n",
    "print(\"autovalores de AT =\",wAT) \n",
    "print(vAT) "
   ]
  },
  {
   "cell_type": "code",
   "execution_count": 11,
   "metadata": {},
   "outputs": [
    {
     "data": {
      "text/plain": [
       "array([[-0.08724221,  0.06313985,  0.16491317,  0.61137289],\n",
       "       [ 0.06313985, -0.94496879,  0.0368155 , -0.49388344],\n",
       "       [ 0.16491317,  0.0368155 ,  0.85440773,  0.33732626],\n",
       "       [ 0.61137289, -0.49388344,  0.33732626,  0.31870652]])"
      ]
     },
     "execution_count": 11,
     "metadata": {},
     "output_type": "execute_result"
    }
   ],
   "source": [
    "# Tomamos la parte simetrica de A: A = (A + AT)/2 + (A - AT)/2 = A_sim + A_antisim\n",
    "A_sim = (A + AT)/2\n",
    "A_sim"
   ]
  },
  {
   "cell_type": "code",
   "execution_count": 12,
   "metadata": {},
   "outputs": [
    {
     "name": "stdout",
     "output_type": "stream",
     "text": [
      "[-1.195683   -0.36312344  1.20635924  0.49335045]\n",
      "[[ 0.26402755 -0.80597059  0.36213738  0.38672649]\n",
      " [-0.87323978 -0.43108683 -0.11117623 -0.19813198]\n",
      " [ 0.06107947  0.00983949  0.7178714  -0.69342133]\n",
      " [-0.40498277  0.40555977  0.58408648  0.57476361]]\n"
     ]
    }
   ],
   "source": [
    "# calculamos los autovalores, que son reales y los autovectores (ortogonales)\n",
    "wA_sim, vA_sim = LA.eig(A_sim)\n",
    "print(wA_sim) \n",
    "print(vA_sim)"
   ]
  },
  {
   "cell_type": "code",
   "execution_count": 17,
   "metadata": {},
   "outputs": [
    {
     "name": "stdout",
     "output_type": "stream",
     "text": [
      "[[4.4408921e-16]]\n"
     ]
    }
   ],
   "source": [
    "AutoV0_A = vA_sim[:, [0]]\n",
    "AutoV1_A = vA_sim[:, [1]]\n",
    "AutoV2_A = vA_sim[:, [2]]\n",
    "AutoV3_A = vA_sim[:, [3]]\n",
    "\n",
    "print(np.dot(AutoV1_A.T,AutoV3_A))"
   ]
  },
  {
   "cell_type": "markdown",
   "metadata": {},
   "source": [
    "# Trabajo practico"
   ]
  },
  {
   "cell_type": "markdown",
   "metadata": {},
   "source": [
    "1) Comprobar que los autovectores son ortonormales."
   ]
  },
  {
   "cell_type": "markdown",
   "metadata": {},
   "source": [
    "2) Generar un vector $\\mathbf{x} \\in \\mathbb{R}^{n \\times 1}$ al azar, donde $n$ es el mismo $n$ de la matriz simetrica $A_{sim}$ generada unas celdas mas arriba. Si llamamos $\\hat{\\mathbf{a}}_i, i = 1, \\ldots, n$, a los autovectores ortonormales de $A_{sim}$, $A_{sim} \\mathbf{a} = \\lambda_i \\mathbf{a}$, donde $\\lambda_i$ es el correspondiente autovector (real), entonces comprobar que$$\n",
    "\\mathbf{x} = \\sum_{i=1}^n (\\mathbf{a}_i^{\\top}\\mathbf{x}) \\mathbf{a}_i$$\n",
    "Por lo tanto $\\mathbf{a}_i^{\\top}\\mathbf{x}$ es la coordenada i-esima de $\\mathbf{x}$ en la base de autovectores de $A_{sim}$.\n",
    "Generar en vector cuyas coordenadas en la base canonica son $\\mathbf{a}_i^{\\top}\\mathbf{x}$, $$\n",
    "\\left(\n",
    "  \\begin{array}{c}\n",
    "    \\mathbf{a}_0^{\\top}\\mathbf{x} \\\\\n",
    "    \\mathbf{a}_1^{\\top}\\mathbf{x} \\\\\n",
    "    \\mathbf{a}_2^{\\top}\\mathbf{x} \\\\\n",
    "    \\mathbf{a}_3^{\\top}\\mathbf{x} \\\\\n",
    "  \\end{array}\n",
    "\\right)\n",
    "$$"
   ]
  },
  {
   "cell_type": "markdown",
   "metadata": {},
   "source": [
    "3) Construir, para n = 2, la forma cuadratica $f(x)=x^T A_{sim} x$, donde $x = (x_1, x_2)$, es un vector de $\\mathbb{R}^2$. Graficarla en 3-d en Python y Geogebra."
   ]
  },
  {
   "cell_type": "markdown",
   "metadata": {},
   "source": [
    "4) Construir ejes asociados a los autovectores. Comprobar visualmente que son ortogonales.\n",
    "\n",
    "Borrar (en geogebra y Python) los ejes originales y quedarse solo con los ejes correspondiente a los autovectores.\n",
    "\n",
    "Comparar con la superficie del archivo Geogebra \"FormasCuadraticas\", donde explcitamente la forma cuadratica no tiene terminos cruzados.\n",
    "\n",
    "Girar el grafico de modo que convenserse visualmente que en esos ejes la superficie no tiene terminos cruzados.\n",
    "\n",
    "Que rol juegan los autovalores de A_sim en la forma de la superficie?\n",
    "\n",
    "Nuevamente comparar con el archivo Geogebra \"FormasCuadraticas\""
   ]
  },
  {
   "cell_type": "markdown",
   "metadata": {},
   "source": [
    "4) Analiticamente mostrar que si parto de una forma cuadratica en $n$ variables:$$\n",
    "    f(x_1,...,x_n) = \\sum_{i = 1}^n a_i x_i^2 + \\sum_{j < i, i = 2}^n a_{ij} x_i x_j = \\mathbf{x}^{\\top} A \\mathbf{x}, \\quad \\text{donde} \\quad \\mathbf{x} = \\left(\n",
    "                                                             \\begin{array}{c}\n",
    "                                                               x_1 \\\\\n",
    "                                                               \\vdots \\\\\n",
    "                                                               x_n \\\\\n",
    "                                                             \\end{array}\n",
    "                                                           \\right)$$\n",
    "    y $A \\in \\mathbb{R}^{n \\times n}$ es una matriz simetrica con elementos diagonales dados por $a_i$ y no diagonales dados por $a_{ij}/2$."
   ]
  },
  {
   "cell_type": "markdown",
   "metadata": {},
   "source": [
    "5) Supongamos que al vector genérico $\\mathbf{x}$ lo expreso como una combinacion lineal de los $n$ autovectores \n",
    "ortonormalizados de $A$, esto es,$$\n",
    "\\mathbf{x} = \\sum_{i=1}^n b_i \\hat{\\mathbf{a}}_i, \\quad \\text{con} \\quad A \\hat{\\mathbf{a}}_i = \\lambda_i \\hat{\\mathbf{a}}_i,\n",
    "\\quad \\hat{\\mathbf{a}}_i \\cdot \\hat{\\mathbf{a}}_j = \\delta_{ij}$$\n",
    "donde $b_i$ es la coordenada $i-$esima del vector $x$ en la base $\\{ \\hat{\\mathbf{a}}_i \\}$ (ver punto 2) y $\\lambda_i$\n",
    "es el $i-$esimo autovalor de $A$. Mostrar que$$\n",
    "\\mathbf{x}^{\\top} A \\mathbf{x} = \\sum_{i=1}^n \\lambda_i b_i^2$$\n",
    "Es decir que la forma cuadrática $f$, expresada en las coordenadas correspondientes a la base de autovectres de $A$,\n",
    "no tiene términos cruzados! "
   ]
  },
  {
   "cell_type": "markdown",
   "metadata": {},
   "source": [
    "6) En base a lo probado en el punto anterior, explicar de que depende que el origen $\\mathbf{x} = \\mathbf{0}$ sea un maximo, un minimo, o una silla de montar. "
   ]
  },
  {
   "cell_type": "markdown",
   "metadata": {},
   "source": [
    "\n"
   ]
  },
  {
   "cell_type": "markdown",
   "metadata": {},
   "source": [
    "Llamemos U = vA_sim y comprobemos que es una matriz ortogonal, que U.T tambien lo es, y que U(U.T) = (U.T)U=I"
   ]
  },
  {
   "cell_type": "code",
   "execution_count": 20,
   "metadata": {},
   "outputs": [
    {
     "data": {
      "text/plain": [
       "array([[ 1.00000000e+00,  2.49800181e-16, -5.55111512e-17,\n",
       "        -9.71445147e-17],\n",
       "       [ 2.49800181e-16,  1.00000000e+00,  2.22044605e-16,\n",
       "         4.44089210e-16],\n",
       "       [-5.55111512e-17,  2.22044605e-16,  1.00000000e+00,\n",
       "         2.22044605e-16],\n",
       "       [-9.71445147e-17,  4.44089210e-16,  2.22044605e-16,\n",
       "         1.00000000e+00]])"
      ]
     },
     "execution_count": 20,
     "metadata": {},
     "output_type": "execute_result"
    }
   ],
   "source": [
    "U = vA_sim\n",
    "UT = U.T\n",
    "np.dot(UT,U)"
   ]
  },
  {
   "cell_type": "code",
   "execution_count": 27,
   "metadata": {},
   "outputs": [
    {
     "name": "stdout",
     "output_type": "stream",
     "text": [
      "[[ 0.26402755 -0.80597059  0.36213738  0.38672649]\n",
      " [-0.87323978 -0.43108683 -0.11117623 -0.19813198]\n",
      " [ 0.06107947  0.00983949  0.7178714  -0.69342133]\n",
      " [-0.40498277  0.40555977  0.58408648  0.57476361]]\n",
      "[[ 0.36213738]\n",
      " [-0.11117623]\n",
      " [ 0.7178714 ]\n",
      " [ 0.58408648]]\n",
      "(4, 1)\n",
      "[[ 0.06107947  0.00983949  0.7178714  -0.69342133]]\n",
      "(1, 4)\n"
     ]
    }
   ],
   "source": [
    "# Extraemos columnas y filas de U, notar las shapes\n",
    "print(U)\n",
    "print(U[:, [2]])\n",
    "print(U[:, [2]].shape)\n",
    "print(U[[2],:])\n",
    "print(U[[2],:].shape)"
   ]
  },
  {
   "cell_type": "code",
   "execution_count": 34,
   "metadata": {},
   "outputs": [
    {
     "name": "stdout",
     "output_type": "stream",
     "text": [
      "[[-2.77555756e-17]]\n",
      "[[1.]]\n"
     ]
    }
   ],
   "source": [
    "# comprobamos que tanto las columnas como las filas de U son ortonormales\n",
    "print(np.dot(U[:, [2]].T,U[:, [0]])) # las columnas son ortonormales\n",
    "print(np.dot(U[[2],:],U[[2],:].T)) # las fias son ortonormales"
   ]
  },
  {
   "cell_type": "code",
   "execution_count": 36,
   "metadata": {},
   "outputs": [
    {
     "name": "stdout",
     "output_type": "stream",
     "text": [
      "[[-1.19568300e+00 -3.46944695e-16  1.11022302e-16  4.51028104e-17]\n",
      " [-3.88578059e-16 -3.63123437e-01  4.99600361e-16  1.11022302e-16]\n",
      " [ 1.66533454e-16  4.30211422e-16  1.20635924e+00  4.16333634e-16]\n",
      " [ 9.71445147e-17  9.71445147e-17  3.33066907e-16  4.93350447e-01]]\n",
      "[-1.195683   -0.36312344  1.20635924  0.49335045]\n"
     ]
    }
   ],
   "source": [
    "print(np.dot(U.T,np.dot(A_sim,U)))\n",
    "print(wA_sim)"
   ]
  },
  {
   "cell_type": "markdown",
   "metadata": {},
   "source": [
    "Comprobar que:\n",
    "\n",
    "7) Con el mismo vector $\\mathbf{x}$ de la parte 2), comprobar que $U^{\\top} \\mathbf{x}$ es el mismo vector generado en 2), es decir el vector cuyas coordenadas en la base canonica son las coordenadas de $\\mathbf{x}$ en la base de autovectores de $A$."
   ]
  },
  {
   "cell_type": "markdown",
   "metadata": {},
   "source": [
    "8) Comprobar que $\\mathbf{x}^{\\top}U$ es el traspuesto del calculado en 7). "
   ]
  },
  {
   "cell_type": "markdown",
   "metadata": {},
   "source": [
    "9) Comprobar que $U^{\\top}AU$ es una matriz diagonal cuyos elementos diagonales son los autovalores de $A_{sim}$."
   ]
  },
  {
   "cell_type": "code",
   "execution_count": null,
   "metadata": {},
   "outputs": [],
   "source": []
  }
 ],
 "metadata": {
  "kernelspec": {
   "display_name": "POO-env",
   "language": "python",
   "name": "python3"
  },
  "language_info": {
   "codemirror_mode": {
    "name": "ipython",
    "version": 3
   },
   "file_extension": ".py",
   "mimetype": "text/x-python",
   "name": "python",
   "nbconvert_exporter": "python",
   "pygments_lexer": "ipython3",
   "version": "3.11.5"
  }
 },
 "nbformat": 4,
 "nbformat_minor": 2
}
